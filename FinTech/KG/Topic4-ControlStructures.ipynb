{
 "cells": [
  {
   "cell_type": "markdown",
   "metadata": {
    "slideshow": {
     "slide_type": "slide"
    }
   },
   "source": [
    "## Python Program Structure\n",
    "\n",
    "* In a program, statements can perform actions, repeat tasks,\n",
    "make choices, build larger program structures, and so on.\n",
    "\n",
    "* Assignement Statement\n",
    "* Decision Statement\n",
    "* Loop Statement"
   ]
  },
  {
   "cell_type": "markdown",
   "metadata": {
    "slideshow": {
     "slide_type": "slide"
    }
   },
   "source": [
    "## Please describe all steps in doing a job in daily life."
   ]
  },
  {
   "cell_type": "markdown",
   "metadata": {
    "slideshow": {
     "slide_type": "slide"
    }
   },
   "source": [
    "## Decision Structure (判断结构） "
   ]
  },
  {
   "cell_type": "markdown",
   "metadata": {},
   "source": [
    "<big style=\"color:green\"> How to calculate the absolute value of a real number? </big> <br>\n",
    "\n",
    "<p> \n",
    "$$\n",
    "|x| = \\left\\{\n",
    "    \\begin{array}{ll}\n",
    "         x & \\mbox{if $x \\geq 0$};\\\\\n",
    "         -x & \\mbox{if $x < 0$}.\n",
    "\\end{array}\n",
    "\\right.\n",
    "$$\n",
    "<p>\n"
   ]
  },
  {
   "cell_type": "markdown",
   "metadata": {
    "slideshow": {
     "slide_type": "slide"
    }
   },
   "source": [
    "### $\\circ$ General Format"
   ]
  },
  {
   "cell_type": "markdown",
   "metadata": {},
   "source": [
    "![](Fig-If.png)"
   ]
  },
  {
   "cell_type": "markdown",
   "metadata": {
    "slideshow": {
     "slide_type": "slide"
    }
   },
   "source": [
    "### $\\circ$ Decision Structure in Action"
   ]
  },
  {
   "cell_type": "code",
   "execution_count": 7,
   "metadata": {
    "scrolled": true
   },
   "outputs": [
    {
     "name": "stdout",
     "output_type": "stream",
     "text": [
      "Please input a number:-8\n",
      "The |-8| = 8\n"
     ]
    }
   ],
   "source": [
    "# Calculate the absolute value of an input number\n",
    "x = input(\"Please input a number:\")\n",
    "if x.find('.') < 0 :\n",
    "    x = int(x)\n",
    "else:    \n",
    "    x = float(x)\n",
    "    \n",
    "if x >= 0:\n",
    "    absx = x\n",
    "else:\n",
    "    absx = -x\n",
    "\n",
    "print(f\"The |{x}| = {absx}\") "
   ]
  },
  {
   "cell_type": "markdown",
   "metadata": {
    "slideshow": {
     "slide_type": "slide"
    }
   },
   "source": [
    "## $\\triangleright$ Loop Structure （循环结构） "
   ]
  },
  {
   "cell_type": "markdown",
   "metadata": {},
   "source": [
    "<big style=\"color:green\">Question: How to calculate value of following mathematical expression:? </big> <br>\n",
    "<p>$$ 1^2 + 2^2 + \\cdots + 100^2 $$ </p>"
   ]
  },
  {
   "cell_type": "markdown",
   "metadata": {
    "slideshow": {
     "slide_type": "slide"
    }
   },
   "source": [
    "### $\\circ$ while Loop General  Format"
   ]
  },
  {
   "cell_type": "markdown",
   "metadata": {},
   "source": [
    "![](Fig-while.png)"
   ]
  },
  {
   "cell_type": "markdown",
   "metadata": {},
   "source": [
    "<big> break </big> <br>\n",
    "<p> Jumps out of the closest enclosing loop (past the entire loop statement)</p> \n",
    "<big> continue</big> <br> \n",
    "<p> Jumps to the top of the closest enclosing loop (to the loop’s header line) </p> <big>pass</big> <br>\n",
    "<p>Does nothing at all: it’s an empty statement placeholder</p>\n",
    "<big> Loop else block </big> <br>\n",
    "<p> Runs if and only if the loop is exited normally (i.e., without hitting a break) </p>\n"
   ]
  },
  {
   "cell_type": "markdown",
   "metadata": {},
   "source": [
    "### $\\circ$ while Loop Structure in Action"
   ]
  },
  {
   "cell_type": "code",
   "execution_count": 13,
   "metadata": {},
   "outputs": [
    {
     "name": "stdout",
     "output_type": "stream",
     "text": [
      "The total is: 338350\n"
     ]
    }
   ],
   "source": [
    "# Calculate the sum of square of 1, 2, ..., 100.\n",
    "i = 1\n",
    "sum = 0\n",
    "while i <= 100:\n",
    "    sum = sum + i**2\n",
    "    i = i + 1\n",
    "print(f\"The total is: {sum}\")"
   ]
  },
  {
   "cell_type": "markdown",
   "metadata": {},
   "source": [
    "<big style=\"color:green\">Question: Input a integer $n$, calculate value of square sum of all odds less then or equal to $n$. </big> <br>\n",
    "<p>$$ 1^2 + 3^2 + \\cdots + n^2 $$ </p>"
   ]
  },
  {
   "cell_type": "code",
   "execution_count": 18,
   "metadata": {
    "scrolled": true
   },
   "outputs": [
    {
     "name": "stdout",
     "output_type": "stream",
     "text": [
      "Please input a integer(n>=1):100\n",
      "The sum of square of odds less than 100 is 166650\n"
     ]
    }
   ],
   "source": [
    "# Calculate the sum of square of all odds less than or equal to n.\n",
    "n = input(\"Please input a integer(n>=1):\")\n",
    "n = int(n)\n",
    "i = 1\n",
    "sum = 0\n",
    "while True:\n",
    "    if i > n:\n",
    "        break\n",
    "#     if i%2 != 0:    \n",
    "    sum = sum + i**2 \n",
    "    i = i + 2\n",
    "print(\"The sum of square of odds less than {0} is {1}\".format(n, sum))        "
   ]
  },
  {
   "cell_type": "markdown",
   "metadata": {},
   "source": [
    "### $\\circ$ for Loop General  Format"
   ]
  },
  {
   "cell_type": "markdown",
   "metadata": {},
   "source": [
    "![](Fig-for.png)"
   ]
  },
  {
   "cell_type": "code",
   "execution_count": 1,
   "metadata": {},
   "outputs": [
    {
     "name": "stdout",
     "output_type": "stream",
     "text": [
      "The sum is 338350\n"
     ]
    }
   ],
   "source": [
    "sum = 0\n",
    "for i in range(1, 101):\n",
    "    sum = sum + i ** 2\n",
    "print(f'The sum is {sum}')    "
   ]
  },
  {
   "cell_type": "code",
   "execution_count": 2,
   "metadata": {},
   "outputs": [
    {
     "name": "stdout",
     "output_type": "stream",
     "text": [
      "Please input a integer(n>=1):100\n",
      "The total is:338350\n"
     ]
    }
   ],
   "source": [
    "# revisit the calculation of sum of squares\n",
    "n = input(\"Please input a integer(n>=1):\")\n",
    "n = int(n)\n",
    "sum = 0\n",
    "for i in range(1, n+1):\n",
    "    sum = sum + i**2\n",
    "print(\"The total is:{0}\".format(sum))    "
   ]
  },
  {
   "cell_type": "markdown",
   "metadata": {},
   "source": [
    "## List Comprehension involving Decision and Loop Structure"
   ]
  },
  {
   "cell_type": "markdown",
   "metadata": {},
   "source": [
    "### Formal comprehension syntax\n",
    "\n",
    "\n",
    "`\\[ expression for target1 in iterable1 if condition1 \n",
    "for target2 in iterable2 if condition2 ... \n",
    "for targetN in iterableN if conditionN \\] `"
   ]
  },
  {
   "cell_type": "code",
   "execution_count": 33,
   "metadata": {},
   "outputs": [
    {
     "data": {
      "text/plain": [
       "[4,\n",
       " 16,\n",
       " 36,\n",
       " 64,\n",
       " 100,\n",
       " 144,\n",
       " 196,\n",
       " 256,\n",
       " 324,\n",
       " 400,\n",
       " 484,\n",
       " 576,\n",
       " 676,\n",
       " 784,\n",
       " 900,\n",
       " 1024,\n",
       " 1156,\n",
       " 1296,\n",
       " 1444,\n",
       " 1600,\n",
       " 1764,\n",
       " 1936,\n",
       " 2116,\n",
       " 2304,\n",
       " 2500,\n",
       " 2704,\n",
       " 2916,\n",
       " 3136,\n",
       " 3364,\n",
       " 3600,\n",
       " 3844,\n",
       " 4096,\n",
       " 4356,\n",
       " 4624,\n",
       " 4900,\n",
       " 5184,\n",
       " 5476,\n",
       " 5776,\n",
       " 6084,\n",
       " 6400,\n",
       " 6724,\n",
       " 7056,\n",
       " 7396,\n",
       " 7744,\n",
       " 8100,\n",
       " 8464,\n",
       " 8836,\n",
       " 9216,\n",
       " 9604,\n",
       " 10000]"
      ]
     },
     "execution_count": 33,
     "metadata": {},
     "output_type": "execute_result"
    }
   ],
   "source": [
    "[i**2 for i in range(1, 101) if i%2==0]"
   ]
  },
  {
   "cell_type": "markdown",
   "metadata": {},
   "source": [
    "### List Comprehension in Action"
   ]
  },
  {
   "cell_type": "code",
   "execution_count": 1,
   "metadata": {
    "scrolled": true
   },
   "outputs": [
    {
     "data": {
      "text/plain": [
       "[2,\n",
       " 4,\n",
       " 6,\n",
       " 8,\n",
       " 10,\n",
       " 12,\n",
       " 14,\n",
       " 16,\n",
       " 18,\n",
       " 20,\n",
       " 22,\n",
       " 24,\n",
       " 26,\n",
       " 28,\n",
       " 30,\n",
       " 32,\n",
       " 34,\n",
       " 36,\n",
       " 38,\n",
       " 40,\n",
       " 42,\n",
       " 44,\n",
       " 46,\n",
       " 48,\n",
       " 50,\n",
       " 52,\n",
       " 54,\n",
       " 56,\n",
       " 58,\n",
       " 60,\n",
       " 62,\n",
       " 64,\n",
       " 66,\n",
       " 68,\n",
       " 70,\n",
       " 72,\n",
       " 74,\n",
       " 76,\n",
       " 78,\n",
       " 80,\n",
       " 82,\n",
       " 84,\n",
       " 86,\n",
       " 88,\n",
       " 90,\n",
       " 92,\n",
       " 94,\n",
       " 96,\n",
       " 98]"
      ]
     },
     "execution_count": 1,
     "metadata": {},
     "output_type": "execute_result"
    }
   ],
   "source": [
    "[i for i in range(1,100) if not i%2] # even number between 1 and 100"
   ]
  },
  {
   "cell_type": "code",
   "execution_count": 2,
   "metadata": {
    "scrolled": true
   },
   "outputs": [
    {
     "data": {
      "text/plain": [
       "['hw', 'hd', 'lw', 'ld', 'lw', 'ld', 'ow', 'od']"
      ]
     },
     "execution_count": 2,
     "metadata": {},
     "output_type": "execute_result"
    }
   ],
   "source": [
    "[x + y for x in 'hello' if ord(x)>ord('g') for y in 'world' if y in 'wd']"
   ]
  },
  {
   "cell_type": "code",
   "execution_count": 35,
   "metadata": {},
   "outputs": [
    {
     "name": "stdout",
     "output_type": "stream",
     "text": [
      "1001,1008,1015,1022,1029,1036,1043,1057,1064,1071,1078,1085,1092,1099,1106,1113,1127,1134,1141,1148,1155,1162,1169,1176,1183,1197,1204,1211,1218,1225,1232,1239,1246,1253,1267,1274,1281,1288,1295,1302,1309,1316,1323,1337,1344,1351,1358,1365,1372,1379,1386,1393,1407,1414,1421,1428,1435,1442,1449,1456,1463,1477,1484,1491,1498,1505,1512,1519,1526,1533,1547,1554,1561,1568,1575,1582,1589,1596,1603,1617,1624,1631,1638,1645,1652,1659,1666,1673,1687,1694,1701,1708,1715,1722,1729,1736,1743,1757,1764,1771,1778,1785,1792,1799,1806,1813,1827,1834,1841,1848,1855,1862,1869,1876,1883,1897,1904,1911,1918,1925,1932,1939,1946,1953,1967,1974,1981,1988,1995,2002,2009,2016,2023,2037,2044,2051,2058,2065,2072,2079,2086,2093,2107,2114,2121,2128,2135,2142,2149,2156,2163,2177,2184,2191,2198,2205,2212,2219,2226,2233,2247,2254,2261,2268,2275,2282,2289,2296,2303,2317,2324,2331,2338,2345,2352,2359,2366,2373,2387,2394,2401,2408,2415,2422,2429,2436,2443,2457,2464,2471,2478,2485,2492,2499,2506,2513,2527,2534,2541,2548,2555,2562,2569,2576,2583,2597,2604,2611,2618,2625,2632,2639,2646,2653,2667,2674,2681,2688,2695,2702,2709,2716,2723,2737,2744,2751,2758,2765,2772,2779,2786,2793,2807,2814,2821,2828,2835,2842,2849,2856,2863,2877,2884,2891,2898,2905,2912,2919,2926,2933,2947,2954,2961,2968,2975,2982,2989,2996,3003,3017,3024,3031,3038,3045,3052,3059,3066,3073,3087,3094,3101,3108,3115,3122,3129,3136,3143,3157,3164,3171,3178,3185,3192,3199\n"
     ]
    }
   ],
   "source": [
    "nums = [str(i) for i in range(1000, 3201) if i%7==0 and i%10!=0]\n",
    "print(','.join(nums))"
   ]
  },
  {
   "cell_type": "markdown",
   "metadata": {},
   "source": [
    "\n",
    "## Classwork & Homework \n",
    "\n",
    "<p style=\"color:green\"> Submit your solution in T4_CW1.ipynb file</p>\n",
    "<p> 1.Write a program which will find all such numbers which are divisible by 7 but are not a multiple of 10, between 1000 and 3200 (both included). The numbers obtained should be printed in a comma-separated sequence on a single line. <br>\n",
    "    \n",
    "<p> 2. Write a program to generate $9\\times9$ multiplication table. the output is like: <br></p>\n",
    "  <img src=\"Fig-multipletable.PNG\">    \n",
    "<p> 3. Write a program that accepts a sentence and calculate the number of words and numbers. <br>\n",
    "Suppose the following input is supplied to the program: <br>\n",
    "hello world! 123 <br>\n",
    "Then, the output should be: <br>\n",
    "Words: 2<br>\n",
    "Numbers: 1.  <br> </p>\n",
    "<p> 4. Write a program that can convert an input score of a course (0<=score<=100) into a grade. \n",
    "<p> 5. Write a Python program to construct the following pattern, using a nested for loop.<br>\n",
    "* <br>\n",
    "* * <br>\n",
    "* * * <br>\n",
    "* * * * <br>\n",
    "* * * * * <br>\n",
    "* * * * <br>\n",
    "* * * <br>\n",
    "* * <br>\n",
    "*<br>\n",
    "\n",
    "<p>6. Write a Python program to check the validity of password input by users. Go to the editor Validation : <br>\n",
    "\n",
    "At least 1 letter between [a-z] and 1 letter between [A-Z]. <br>\n",
    "At least 1 number between [0-9].<br>\n",
    "At least 1 character from [$#@]. <br>\n",
    "Minimum length 6 characters. <br>\n",
    "Maximum length 16 characters. <br>\n",
    "\n"
   ]
  }
 ],
 "metadata": {
  "celltoolbar": "幻灯片",
  "kernelspec": {
   "display_name": "base",
   "language": "python",
   "name": "python3"
  },
  "language_info": {
   "codemirror_mode": {
    "name": "ipython",
    "version": 3
   },
   "file_extension": ".py",
   "mimetype": "text/x-python",
   "name": "python",
   "nbconvert_exporter": "python",
   "pygments_lexer": "ipython3",
   "version": "3.11.5"
  }
 },
 "nbformat": 4,
 "nbformat_minor": 4
}
