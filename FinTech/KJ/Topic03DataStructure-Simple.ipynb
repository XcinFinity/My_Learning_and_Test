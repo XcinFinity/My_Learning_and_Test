{
 "cells": [
  {
   "cell_type": "markdown",
   "metadata": {},
   "source": [
    "# Topic 3 Data Structure\n",
    "## Simple Data Types\n",
    "### Integer （整数）\n",
    "* Decimial (十进制)： $29=2\\times10^1+9\\times10^0 $\n",
    "* Binary （二机制）： $11101=1\\times2^4 + 1\\times2^3 + 1\\times2^2 + 0\\times2^1 + 1\\times2^0 = 16 + 8 + 4 + 0  + 1 = 29$， Python中用`0b11101`表示。\n",
    "* Octal (八进制)：$35 = 3\\times8^2 + 5\\times8^0$， 用`0o35`表示。\n",
    "* Hexadecimal (十六进制)：$1d = 1\\times16^1 + 13\\times16^0$， 用`0x1d`表示。"
   ]
  },
  {
   "cell_type": "markdown",
   "metadata": {},
   "source": [
    "The conversion among different systems:\n",
    "| Function | Description                          | Input Parameters     | Output                           |\n",
    "| :------- | :----------------------------------- | :------------------- | :------------------------------- |\n",
    "| `bin()`  | Converts an integer to a binary string | Decimal integer      | Binary string (prefixed with `'0b'`)   |\n",
    "| `oct()`  | Converts an integer to an octal string | Decimal integer      | Octal string (prefixed with `'0o'`)   |\n",
    "| `hex()`  | Converts an integer to a hexadecimal string | Decimal integer      | Hexadecimal string (prefixed with `'0x'`) |\n",
    "| `int()`  | Converts a string or number to an integer | String or number, base | Decimal integer                       |"
   ]
  },
  {
   "cell_type": "code",
   "execution_count": 1,
   "metadata": {},
   "outputs": [
    {
     "name": "stdout",
     "output_type": "stream",
     "text": [
      "0b11101\n",
      "0o35\n",
      "0x1d\n",
      "29\n",
      "29\n",
      "29\n"
     ]
    }
   ],
   "source": [
    "# 定义十进制数\n",
    "decimal_number = 29\n",
    "\n",
    "# 定义二进制\n",
    "binary_number = 0b11101\n",
    "\n",
    "# 十进制转换为二进制\n",
    "binary_string = bin(decimal_number)\n",
    "print(binary_string)  # 输出 '0b11101'\n",
    "\n",
    "# 十进制转换为八进制\n",
    "octal_string = oct(decimal_number)\n",
    "print(octal_string)  # 输出 '0o35'\n",
    "\n",
    "# 十进制转换为十六进制\n",
    "hexadecimal_string = hex(decimal_number)\n",
    "print(hexadecimal_string)  # 输出 '0x1d'\n",
    "\n",
    "# 二进制字符串转换为十进制整数\n",
    "decimal_from_binary = int('0b11101', 2)\n",
    "print(decimal_from_binary)  # 输出 29\n",
    "\n",
    "# 八进制字符串转换为十进制整数\n",
    "decimal_from_octal = int('0o35', 8)\n",
    "print(decimal_from_octal)  # 输出 29\n",
    "\n",
    "# 十六进制字符串转换为十进制整数\n",
    "decimal_from_hexadecimal = int('0x1d', 16)\n",
    "print(decimal_from_hexadecimal)  # 输出 29"
   ]
  },
  {
   "cell_type": "markdown",
   "metadata": {},
   "source": [
    "### Float (浮点数)"
   ]
  },
  {
   "cell_type": "markdown",
   "metadata": {},
   "source": [
    "- 3.1415\n",
    "- `1.5e2` represents $1.5×10^2$，ie. 150.0。\n",
    "- `6.02E23` denotes $6.02×10^{23}$。"
   ]
  },
  {
   "cell_type": "code",
   "execution_count": 2,
   "metadata": {},
   "outputs": [
    {
     "data": {
      "text/plain": [
       "0.30000000000000004"
      ]
     },
     "execution_count": 2,
     "metadata": {},
     "output_type": "execute_result"
    }
   ],
   "source": [
    "x = 0.1\n",
    "y = 0.2\n",
    "z = x + y\n",
    "z"
   ]
  },
  {
   "cell_type": "code",
   "execution_count": 3,
   "metadata": {},
   "outputs": [
    {
     "name": "stdout",
     "output_type": "stream",
     "text": [
      "inf\n"
     ]
    }
   ],
   "source": [
    "w = 2e308\n",
    "print(w)"
   ]
  },
  {
   "cell_type": "markdown",
   "metadata": {},
   "source": [
    "#### How to check the upper and lower bound of floats in Python?"
   ]
  },
  {
   "cell_type": "markdown",
   "metadata": {},
   "source": [
    "### Arithmetic Operation (算術運算）\n",
    "### $\\circ$  Arithmetic Operators (算術運算符）\n",
    "|   Operators                      |       Description |\n",
    "|:-|:-|\n",
    "|x + y                |         Addition              |  \n",
    "|x – y               |          Subtraction        |\n",
    "|x * y              |           Multiplication  |\n",
    "|x / y              |          Division  |\n",
    "|x // y,  x % y,  divmod(x,y)       |        quotient floor, Remainder |\n",
    "|x ** y,  pow(x,y)             |           Power (exponentiation) |"
   ]
  },
  {
   "cell_type": "markdown",
   "metadata": {},
   "source": [
    "### $\\circ$  Arithmetic Expression (算術表达式）\n",
    "\n",
    "An expression is a computational structure that combines operators, functions, and operands to evaluate and produce a value. The primary purpose of an expression is to perform calculations and generate results or values. \n",
    "\n",
    "For example:\n",
    "\n",
    "* **Expression in Math:**\n",
    "\n",
    "$$ ax^2 + bx + c, \\quad  3sin\\frac{\\pi}{4} + (5cos\\frac{\\pi}{6} -2)^2$$\n",
    "\n",
    "* **Expression in Python:**\n",
    "?"
   ]
  },
  {
   "cell_type": "markdown",
   "metadata": {},
   "source": [
    "### Bool (布尔型)\n",
    "#### $\\circ$ Expression of Logical Values\n",
    "\n",
    "**True（真） $\\quad\\quad$   False（假）**\n",
    "\n",
    "#### $\\circ$ Relational Operators （關係運算符）\n",
    "\n",
    "|   Relational Operators                 |       Description |\n",
    "|:--|:-|\n",
    "|x < y, x <= y          | Magnitude comparison  |\n",
    "|x > y, x >= y        |     Magnitude comparison|\n",
    "| x == y, x != y     |           Value equality operators|\n",
    "|x in y, x not in y    |         Membership (iterables, sets) |\n",
    "|x is y, x is not y    |        Object identity tests |\n",
    "\n",
    "#### $\\circ$  Logical Operators （邏輯運算符）\n",
    "|   Operators                      |       Description |\n",
    "|:--|:-|\n",
    "|x or y      |                  Logical OR (邏輯或）(y is evaluated only if x is false)|\n",
    "|x and y  |                     Logical AND （邏輯與）(y is evaluated only if x is true)|\n",
    "|not x      |                   Logical negation （邏輯非）|\n",
    "|x if y else z       |          Ternary selection (x is evaluated only if y is true)|\n",
    "\n",
    "#### $\\circ$  Logical Expression (邏輯表达式）\n",
    "_A logical expression is an expression that results in a logical value. It consists of **logical terms** that are combined by logical operations._\n",
    "\n",
    "* **Expression in Logics:**\n",
    "$$ \\lnot(a \\land b), \\quad  \\lnot a \\land b \\lor (c \\lor d) $$\n",
    "\n",
    "* **Expression in Python:**\n",
    "\n",
    " not (a and b),  &nbsp; &nbsp; &nbsp; (not a) and b or (c or d) "
   ]
  },
  {
   "cell_type": "markdown",
   "metadata": {},
   "source": [
    "**Relational Expressions**"
   ]
  },
  {
   "cell_type": "code",
   "execution_count": 6,
   "metadata": {},
   "outputs": [
    {
     "data": {
      "text/plain": [
       "(True, False, True, True, True, False, False, True)"
      ]
     },
     "execution_count": 6,
     "metadata": {},
     "output_type": "execute_result"
    }
   ],
   "source": [
    "x = 3\n",
    "y = 6\n",
    "z = 8\n",
    "x < y < z, x == y, x == 3,  y != x, y >= x,  x < y > z, 1.1 + 2.2 == 3.3, 1 + 2 == 3"
   ]
  },
  {
   "cell_type": "markdown",
   "metadata": {},
   "source": [
    "**Logical Expressions**"
   ]
  },
  {
   "cell_type": "code",
   "execution_count": 7,
   "metadata": {},
   "outputs": [
    {
     "data": {
      "text/plain": [
       "(False, True, False, False, True, True)"
      ]
     },
     "execution_count": 7,
     "metadata": {},
     "output_type": "execute_result"
    }
   ],
   "source": [
    "x = True\n",
    "y = False\n",
    "x and y, x or y, not x, 3 < 5 and 5 >= 8, x == 1, y == 0"
   ]
  },
  {
   "cell_type": "markdown",
   "metadata": {},
   "source": [
    "### String (字符串型)\n",
    "#### String Representations\n",
    "The table below introduces these different string representations:\n",
    "| Representation         | Description                                                  | Example                                 | Result               |\n",
    "| :--------------------- | :----------------------------------------------------------- | :-------------------------------------- | :------------------- |\n",
    "| Single quotes (`'`)    | Text enclosed with single quotes, suitable for most cases.   | `'Hello, world!'`                       | `Hello, world!`      |\n",
    "| Double quotes (`\"`)    | Text enclosed with double quotes, suitable when single quotes need to be included in the string. | `\"That's a cat.\"`                       | `That's a cat.`      |\n",
    "| Triple single quotes (`'''`) | Text enclosed with three consecutive single quotes, can span multiple lines, preserving format. | `'''Line 1\\nLine 2'''`                  | `Line 1`<br>`Line 2` |\n",
    "| Triple double quotes (`\"\"\"`) | Text enclosed with three consecutive double quotes, functions like triple single quotes, can span multiple lines. | `\"\"\"Line 1\\nLine 2\"\"\"`                  | `Line 1`<br>`Line 2` |\n",
    "| Unicode encoding       | Use `\\u` or `\\U` followed by the character's Unicode code point. | `'\\u4F60\\u597D'`                        | `你好`               |\n",
    "| Raw string (`r`)       | Defined with prefix `r`, does not escape backslashes, suitable for file paths and regular expressions. | `r\"C:\\Users\\namex\"`                     | `C:\\Users\\namex`     |\n",
    "| **Formatted string (`f`)** | Defined with prefix `f` or `F`, allows embedding expressions within strings. | `name = \"world\"`<br>`f\"Hello, {name}!\"` | `Hello, world!`      |"
   ]
  },
  {
   "cell_type": "markdown",
   "metadata": {},
   "source": [
    "$\\circ$ **Escape Sequences Represent Special Characters:**\n",
    "|Escape |  Meaning |\n",
    "|:-|:-|\n",
    "|\\\\\\\\ |   Backslash (stores one \\) |\n",
    "|\\\\\\' |   Single quote (stores ')|\n",
    "|\\\\\\\" |   Double quote (stores \")|\n",
    "|\\a |   Bell |\n",
    "|\\b |   Backspace |\n",
    "|\\n |   Newline (linefeed) |\n",
    "|\\r |   Carriage return |\n",
    "|\\t |   Horizontal tab |\n",
    "|\\xhh |  Character with hex value hh (exactly 2 digits)|\n",
    "|\\ooo | Character with octal value ooo (up to 3 digits)|\n",
    "|\\uhhhh|Unicode character with 16-bit hex value (hhhh) |\n",
    "\n",
    "$\\circ$ **Output a string** \n",
    "* [Print Objects](https://docs.python.org/3/library/functions.html#print)\n",
    "* [Format Strings](https://docs.python.org/3/library/string.html#formatstrings)\n",
    "* https://realpython.com/python-string-formatting/"
   ]
  },
  {
   "cell_type": "markdown",
   "metadata": {},
   "source": [
    "#### Define a string in different ways"
   ]
  },
  {
   "cell_type": "code",
   "execution_count": 8,
   "metadata": {},
   "outputs": [
    {
     "name": "stdout",
     "output_type": "stream",
     "text": [
      "The list company's age is: ten years\n",
      "The list company's age is: ten years\n",
      "The list company's age is: \n",
      "\n",
      "ten years\n",
      "The list company's age is: \n",
      "ten years\n",
      "The list company's age is:\n",
      "ten years\n"
     ]
    }
   ],
   "source": [
    "s1 = \"The list company's age is: ten years\"\n",
    "s2 = 'The list company\\'s age is: ten years'\n",
    "s3 = \"\"\"The list company's age is: \n",
    "\n",
    "ten years\"\"\"\n",
    "s4 = \"The list company's age is: \\nten years\"  \n",
    "s5 = \"The list company's age is:\" + \"\\n\" + \"ten years\"\n",
    "print(s1)\n",
    "print(s2)\n",
    "print(s3)\n",
    "print(s4)\n",
    "print(s5)"
   ]
  },
  {
   "cell_type": "code",
   "execution_count": 9,
   "metadata": {},
   "outputs": [
    {
     "name": "stdout",
     "output_type": "stream",
     "text": [
      "C:\\new\\text.dat 15\n",
      "C:\n",
      "ew\text.dat 13\n"
     ]
    }
   ],
   "source": [
    "sr = r'C:\\new\\text.dat'\n",
    "s = 'C:\\new\\text.dat'\n",
    "print(sr, len(sr))\n",
    "print(s, len(s))"
   ]
  },
  {
   "cell_type": "code",
   "execution_count": 10,
   "metadata": {},
   "outputs": [
    {
     "name": "stdout",
     "output_type": "stream",
     "text": [
      "0x6fb3 0x95e8\n",
      "澳门\n",
      "澳\n"
     ]
    }
   ],
   "source": [
    "# bytes and unicodes in a string\n",
    "codea = hex(ord('澳'))\n",
    "codem = hex(ord('门'))\n",
    "print(codea, codem)\n",
    "s5 = '\\u6fb3\\u95e8'\n",
    "print(s5)\n",
    "print(chr(0x6fb3))   #ord('0'), chr(48) # character code converstions"
   ]
  },
  {
   "cell_type": "code",
   "execution_count": 13,
   "metadata": {},
   "outputs": [
    {
     "name": "stdout",
     "output_type": "stream",
     "text": [
      "b'\\xe6\\xbe\\xb3'\n",
      "澳\n"
     ]
    }
   ],
   "source": [
    "codeao = '澳'.encode()\n",
    "print(codeao)\n",
    "ao = codeao.decode()\n",
    "print(ao)"
   ]
  },
  {
   "cell_type": "code",
   "execution_count": 28,
   "metadata": {},
   "outputs": [
    {
     "name": "stdout",
     "output_type": "stream",
     "text": [
      "☺\n"
     ]
    }
   ],
   "source": [
    "print('\\u263A')"
   ]
  },
  {
   "cell_type": "markdown",
   "metadata": {},
   "source": [
    "#### Indexing and Slicing\n",
    "![](Fig-string.png)"
   ]
  },
  {
   "cell_type": "code",
   "execution_count": 29,
   "metadata": {},
   "outputs": [
    {
     "data": {
      "text/plain": [
       "13"
      ]
     },
     "execution_count": 29,
     "metadata": {},
     "output_type": "execute_result"
    }
   ],
   "source": [
    "s = 'HELLO, WORLD!'\n",
    "len(s)"
   ]
  },
  {
   "cell_type": "code",
   "execution_count": 30,
   "metadata": {},
   "outputs": [
    {
     "data": {
      "text/plain": [
       "'WORLD!'"
      ]
     },
     "execution_count": 30,
     "metadata": {},
     "output_type": "execute_result"
    }
   ],
   "source": [
    "s[-6:]"
   ]
  },
  {
   "cell_type": "code",
   "execution_count": 31,
   "metadata": {},
   "outputs": [
    {
     "data": {
      "text/plain": [
       "'HLO'"
      ]
     },
     "execution_count": 31,
     "metadata": {},
     "output_type": "execute_result"
    }
   ],
   "source": [
    "s[0:5:2]"
   ]
  },
  {
   "cell_type": "code",
   "execution_count": 32,
   "metadata": {},
   "outputs": [
    {
     "name": "stdout",
     "output_type": "stream",
     "text": [
      "HELLO, WORLD!\n",
      "!DLROW ,OLLEH\n",
      "H\t,\t!\n",
      "HELLO   HLO OL   HELLO, WORL\n",
      "HLO OL!\n",
      "HLO OL!\n"
     ]
    }
   ],
   "source": [
    "print(s[:])\n",
    "print(s[::-1])\n",
    "print(s[0] + \"\\t\" + s[5] + \"\\t\" + s[-1])  # indexing\n",
    "print(s[0:5] + '   ' + s[0:-1:2] + '   ' + s[:-2])\n",
    "# --------------Slice object----------------------------\n",
    "so = slice(None, None, 2) #slice(start, end, step)\n",
    "print(s[so]+'\\n'+s[::2])"
   ]
  },
  {
   "cell_type": "markdown",
   "metadata": {},
   "source": [
    "#### String Conversion"
   ]
  },
  {
   "cell_type": "code",
   "execution_count": 33,
   "metadata": {},
   "outputs": [
    {
     "ename": "TypeError",
     "evalue": "can only concatenate str (not \"int\") to str",
     "output_type": "error",
     "traceback": [
      "\u001b[0;31m---------------------------------------------------------------------------\u001b[0m",
      "\u001b[0;31mTypeError\u001b[0m                                 Traceback (most recent call last)",
      "Cell \u001b[0;32mIn[33], line 1\u001b[0m\n\u001b[0;32m----> 1\u001b[0m \u001b[38;5;124;43m'\u001b[39;49m\u001b[38;5;124;43m1\u001b[39;49m\u001b[38;5;124;43m'\u001b[39;49m\u001b[43m \u001b[49m\u001b[38;5;241;43m+\u001b[39;49m\u001b[43m \u001b[49m\u001b[38;5;241;43m1\u001b[39;49m\n",
      "\u001b[0;31mTypeError\u001b[0m: can only concatenate str (not \"int\") to str"
     ]
    }
   ],
   "source": [
    "'1' + 1"
   ]
  },
  {
   "cell_type": "code",
   "execution_count": 34,
   "metadata": {},
   "outputs": [
    {
     "data": {
      "text/plain": [
       "(str, int)"
      ]
     },
     "execution_count": 34,
     "metadata": {},
     "output_type": "execute_result"
    }
   ],
   "source": [
    "type('1'), type(1)"
   ]
  },
  {
   "cell_type": "code",
   "execution_count": 35,
   "metadata": {},
   "outputs": [
    {
     "data": {
      "text/plain": [
       "2"
      ]
     },
     "execution_count": 35,
     "metadata": {},
     "output_type": "execute_result"
    }
   ],
   "source": [
    "int('1') + 1"
   ]
  },
  {
   "cell_type": "code",
   "execution_count": 36,
   "metadata": {},
   "outputs": [
    {
     "data": {
      "text/plain": [
       "3.3000000000000003"
      ]
     },
     "execution_count": 36,
     "metadata": {},
     "output_type": "execute_result"
    }
   ],
   "source": [
    "float('1.1') + 2.2"
   ]
  },
  {
   "cell_type": "code",
   "execution_count": 40,
   "metadata": {},
   "outputs": [
    {
     "data": {
      "text/plain": [
       "True"
      ]
     },
     "execution_count": 40,
     "metadata": {},
     "output_type": "execute_result"
    }
   ],
   "source": [
    "bool('False')  #?"
   ]
  },
  {
   "cell_type": "code",
   "execution_count": 42,
   "metadata": {},
   "outputs": [
    {
     "data": {
      "text/plain": [
       "('1', '1.1', 'False', 'True')"
      ]
     },
     "execution_count": 42,
     "metadata": {},
     "output_type": "execute_result"
    }
   ],
   "source": [
    "str(1), str(1.1), str(False), str(True)"
   ]
  },
  {
   "cell_type": "markdown",
   "metadata": {},
   "source": [
    "#### String Methods\n",
    "\n",
    "##### Character Classification\n",
    "\n",
    "| Method      | Description                          |\n",
    "| :---------- | :----------------------------------- |\n",
    "| `isalpha()` | Checks if the string contains only letters. |\n",
    "| `isdigit()` | Checks if the string contains only digits.  |\n",
    "| `isalnum()` | Checks if the string is composed of letters and numbers. |\n",
    "| `isspace()` | Checks if the string contains only whitespace characters. |\n",
    "| `islower()` | Checks if the letters in the string are all lowercase.    |\n",
    "| `isupper()` | Checks if the letters in the string are all uppercase.    |"
   ]
  },
  {
   "cell_type": "code",
   "execution_count": 43,
   "metadata": {},
   "outputs": [
    {
     "name": "stdout",
     "output_type": "stream",
     "text": [
      "False\n",
      "True\n"
     ]
    }
   ],
   "source": [
    "# 示例字符串\n",
    "s = \"Hello123\"\n",
    "\n",
    "# 使用 isalpha() 检查字符串是否只包含字母\n",
    "print(s.isalpha())  # 输出: False\n",
    "\n",
    "# 使用 isalnum() 检查字符串是否只包含字母和数字\n",
    "print(s.isalnum())  # 输出: True"
   ]
  },
  {
   "cell_type": "markdown",
   "metadata": {},
   "source": [
    "#### Character Searching\n",
    "| Method         | Description                                                  |\n",
    "| :------------- | :----------------------------------------------------------- |\n",
    "| `find()`       | Returns the index of the first occurrence of a substring in the string, or -1 if not found. |\n",
    "| `index()`      | Similar to `find()`, but raises an exception if the substring is not found. |\n",
    "| `startswith()` | Checks if the string starts with the specified prefix.       |\n",
    "| `endswith()`   | Checks if the string ends with the specified suffix.         |\n",
    "| `count()`      | Returns the number of times a substring appears in the string. |\n",
    "| `in`           | Returns whether a substring exists in the string, e.g., `'ab' in 'deabc'` returns `True`. |"
   ]
  },
  {
   "cell_type": "code",
   "execution_count": 45,
   "metadata": {},
   "outputs": [
    {
     "name": "stdout",
     "output_type": "stream",
     "text": [
      "7\n",
      "True\n",
      "True\n"
     ]
    }
   ],
   "source": [
    "# 示例字符串\n",
    "s = \"Hello, world!\"\n",
    "\n",
    "# 使用 find() 查找子字符串的位置\n",
    "print(s.find(\"world\"))  # 输出: 7\n",
    "\n",
    "# 使用 startswith() 检查字符串是否以指定的前缀开始\n",
    "print(s.startswith(\"Hello\"))  # 输出: True\n",
    "\n",
    "# 检查字符串是否包含指定的子字符串\n",
    "print('world' in s)"
   ]
  },
  {
   "cell_type": "markdown",
   "metadata": {},
   "source": [
    "#### Character Modification\n",
    "| Method         | Description                                                  |\n",
    "| :------------- | :----------------------------------------------------------- |\n",
    "| `replace()`    | Returns a string where a specified substring is replaced with another specified substring. |\n",
    "| `strip()`      | Removes all whitespace characters (or specified characters) from the start and end of the string. |\n",
    "| `rstrip()`     | Removes trailing whitespace characters (or specified characters) from the end of the string. |\n",
    "| `lstrip()`     | Removes leading whitespace characters (or specified characters) from the start of the string. |\n",
    "| `upper()`      | Converts all letters in the string to uppercase.             |\n",
    "| `lower()`      | Converts all letters in the string to lowercase.             |\n",
    "| `capitalize()` | Capitalizes the first letter of the string and makes the rest lowercase. |\n",
    "| `title()`      | Capitalizes the first letter of each word in the string.     |"
   ]
  },
  {
   "cell_type": "code",
   "execution_count": 46,
   "metadata": {},
   "outputs": [
    {
     "name": "stdout",
     "output_type": "stream",
     "text": [
      "hello there\n",
      "HELLO WORLD\n"
     ]
    }
   ],
   "source": [
    "# 示例字符串\n",
    "s = \"hello world\"\n",
    "\n",
    "# 使用 replace() 替换字符串中的子字符串\n",
    "print(s.replace(\"world\", \"there\"))  # 输出: \"hello there\"\n",
    "\n",
    "# 使用 upper() 将字符串中的所有字母转换为大写\n",
    "print(s.upper())  # 输出: \"HELLO WORLD\""
   ]
  },
  {
   "cell_type": "markdown",
   "metadata": {},
   "source": [
    "#### String Splitting and Joining\n",
    "| Method         | Description                                                  |\n",
    "| :------------- | :----------------------------------------------------------- |\n",
    "| `split()`      | Splits the string into a list based on a specified delimiter. If no delimiter is specified, it defaults to whitespace (e.g., spaces, newlines). |\n",
    "| `rsplit()`     | Similar to `split()`, but starts splitting from the end of the string. |\n",
    "| `splitlines()` | Splits the string at line breaks (`\\n`), returning a list with each line as an element. |\n",
    "| `join()`       | Joins the elements of a list or tuple into a new string using a specified string (often called a \"separator\"). |\n",
    "| `+` operator   | Can be used to concatenate two or more strings, simply and directly. |\n"
   ]
  },
  {
   "cell_type": "code",
   "execution_count": 47,
   "metadata": {},
   "outputs": [
    {
     "name": "stdout",
     "output_type": "stream",
     "text": [
      "['apple', 'banana', 'cherry']\n",
      "apple, banana, cherry\n"
     ]
    }
   ],
   "source": [
    "# 示例字符串\n",
    "s = \"apple, banana, cherry\"\n",
    "\n",
    "# 使用 split() 根据逗号和空格拆分字符串\n",
    "parts = s.split(\", \")\n",
    "print(parts)  # 输出: ['apple', 'banana', 'cherry']\n",
    "\n",
    "parts = ['apple', 'banana', 'cherry']\n",
    "\n",
    "# 使用 join() 将字符串列表合并为一个新的字符串，以逗号和空格作为分隔符\n",
    "combined = \", \".join(parts)\n",
    "print(combined)  # 输出: \"apple, banana, cherry\""
   ]
  },
  {
   "cell_type": "markdown",
   "metadata": {},
   "source": [
    "More details about the string methods on [Python.org](https://docs.python.org/3/library/stdtypes.html#string-methods)。"
   ]
  }
 ],
 "metadata": {
  "kernelspec": {
   "display_name": "base",
   "language": "python",
   "name": "python3"
  },
  "language_info": {
   "codemirror_mode": {
    "name": "ipython",
    "version": 3
   },
   "file_extension": ".py",
   "mimetype": "text/x-python",
   "name": "python",
   "nbconvert_exporter": "python",
   "pygments_lexer": "ipython3",
   "version": "3.11.5"
  }
 },
 "nbformat": 4,
 "nbformat_minor": 2
}
