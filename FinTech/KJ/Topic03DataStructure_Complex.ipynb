{
 "cells": [
  {
   "cell_type": "markdown",
   "metadata": {},
   "source": [
    "# Topic 3 Data Structure\n",
    "## Complex Date Types -- Data Containers\n",
    "### List (列表)\n",
    "#### Characteristics\n",
    "* Ordered collections of arbitrary objects \n",
    "* Accessed by offset / position \n",
    "* Variable-length, heterogeneous, and arbitrarily nestable\n",
    "* Mutable \n",
    "* Arrays of object references "
   ]
  },
  {
   "cell_type": "markdown",
   "metadata": {},
   "source": [
    "#### List Creation and Representation\n",
    "\n",
    "| Representation      | Description                     | Example                                                      |\n",
    "| :------------------ | :------------------------------ | :----------------------------------------------------------- |\n",
    "| Empty list          | A list containing no elements   | `[]`                                                         |\n",
    "| Mixed-type elements | A list with elements of different types | `[1, 'hello', 3.14, True]`                                   |\n",
    "| Nested list         | A list where elements are also lists | `['abc', 5.78, ['Macao', 14]]`                               |\n",
    "| Using constructor   | Creating a list using the `list()` constructor | `list('hello')` outputs `['h', 'e', 'l', 'l', 'o']`<br>`list(range(6))` outputs `[0, 1, 2, 3, 4, 5]` |"
   ]
  },
  {
   "cell_type": "markdown",
   "metadata": {
    "vscode": {
     "languageId": "plaintext"
    }
   },
   "source": [
    "#### Accessing and Modifying List Elements\n",
    "The method for accessing list elements is the same as for strings—using indexing and slicing.  \n",
    "\n",
    "However, unlike characters in a string, list elements can be modified freely."
   ]
  },
  {
   "cell_type": "code",
   "execution_count": 1,
   "metadata": {},
   "outputs": [
    {
     "ename": "TypeError",
     "evalue": "'str' object does not support item assignment",
     "output_type": "error",
     "traceback": [
      "\u001b[0;31m---------------------------------------------------------------------------\u001b[0m",
      "\u001b[0;31mTypeError\u001b[0m                                 Traceback (most recent call last)",
      "Cell \u001b[0;32mIn[1], line 2\u001b[0m\n\u001b[1;32m      1\u001b[0m my_string \u001b[38;5;241m=\u001b[39m \u001b[38;5;124m'\u001b[39m\u001b[38;5;124mhello\u001b[39m\u001b[38;5;124m'\u001b[39m\n\u001b[0;32m----> 2\u001b[0m my_string[\u001b[38;5;241m0\u001b[39m] \u001b[38;5;241m=\u001b[39m \u001b[38;5;124m'\u001b[39m\u001b[38;5;124mH\u001b[39m\u001b[38;5;124m'\u001b[39m\n",
      "\u001b[0;31mTypeError\u001b[0m: 'str' object does not support item assignment"
     ]
    }
   ],
   "source": [
    "my_string = 'hello'\n",
    "my_string[0] = 'H'"
   ]
  },
  {
   "cell_type": "code",
   "execution_count": 2,
   "metadata": {},
   "outputs": [
    {
     "name": "stdout",
     "output_type": "stream",
     "text": [
      "1\n",
      "[4, 500]\n"
     ]
    }
   ],
   "source": [
    "nested_list = [\n",
    "    [1, 2, 3],\n",
    "    [4, 5, 6],\n",
    "    [7, 8, 9]\n",
    "]  # 一个 3x3 的矩阵\n",
    "print(nested_list[0][0]) # 输出 1\n",
    "nested_list[1][1] = 500 \n",
    "print(nested_list[1][:2])  # 获取第二行的前两个元素， 输出 [4, 500]"
   ]
  },
  {
   "cell_type": "markdown",
   "metadata": {},
   "source": [
    "#### List Operations\n",
    "| Operation/Method                | Description                                                  |\n",
    "| :------------------------------ | :----------------------------------------------------------- |\n",
    "| `append(x)`                     | Adds an element x to the end of the list.                    |\n",
    "| `extend(iterable)`              | Extends the list by adding all elements from an iterable to the end. |\n",
    "| `insert(i, x)`                  | Inserts an element x at a specified position i.              |\n",
    "| `remove(x)`                     | Removes the first element with the value x. Raises ValueError if x is not found. |\n",
    "| `pop(i)`                        | Removes and returns the element at the specified position (or the last item if no index is specified). |\n",
    "| `clear()`                       | Removes all elements from the list.                          |\n",
    "| `index(x, start, end)`          | Returns the index of the first element with the value x. Raises ValueError if x is not found. `start` and `end` are optional. |\n",
    "| `count(x)`                      | Returns the number of times x appears in the list.           |\n",
    "| `sort(key=None, reverse=False)` | Sorts the list. If a key is specified, sorts based on the key's return value. |\n",
    "| `reverse()`                     | Reverses the elements of the list.                           |\n",
    "| `copy()`                        | Returns a shallow copy of the list.                          |\n",
    "| +                               | Concatenates two lists.                                      |\n",
    "| *                               | Repeats the elements of a list a specified number of times.  |\n",
    "| `a, b,*rest = [1, 2, 3, 4]`     | Uses the asterisk (*) to collect excess values into a list.  |"
   ]
  },
  {
   "cell_type": "code",
   "execution_count": 4,
   "metadata": {},
   "outputs": [
    {
     "name": "stdout",
     "output_type": "stream",
     "text": [
      "[3, 1, 4, 1, 5, 9, 2, 6]\n",
      "[3, 1, 4, 1, 5, 9, 2, 6, 7, 8]\n",
      "[0, 3, 1, 4, 1, 5, 9, 2, 6, 7, 8]\n",
      "[0, 3, 4, 1, 5, 9, 2, 6, 7, 8]\n",
      "8\n",
      "[0, 3, 4, 1, 5, 9, 2, 6, 7]\n",
      "[7, 6, 2, 9, 5, 1, 4, 3, 0]\n",
      "[0, 1, 2, 3, 4, 5, 6, 7, 9]\n",
      "[1, 2, 3, 4, 5, 6]\n",
      "[1, 2, 3, 1, 2, 3, 1, 2, 3]\n"
     ]
    }
   ],
   "source": [
    "my_list = [3, 1, 4, 1, 5, 9, 2]\n",
    "\n",
    "# 添加元素\n",
    "my_list.append(6)\n",
    "print(my_list)  # [3, 1, 4, 1, 5, 9, 2, 6]\n",
    "\n",
    "# 扩展列表\n",
    "my_list.extend([7, 8])\n",
    "print(my_list)  # [3, 1, 4, 1, 5, 9, 2, 6, 7, 8]\n",
    "\n",
    "# 插入元素\n",
    "my_list.insert(0, 0)\n",
    "print(my_list)  # [0, 3, 1, 4, 1, 5, 9, 2, 6, 7, 8]\n",
    "\n",
    "# 移除元素\n",
    "my_list.remove(1)  # 移除第一个出现的 1\n",
    "print(my_list)  # [0, 3, 4, 1, 5, 9, 2, 6, 7, 8]\n",
    "\n",
    "# 弹出元素\n",
    "last_item = my_list.pop()\n",
    "print(last_item)  # 8\n",
    "print(my_list)  # [0, 3, 4, 1, 5, 9, 2, 6, 7]\n",
    "\n",
    "# 反转列表\n",
    "my_list.reverse()\n",
    "print(my_list)  # [7, 6, 2, 9, 5, 1, 4, 3, 0]\n",
    "\n",
    "# 排序列表\n",
    "my_list.sort()\n",
    "print(my_list)  # [0, 1, 2, 3, 4, 5, 6, 7, 9]\n",
    "\n",
    "# + 连接列表\n",
    "list1 = [1, 2, 3]\n",
    "list2 = [4, 5, 6]\n",
    "combined_list = list1 + list2\n",
    "print(combined_list)  # 输出: [1, 2, 3, 4, 5, 6]\n",
    "\n",
    "# * 重复列表\n",
    "list1 = [1, 2, 3]\n",
    "repeated_list = list1 * 3\n",
    "print(repeated_list)  # 输出: [1, 2, 3, 1, 2, 3, 1, 2, 3]"
   ]
  },
  {
   "cell_type": "markdown",
   "metadata": {},
   "source": [
    "### Tuple (元组)\n",
    "#### Characteristics:\n",
    "- Ordered: Elements in a tuple are stored in the order they are defined.\n",
    "- Immutable: Once created, the elements in a tuple cannot be modified.\n",
    "- Repeatable: Tuples can contain duplicate elements.\n",
    "- Supports multiple data types: Same as lists."
   ]
  },
  {
   "cell_type": "markdown",
   "metadata": {},
   "source": [
    "#### Tuple Creation and Representation\n",
    "| Representation          | Description                                                  | Example                              |\n",
    "| :---------------------- | :----------------------------------------------------------- | :----------------------------------- |\n",
    "| Empty tuple             | Create an empty tuple with no elements.                      | `my_tuple = ()`                      |\n",
    "| Single-element tuple    | Create a tuple with only one element; note the comma after the element. | `my_tuple = (42,)`                   |\n",
    "| Multi-type element tuple| Create a tuple containing elements of different types.       | `my_tuple = (1, 'hello', 3.14)`      |\n",
    "| Tuple without parentheses | Parentheses are optional; tuples can be defined without them. | `my_tuple = 'a', 2, True`            |\n",
    "| Using `tuple()` constructor | Use the `tuple()` constructor to convert other iterable objects (e.g., lists) to a tuple. | `my_tuple = tuple([1, 'two', True])` |"
   ]
  },
  {
   "cell_type": "markdown",
   "metadata": {},
   "source": [
    "#### Accessing Tuples Elements\n",
    "It has the same way to access elements as lists."
   ]
  },
  {
   "cell_type": "markdown",
   "metadata": {},
   "source": [
    "#### Tuple Operations\n",
    "| Operation Type | Description                               | Code Example                                                  |\n",
    "| :------------- | :---------------------------------------- | :------------------------------------------------------------ |\n",
    "| Concatenation  | Combine two tuples to form a new tuple.   | `tuple1 = (1, 2)`<br>`tuple2 = (3, 4)`<br>`print(tuple1 + tuple2)` |\n",
    "| Repetition     | Create a new tuple by repeating elements. | `my_tuple = ('repeat',)`<br>`print(my_tuple * 3)`             |\n",
    "| Membership     | Check if a specific element exists in a tuple. | `my_tuple = (1, 2, 3)`<br>`print(2 in my_tuple)`              |\n",
    "| Counting       | Count the number of times an element appears in a tuple. | `my_tuple = (1, 1, 2, 3)`<br>`print(my_tuple.count(1))`       |\n",
    "| Index Lookup   | Find the index of a specific element in a tuple. | `my_tuple = (1, 2, 3)`<br>`print(my_tuple.index(2))`          |\n",
    "| Length         | Get the number of elements in a tuple.    | `my_tuple = (1, 2, 3)`<br>`print(len(my_tuple))`              |"
   ]
  },
  {
   "cell_type": "markdown",
   "metadata": {},
   "source": [
    "### Dictionary (字典)\n",
    "#### Characterisitcs\n",
    "* Unordered: Although dictionaries in Python 3.7+ maintain insertion order, they are generally considered unordered.\n",
    "* Key-Value Pairs: Data is stored as key-value pairs. Keys must be immutable types, while values can be of any type.\n",
    "* Unique Keys: Each key must be unique. Assigning a value to the same key multiple times will overwrite the previous value.\n",
    "  \n",
    "#### Example: Student scores records\n",
    "![](list_dict.png)"
   ]
  },
  {
   "cell_type": "markdown",
   "metadata": {},
   "source": [
    "####  Dictionary Creation and Representation\n",
    "\n",
    "| Representation          | Description                                           | Example Code                                                  |\n",
    "| :---------------------- | :---------------------------------------------------- | :------------------------------------------------------------ |\n",
    "| Empty dictionary        | Create an empty dictionary with no key-value pairs.   | `my_dict = {}` or `my_dict = dict()`                          |\n",
    "| Using curly braces      | Create a dictionary directly with curly braces and key-value pairs. | `my_dict = {'a': 1, 'b': 2}`                                  |\n",
    "| Using `dict()` constructor | Create a dictionary using `dict()` with a sequence of key-value pairs. | `my_dict = dict([('a', 1), ('b', 2)])`                        |\n",
    "| Keyword arguments       | Pass keyword arguments to `dict()`.                   | `my_dict = dict(a=1, b=2)`                                    |\n",
    "| Creating from key list  | Use `fromkeys()` to set the same initial value for multiple keys. | `keys = ['a', 'b']`<br>`my_dict = dict.fromkeys(keys, 1)`     |\n",
    "| Using `zip()`           | Use `zip()` to combine two lists or tuples into key-value pairs to create a dictionary. | `keys = ['a', 'b']`<br>`values = [1, 2]`<br>`my_dict = dict(zip(keys, values))` |"
   ]
  },
  {
   "cell_type": "markdown",
   "metadata": {},
   "source": [
    "#### Accessing dictionary elements"
   ]
  },
  {
   "cell_type": "code",
   "execution_count": 5,
   "metadata": {},
   "outputs": [
    {
     "name": "stdout",
     "output_type": "stream",
     "text": [
      "Alice\n"
     ]
    }
   ],
   "source": [
    "my_dict = {'name': 'Alice', 'age': 25}\n",
    "print(my_dict['name'])  # 输出: Alice\n",
    "# print(my_dict['gender'])  # 如果键 'gender' 不存在，这将引发 KeyError"
   ]
  },
  {
   "cell_type": "code",
   "execution_count": 6,
   "metadata": {},
   "outputs": [
    {
     "name": "stdout",
     "output_type": "stream",
     "text": [
      "25\n",
      "Not specified\n"
     ]
    }
   ],
   "source": [
    "print(my_dict.get('age'))  # 输出: 25\n",
    "print(my_dict.get('gender', 'Not specified'))  # 输出: Not specified"
   ]
  },
  {
   "cell_type": "markdown",
   "metadata": {},
   "source": [
    "#### Dictionary Operations\n",
    "| Operation/Function              | Description                                                  |\n",
    "| :------------------------------ | :----------------------------------------------------------- |\n",
    "| `dict.keys()`                   | Returns a view containing all the keys in the dictionary.    |\n",
    "| `dict.values()`                 | Returns a view containing all the values in the dictionary.  |\n",
    "| `dict.items()`                  | Returns a view containing all the key-value pairs (as tuples) in the dictionary. |\n",
    "| `dict.update(other)`            | Updates the dictionary with key-value pairs from another dictionary `other` or iterable. |\n",
    "| `dict.pop(key, default)`        | Removes the specified key `key` and returns its value. If the key does not exist, returns `default`. |\n",
    "| `dict.popitem()`                | Removes and returns a random key-value pair. Raises `KeyError` if the dictionary is empty. |\n",
    "| `del dict[key]`                 | Deletes the specified key (`key`) and its associated value.  |\n",
    "| `dict.clear()`                  | Clears the dictionary, removing all items.                   |\n",
    "| `dict.copy()`                   | Returns a shallow copy of the dictionary.                    |\n",
    "| `len(dict)`                     | Returns the number of key-value pairs in the dictionary.     |\n",
    "| `key in dict`                   | Checks if the key (`key`) exists in the dictionary.          |\n",
    "| `dict.setdefault(key, default)` | If the key `key` exists, returns its value; if not, inserts the key-value pair `key: default` and returns `default`. |\n"
   ]
  },
  {
   "cell_type": "code",
   "execution_count": 7,
   "metadata": {},
   "outputs": [
    {
     "name": "stdout",
     "output_type": "stream",
     "text": [
      "After deletion: {'name': 'Alice', 'age': 25}\n",
      "Keys: ['name', 'age']\n",
      "Values: ['Alice', 25]\n",
      "Items: [('name', 'Alice'), ('age', 25)]\n",
      "('name', 'Alice') ('age', 25)\n",
      "After update: {'name': 'Alice', 'age': 30, 'gender': 'female'}\n",
      "Popped age: 30\n",
      "After pop: {'name': 'Alice', 'gender': 'female'}\n",
      "Popped item: gender female\n",
      "After popitem: {'name': 'Alice'}\n",
      "After clear: {}\n",
      "Copied dictionary: {'name': 'Bob', 'age': 22}\n",
      "Length of dictionary: 2\n",
      "Is 'name' in dictionary? True\n",
      "Set default: single\n",
      "After setdefault: {'name': 'Bob', 'age': 22, 'status': 'single'}\n"
     ]
    }
   ],
   "source": [
    "# 创建并初始化一个字典\n",
    "my_dict = {'name': 'Alice', 'age': 25, 'city': 'New York'}\n",
    "\n",
    "# 删除指定键及其对应的值\n",
    "del my_dict['city']  # 删除键 'city'\n",
    "print(\"After deletion:\", my_dict)\n",
    "\n",
    "# 返回字典中所有键\n",
    "keys = my_dict.keys()\n",
    "print(\"Keys:\", list(keys))\n",
    "\n",
    "# 返回字典中所有值\n",
    "values = my_dict.values()\n",
    "print(\"Values:\", list(values))\n",
    "\n",
    "# 返回字典中所有键值对（元组形式）\n",
    "items = my_dict.items()\n",
    "print(\"Items:\", list(items))\n",
    "\n",
    "# 解包字典中的所有键和值\n",
    "keys, values = my_dict.items()\n",
    "print(keys, values)\n",
    "\n",
    "# 用另一个字典更新当前字典\n",
    "my_dict.update({'age': 30, 'gender': 'female'})\n",
    "print(\"After update:\", my_dict)\n",
    "\n",
    "# 删除指定键并返回其值，如果键不存在则返回默认值\n",
    "age = my_dict.pop('age', None)\n",
    "print(\"Popped age:\", age)\n",
    "print(\"After pop:\", my_dict)\n",
    "\n",
    "# 清空字典\n",
    "my_dict.clear()\n",
    "print(\"After clear:\", my_dict)\n",
    "\n",
    "# 重新初始化字典，以便继续操作\n",
    "my_dict = {'name': 'Bob', 'age': 22}\n",
    "\n",
    "# 返回字典的一个浅拷贝\n",
    "new_dict = my_dict.copy()\n",
    "print(\"Copied dictionary:\", new_dict)\n",
    "\n",
    "# 返回字典中键值对的数量\n",
    "length = len(my_dict)\n",
    "print(\"Length of dictionary:\", length)\n",
    "\n",
    "# 检查键是否存在于字典中\n",
    "exists = 'name' in my_dict\n",
    "print(\"Is 'name' in dictionary?\", exists)\n",
    "\n",
    "# 如果键存在于字典中，返回对应的值；如果不存在，插入键值对并返回默认值\n",
    "status = my_dict.setdefault('status', 'single')\n",
    "print(\"Set default:\", status)\n",
    "print(\"After setdefault:\", my_dict)"
   ]
  },
  {
   "cell_type": "markdown",
   "metadata": {},
   "source": [
    "### Set (集合)\n",
    "#### Characteristics:\n",
    "* Unordered: Elements in a set have no fixed order.\n",
    "* No Duplicate Elements: Sets automatically remove duplicate elements.\n",
    "* Mutable: Elements can be added or removed.\n",
    "  \n",
    "#### Set Creaation and Representation\n",
    "| Method                           | Description                                        |\n",
    "| :------------------------------- | :------------------------------------------------- |\n",
    "| `set()`                          | Creates an empty set.                              |\n",
    "| `{element1, element2, ...}`      | Directly creates a set with several elements using curly braces. |\n",
    "| `set([element1, element2, ...])` | Creates a set from a list or any iterable object.  |\n",
    "| `set(range(start, stop, step))`  | Uses the `range()` function to generate a set of numbers. |"
   ]
  },
  {
   "cell_type": "markdown",
   "metadata": {},
   "source": [
    "#### Set Operations\n",
    "| Method                           | Description                                        |\n",
    "| :------------------------------- | :------------------------------------------------- |\n",
    "| `set.union(other_set)`, `set \\| other_set`                | Returns the union of two sets.                               |\n",
    "| `set.intersection(other_set)`, `set & other_set`         | Returns the intersection of two sets.                        |\n",
    "| `set.difference(other_set)`, `set - other_set`           | Returns the difference of two sets (elements in the first set but not in the second). |\n",
    "| `set.symmetric_difference(other_set)`, `set ^ other_set` | Returns the symmetric difference of two sets (elements in either set but not in their intersection). |\n",
    "| `set.issubset(other_set)`, `set <= other_set`            | Checks if the current set is a subset of another set.        |\n",
    "| `set.issuperset(other_set)`, `set >= other_set`          | Checks if the current set is a superset of another set.      |"
   ]
  },
  {
   "cell_type": "code",
   "execution_count": 12,
   "metadata": {},
   "outputs": [
    {
     "name": "stdout",
     "output_type": "stream",
     "text": [
      "Union of set1 and set2: {1, 2, 3, 4, 5}\n",
      "Intersection of set1 and set2: {3} {3, 4, 5}\n",
      "Difference of set1 from set2: {1, 2}\n",
      "Symmetric difference between set1 and set2: {1, 2, 4, 5}\n",
      "set2 is subset of set1: False\n"
     ]
    }
   ],
   "source": [
    "# 创建集合\n",
    "set1 = {1, 2, 3}\n",
    "set2 = {3, 4, 5}\n",
    "\n",
    "# 集合的并集\n",
    "union_set = set1.union(set2)\n",
    "print(\"Union of set1 and set2:\", union_set)\n",
    "\n",
    "# 集合的交集\n",
    "intersection_set = set1.intersection(set2)\n",
    "print(\"Intersection of set1 and set2:\", intersection_set, set2)\n",
    "\n",
    "# 集合的差集\n",
    "difference_set = set1.difference(set2)\n",
    "print(\"Difference of set1 from set2:\", difference_set)\n",
    "\n",
    "# 集合的对称差集\n",
    "symmetric_difference_set = set1.symmetric_difference(set2)\n",
    "print(\"Symmetric difference between set1 and set2:\", symmetric_difference_set)\n",
    "\n",
    "# 子集和超集检查\n",
    "print(\"set2 is subset of set1:\", set2.issubset(set1))\n"
   ]
  }
 ],
 "metadata": {
  "kernelspec": {
   "display_name": "base",
   "language": "python",
   "name": "python3"
  },
  "language_info": {
   "codemirror_mode": {
    "name": "ipython",
    "version": 3
   },
   "file_extension": ".py",
   "mimetype": "text/x-python",
   "name": "python",
   "nbconvert_exporter": "python",
   "pygments_lexer": "ipython3",
   "version": "3.8.19"
  }
 },
 "nbformat": 4,
 "nbformat_minor": 2
}
