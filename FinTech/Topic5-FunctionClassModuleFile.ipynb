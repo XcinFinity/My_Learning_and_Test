{
 "cells": [
  {
   "cell_type": "markdown",
   "metadata": {
    "slideshow": {
     "slide_type": "slide"
    }
   },
   "source": [
    "# Topic5: Function, Class, Module, File \n",
    "<p style=\"color:gray\">Ligang Zhou &nbsp;&nbsp; &nbsp;&nbsp;   School of Business&nbsp;&nbsp; &nbsp;&nbsp;     Macau University of Science and Technology </p>"
   ]
  },
  {
   "cell_type": "markdown",
   "metadata": {
    "slideshow": {
     "slide_type": "slide"
    }
   },
   "source": [
    "## Characteristics of Function\n",
    "* A **function** is a device that groups a set of statements so they can be run more than once in a program—a packaged procedure invoked by name.\n",
    "* Functions are the alternative to programming by cutting and pasting—\n",
    "rather than having multiple redundant copies of an operation’s code, we can factor\n",
    "it into a single function. \n",
    "* Functions are also the most basic program structure Python provides for maximizing code reuse, and lead us to the larger notions of program design.\n"
   ]
  },
  {
   "cell_type": "markdown",
   "metadata": {
    "slideshow": {
     "slide_type": "slide"
    }
   },
   "source": [
    "## Mathematical Function vs  Function  in Program\n",
    "\n",
    "\n",
    "$ \\quad \\quad X \\xrightarrow{f} Y \\quad$   vs &nbsp;&nbsp; Input $\\xrightarrow{function}$ Output"
   ]
  },
  {
   "cell_type": "markdown",
   "metadata": {
    "slideshow": {
     "slide_type": "slide"
    }
   },
   "source": [
    "## Why Use Functions?"
   ]
  },
  {
   "cell_type": "markdown",
   "metadata": {},
   "source": [
    "* Maximizing code reuse and minimizing redundancy\n",
    "* Procedural decomposition"
   ]
  },
  {
   "cell_type": "markdown",
   "metadata": {},
   "source": [
    "<big style=\"color:green\">Question: How to compute the area of a circle with radius of $r$? </big>"
   ]
  },
  {
   "cell_type": "code",
   "execution_count": 30,
   "metadata": {},
   "outputs": [
    {
     "name": "stdout",
     "output_type": "stream",
     "text": [
      "Please input the radius of a circle:10\n",
      "The area of a circle with radius of 10.0 is: 314.16\n"
     ]
    }
   ],
   "source": [
    "# A simple example of function\n",
    "import math\n",
    "def area(r):\n",
    "    area = math.pi * (r ** 2)\n",
    "    return area\n",
    "    \n",
    "r = input(\"Please input the radius of a circle:\")\n",
    "r = float(r)\n",
    "print(\"The area of a circle with radius of {0} is: {1:.2f}\".format(r, area(r)))    \n",
    "    "
   ]
  },
  {
   "cell_type": "markdown",
   "metadata": {
    "slideshow": {
     "slide_type": "slide"
    }
   },
   "source": [
    "## Coding Functions"
   ]
  },
  {
   "cell_type": "markdown",
   "metadata": {},
   "source": [
    "###  Main Concepts behind Functions"
   ]
  },
  {
   "cell_type": "markdown",
   "metadata": {},
   "source": [
    "* def creates an object and assigns it to a name \n",
    "* lambda creates an object but returns it as a result  \n",
    "* return sends a result object back to the caller  \n",
    "* yield sends a result object back to the caller, but remembers where it left off \n",
    "* global declares module-level variables that are to be assigned  \n",
    "* nonlocal declares enclosing function variables that are to be assigned \n",
    "* arguments are passed by assignment (object reference) \n",
    "* arguments are passed by position, unless you say otherwise \n",
    "* arguments, return values, and variables are not declared \n"
   ]
  },
  {
   "cell_type": "markdown",
   "metadata": {
    "slideshow": {
     "slide_type": "slide"
    }
   },
   "source": [
    "## Statment for Defining and Calling Function "
   ]
  },
  {
   "cell_type": "raw",
   "metadata": {},
   "source": [
    "# Define function by def\n",
    "#--------------------------------\n",
    "def func(arg1, arg2,... argN):\n",
    "    statements\n",
    "    return value\n",
    "\n",
    "# Call function   \n",
    "#--------------------------------------------------------\n",
    "func()                         # Call func again\n",
    "othername = func               # Assign function object\n",
    "othername()                    # Call func again\n",
    "func.attr = value0             # Attach attributes\n",
    "\n",
    "# Define function by lambda\n",
    "# --------------------------\n",
    "f = lambda x: x**3\n",
    "\n",
    "# Call function\n",
    "f(3)"
   ]
  },
  {
   "cell_type": "code",
   "execution_count": 5,
   "metadata": {
    "scrolled": true
   },
   "outputs": [
    {
     "data": {
      "text/plain": [
       "27"
      ]
     },
     "execution_count": 5,
     "metadata": {},
     "output_type": "execute_result"
    }
   ],
   "source": [
    "f = lambda x: x**3\n",
    "f(3)"
   ]
  },
  {
   "cell_type": "code",
   "execution_count": 12,
   "metadata": {
    "scrolled": false
   },
   "outputs": [
    {
     "name": "stdout",
     "output_type": "stream",
     "text": [
      "['w', 'r', 'e', 't']\n",
      "[1, 3]\n",
      "[1, 'a']\n"
     ]
    }
   ],
   "source": [
    "# The second example of function\n",
    "def intersect(seq1, seq2):\n",
    "    \"\"\"\n",
    "    input: seq1, seq2 are two sequences;\n",
    "    output: a list including intersect items in the two sequences;\n",
    "    \"\"\"\n",
    "    res = []\n",
    "    for x in seq1:\n",
    "        if x in seq2:\n",
    "            res.append(x)\n",
    "    res = list(set(res))\n",
    "    return res        \n",
    "s1 = 'watter'\n",
    "s2 = 'twitter'\n",
    "print(intersect(s1,s2))  # call the function\n",
    "print(intersect([1,3,5,2], [1, 6, 3]))\n",
    "print(intersect(('a', 1, 2, 5),('a', 1, 7, 9)))"
   ]
  },
  {
   "cell_type": "code",
   "execution_count": 4,
   "metadata": {},
   "outputs": [
    {
     "ename": "NameError",
     "evalue": "name 'lambada' is not defined",
     "output_type": "error",
     "traceback": [
      "\u001b[0;31m---------------------------------------------------------------------------\u001b[0m",
      "\u001b[0;31mNameError\u001b[0m                                 Traceback (most recent call last)",
      "\u001b[0;32m<ipython-input-4-9d96ea5708ce>\u001b[0m in \u001b[0;36m<module>\u001b[0;34m\u001b[0m\n\u001b[0;32m----> 1\u001b[0;31m \u001b[0mhelp\u001b[0m\u001b[0;34m(\u001b[0m\u001b[0mlambada\u001b[0m\u001b[0;34m)\u001b[0m\u001b[0;34m\u001b[0m\u001b[0;34m\u001b[0m\u001b[0m\n\u001b[0m",
      "\u001b[0;31mNameError\u001b[0m: name 'lambada' is not defined"
     ]
    }
   ],
   "source": [
    "help(lambada)"
   ]
  },
  {
   "cell_type": "code",
   "execution_count": 4,
   "metadata": {},
   "outputs": [
    {
     "name": "stdout",
     "output_type": "stream",
     "text": [
      "Help on function intersect in module __main__:\n",
      "\n",
      "intersect(seq1, seq2)\n",
      "    input: seq1, seq2 are two sequences;\n",
      "    output: a list including intersect items in the two sequences;\n",
      "\n"
     ]
    }
   ],
   "source": [
    "help(intersect)"
   ]
  },
  {
   "cell_type": "code",
   "execution_count": 3,
   "metadata": {},
   "outputs": [
    {
     "data": {
      "text/plain": [
       "[3]"
      ]
     },
     "execution_count": 3,
     "metadata": {},
     "output_type": "execute_result"
    }
   ],
   "source": [
    "intersect([1, 3, 5], [3])"
   ]
  },
  {
   "cell_type": "code",
   "execution_count": 6,
   "metadata": {},
   "outputs": [],
   "source": [
    "f = lambda x: x**2\n"
   ]
  },
  {
   "cell_type": "code",
   "execution_count": 7,
   "metadata": {},
   "outputs": [
    {
     "data": {
      "text/plain": [
       "9"
      ]
     },
     "execution_count": 7,
     "metadata": {},
     "output_type": "execute_result"
    }
   ],
   "source": [
    "f(3)"
   ]
  },
  {
   "cell_type": "code",
   "execution_count": 9,
   "metadata": {},
   "outputs": [
    {
     "data": {
      "text/plain": [
       "[1, 9, 25, 256]"
      ]
     },
     "execution_count": 9,
     "metadata": {},
     "output_type": "execute_result"
    }
   ],
   "source": [
    "a = [1, 3, 5, 16]\n",
    "[f(i) for i in a]"
   ]
  },
  {
   "cell_type": "code",
   "execution_count": 12,
   "metadata": {},
   "outputs": [
    {
     "data": {
      "text/plain": [
       "[1, 9, 25, 256]"
      ]
     },
     "execution_count": 12,
     "metadata": {},
     "output_type": "execute_result"
    }
   ],
   "source": [
    "[i**2 for i in a]"
   ]
  },
  {
   "cell_type": "code",
   "execution_count": 35,
   "metadata": {},
   "outputs": [
    {
     "data": {
      "text/plain": [
       "list"
      ]
     },
     "execution_count": 35,
     "metadata": {},
     "output_type": "execute_result"
    }
   ],
   "source": [
    "# intersect([1, 3], [3])\n",
    "a = [1, 3]\n",
    "type(a)"
   ]
  },
  {
   "cell_type": "markdown",
   "metadata": {},
   "source": [
    "## Scope of Variables"
   ]
  },
  {
   "cell_type": "markdown",
   "metadata": {},
   "source": [
    "<big>$\\bullet$ When you use a name in a program, Python creates,\n",
    "changes, or looks up the name in what is known as a namespace—a place where names\n",
    "live. <br> <br>\n",
    "$\\bullet$ The term scope refers to a namespace: that is, the location of a name’s assignment in your source code determines the scope of the name’s visibility to your code.\n",
    "</big>\n",
    "\n",
    "### Rules\n",
    "* Names assigned inside a def can only be seen by the code within that def. \n",
    "* Names assigned inside a def do not clash with variables outside the def, even if the same names are used elsewhere.\n"
   ]
  },
  {
   "cell_type": "markdown",
   "metadata": {},
   "source": [
    "### $\\circ$ Global Scope"
   ]
  },
  {
   "cell_type": "code",
   "execution_count": 8,
   "metadata": {},
   "outputs": [
    {
     "name": "stdout",
     "output_type": "stream",
     "text": [
      "88\n"
     ]
    }
   ],
   "source": [
    "x = 88\n",
    "def func():\n",
    "#     global x\n",
    "    x = 99\n",
    "func()\n",
    "print(x)"
   ]
  },
  {
   "cell_type": "markdown",
   "metadata": {},
   "source": [
    "### $\\circ$ Nonlocal"
   ]
  },
  {
   "cell_type": "code",
   "execution_count": 9,
   "metadata": {},
   "outputs": [
    {
     "name": "stdout",
     "output_type": "stream",
     "text": [
      "spam 0\n"
     ]
    },
    {
     "ename": "AttributeError",
     "evalue": "'function' object has no attribute 'state'",
     "output_type": "error",
     "traceback": [
      "\u001b[1;31m---------------------------------------------------------------------------\u001b[0m",
      "\u001b[1;31mAttributeError\u001b[0m                            Traceback (most recent call last)",
      "\u001b[1;32m<ipython-input-9-79057db8bf90>\u001b[0m in \u001b[0;36m<module>\u001b[1;34m\u001b[0m\n\u001b[0;32m      9\u001b[0m \u001b[0mF\u001b[0m \u001b[1;33m=\u001b[0m \u001b[0mtester\u001b[0m\u001b[1;33m(\u001b[0m\u001b[1;36m0\u001b[0m\u001b[1;33m)\u001b[0m\u001b[1;33m\u001b[0m\u001b[1;33m\u001b[0m\u001b[0m\n\u001b[0;32m     10\u001b[0m \u001b[0mF\u001b[0m\u001b[1;33m(\u001b[0m\u001b[1;34m'spam'\u001b[0m\u001b[1;33m)\u001b[0m\u001b[1;33m\u001b[0m\u001b[1;33m\u001b[0m\u001b[0m\n\u001b[1;32m---> 11\u001b[1;33m \u001b[0mF\u001b[0m\u001b[1;33m.\u001b[0m\u001b[0mstate\u001b[0m\u001b[1;33m\u001b[0m\u001b[1;33m\u001b[0m\u001b[0m\n\u001b[0m",
      "\u001b[1;31mAttributeError\u001b[0m: 'function' object has no attribute 'state'"
     ]
    }
   ],
   "source": [
    "\n",
    "def tester(start):\n",
    "    state = start # Each call gets its own state\n",
    "    def nested(label):\n",
    "        nonlocal state # Remembers state in enclosing scope\n",
    "        print(label, state)\n",
    "        state += 1 # Allowed to change it if nonlocal\n",
    "    return nested\n",
    "    \n",
    "F = tester(0)\n",
    "F('spam')\n",
    "F.state"
   ]
  },
  {
   "cell_type": "markdown",
   "metadata": {
    "slideshow": {
     "slide_type": "slide"
    }
   },
   "source": [
    "## Arguments"
   ]
  },
  {
   "cell_type": "markdown",
   "metadata": {},
   "source": [
    "###  Argument-Passing Basics"
   ]
  },
  {
   "cell_type": "markdown",
   "metadata": {},
   "source": [
    "* Arguments are passed by automatically assigning objects to local variable names \n",
    "* Assigning to argument names inside a function does not affect the caller \n",
    "* Changing a mutable object argument in a function may impact the caller \n",
    "* Immutable arguments are effectively passed “by value”\n",
    "* Mutable arguments are effectively passed “by pointer\""
   ]
  },
  {
   "cell_type": "code",
   "execution_count": 12,
   "metadata": {},
   "outputs": [
    {
     "data": {
      "text/plain": [
       "88"
      ]
     },
     "execution_count": 12,
     "metadata": {},
     "output_type": "execute_result"
    }
   ],
   "source": [
    "# demonstration of argument-passing by value\n",
    "def f(x):\n",
    "    x = 99\n",
    "\n",
    "y = 88\n",
    "f(y)\n",
    "y"
   ]
  },
  {
   "cell_type": "code",
   "execution_count": 13,
   "metadata": {},
   "outputs": [
    {
     "data": {
      "text/plain": [
       "(1, ['b0', 2])"
      ]
     },
     "execution_count": 13,
     "metadata": {},
     "output_type": "execute_result"
    }
   ],
   "source": [
    "def change(a, b):\n",
    "    a = 2\n",
    "    b[0] = \"b0\"\n",
    "\n",
    "X = 1\n",
    "L = [1, 2]\n",
    "change(X, L)\n",
    "X, L"
   ]
  },
  {
   "cell_type": "markdown",
   "metadata": {},
   "source": [
    "### Argument Matching Syntax"
   ]
  },
  {
   "cell_type": "markdown",
   "metadata": {},
   "source": [
    "|syntax          |             location             |        interpretation|\n",
    "|:- |:-|:-|\n",
    "|def func(name)|Function|Normal argument: matches any passed value by position or name|\n",
    "|def func(name=value)  |Function|Default argument value, if not passed in the call|\n",
    "|def func(\\*name)|Function| Matches and collects remaining positional arguments in a tuple|\n",
    "|def func(\\*\\*name)| Function| Matches and collects remaining keyword arguments in a dictionary|\n",
    "|func(value)|Caller|Normal argument: matched by position|\n",
    "|func(name=value)|Caller|Keyword argument: matched by name|\n",
    "|func(\\*iterable)|Caller|All objects in iterable as individual arguments|\n",
    "|func(\\*\\*dict) |Caller| key/value pairs in dict as individual keyword arguments|\n"
   ]
  },
  {
   "cell_type": "markdown",
   "metadata": {
    "slideshow": {
     "slide_type": "slide"
    }
   },
   "source": [
    "### Arugment Matching Steps \n",
    "\n",
    "1. Assign nonkeyword arguments by position.\n",
    "2. Assign keyword arguments by matching names.\n",
    "3. Assign extra nonkeyword arguments to *name tuple.\n",
    "4. Assign extra keyword arguments to **name dictionary.\n",
    "5. Assign default values to unassigned arguments in header."
   ]
  },
  {
   "cell_type": "code",
   "execution_count": null,
   "metadata": {},
   "outputs": [],
   "source": [
    "def sumabn(a, b, *n, square=False ):\n",
    "    sum0 = a + b\n",
    "    for i in n:\n",
    "        sum0 = sum0 + i\n",
    "    if square:\n",
    "        sum0 = sum0**2\n",
    "\n",
    "    return sum0\n",
    "\n",
    "sumabn(1,2,3, 4, 5, 6, square=True)"
   ]
  },
  {
   "cell_type": "code",
   "execution_count": 33,
   "metadata": {},
   "outputs": [
    {
     "name": "stdout",
     "output_type": "stream",
     "text": [
      "(1,)\n",
      "(1, 'a', 4, 6)\n",
      "{'a': 1, 'b': 2}\n",
      "1 (2, 3) {'c': 2, 'd': 3}\n",
      "1 (2, 3) {'c': 2, 'd': 3}\n"
     ]
    }
   ],
   "source": [
    "def ft(*arg):\n",
    "    print(arg)\n",
    "\n",
    "def fd(**arg):\n",
    "    print(arg)\n",
    "\n",
    "def ftd(a, *argt, **argd):\n",
    "    print(a, argt, argd)\n",
    "    \n",
    "ft(1)\n",
    "ft(1, \"a\", 4, 6)\n",
    "fd(a=1, b=2)\n",
    "ftd(1, *(2, 3), **{\"c\":2, \"d\":3})\n",
    "ftd(1, 2, 3, c=2, d=3) "
   ]
  },
  {
   "cell_type": "code",
   "execution_count": 50,
   "metadata": {},
   "outputs": [],
   "source": [
    "def mysum3(x1, x2, *arg, square=False):\n",
    "    sum0 = x1 + x2\n",
    "    for i in arg:\n",
    "        sum0 = sum0 + i\n",
    "    if square:\n",
    "        sum0 = sum0**2\n",
    "        \n",
    "    return sum0\n",
    "\n"
   ]
  },
  {
   "cell_type": "markdown",
   "metadata": {},
   "source": [
    "**[More details and examples about functions](https://docs.python.org/3/tutorial/controlflow.html#defining-functions)**"
   ]
  },
  {
   "cell_type": "markdown",
   "metadata": {},
   "source": [
    "# Class"
   ]
  },
  {
   "cell_type": "markdown",
   "metadata": {},
   "source": [
    "## Why Class"
   ]
  },
  {
   "cell_type": "markdown",
   "metadata": {},
   "source": [
    "<p> $\\bullet$ In Python, Object Oriented Programming (OOP) is entirely optional, and you don’t need to use classes just to get started. You can get plenty of work done with simpler constructs such as functions, or even simple top-level script code.</p>\n",
    "<p> $\\bullet$ When used well, classes can actually cut development time\n",
    "radically. </p>\n",
    "<p> $\\bullet$ Class is the encapsulation of data and methods (functions). </p>\n",
    "\n",
    "\n"
   ]
  },
  {
   "cell_type": "markdown",
   "metadata": {},
   "source": [
    "## Class vs Objects"
   ]
  },
  {
   "cell_type": "markdown",
   "metadata": {},
   "source": [
    "<p> $\\bullet$ Classes</p>\n",
    "Serve as instance factories. Their attributes provide behavior—data and functions\n",
    "—that is inherited by all the instances generated from them. (Table Structure)\n",
    "<p> $\\bullet$ Objects (Instances)</p>\n",
    "Represent the concrete items in a program’s domain. Their attributes record data\n",
    "that varies per specific object. (Record)\n",
    "\n",
    "<p> $\\bullet$ Classes are a kind of factory for generating instances, classes will usually have functions attached to them, and the instances will have more basic data items used by the class’s functions. </p>\n"
   ]
  },
  {
   "cell_type": "markdown",
   "metadata": {},
   "source": [
    "**An example to demonstrate the diffence between class and objects** \n",
    "\n",
    "![](Fig-table.png)"
   ]
  },
  {
   "cell_type": "markdown",
   "metadata": {},
   "source": [
    "## Class Definition"
   ]
  },
  {
   "cell_type": "markdown",
   "metadata": {},
   "source": [
    "<p>$\\bullet$ Class definitions, like function definitions (def statements) must be executed before they have any effect. </p>\n",
    "\n",
    "<p>$\\bullet$ When a class definition is entered, a new namespace is created, and used as the local scope — thus, all assignments to local variables go into this new namespace. </p>\n",
    "\n",
    "<p>$\\bullet$ When a class definition is left normally (via the end), a class object is created. </p>"
   ]
  },
  {
   "cell_type": "markdown",
   "metadata": {},
   "source": [
    "* Each time a class is called, it generates a new instance object.\n",
    "* Instances are automatically linked to the classes from which they are created.\n",
    "* Classes are automatically linked to their superclasses according to the way we list them in parentheses in a class header line. "
   ]
  },
  {
   "cell_type": "markdown",
   "metadata": {},
   "source": [
    "* The class statement creates a class object and assigns it a name. \n",
    "* Assignments inside class statements make class attributes.\n",
    "* Class attributes provide object state and behavior."
   ]
  },
  {
   "cell_type": "markdown",
   "metadata": {},
   "source": [
    "## Instance Objects Are Concrete Items\n",
    "   \n",
    "* Calling a class object like a function makes a new instance object.\n",
    "* Each instance object inherits class attributes and gets its own namespace.\n",
    "* Assignments to attributes of `self` in methods make per-instance attributes."
   ]
  },
  {
   "cell_type": "code",
   "execution_count": 10,
   "metadata": {},
   "outputs": [],
   "source": [
    "class Student:\n",
    "    \n",
    "    def __init__(self, name, sex, age, scores):\n",
    "        self.name = name\n",
    "        self.sex = sex\n",
    "        self.age = age\n",
    "        self.scores = scores # scores should be a dict\n",
    "    \n",
    "#     def display(self):\n",
    "    def averagescore(self):\n",
    "        totalscore = sum(self.scores.values())\n",
    "        return totalscore/len(self.scores)\n",
    "        \n",
    "    def __str__(self):\n",
    "        out = f'name:{self.name}\\nsex:{self.sex}\\nage:{self.age}\\naveragescore:{self.averagescore():.2f}\\n'\n",
    "        if hasattr(self, 'phone'):\n",
    "            out = out + f'phone:{self.phone}\\n'     \n",
    "        return out + '------------'\n",
    "    "
   ]
  },
  {
   "cell_type": "code",
   "execution_count": 11,
   "metadata": {},
   "outputs": [
    {
     "name": "stdout",
     "output_type": "stream",
     "text": [
      "name:Zhangsan\n",
      "sex:M\n",
      "age:20\n",
      "averagescore:84.33\n",
      "------------\n"
     ]
    }
   ],
   "source": [
    "stud1 = Student('Zhangsan', 'M', 20, {'Python':90, 'Econ':80, 'Finance':83})\n",
    "# stud1.phone = '62345678'\n",
    "# stud1.display()\n",
    "print(stud1)\n",
    "# stud2 = Student('Lisi', 'M', 21)\n",
    "# print(stud2)"
   ]
  },
  {
   "cell_type": "code",
   "execution_count": 49,
   "metadata": {},
   "outputs": [
    {
     "data": {
      "text/plain": [
       "80.0"
      ]
     },
     "execution_count": 49,
     "metadata": {},
     "output_type": "execute_result"
    }
   ],
   "source": [
    "d = {'a':80, 'b':90, 'c':70}\n",
    "sum(d.values())/len(d)"
   ]
  },
  {
   "cell_type": "markdown",
   "metadata": {},
   "source": [
    "The normal way to give instance attributes their first values is to assign them to _self_ in the *\\_\\_init\\_\\_* constructor method, which contains code run automatically by Python each time an instance is created. "
   ]
  },
  {
   "cell_type": "code",
   "execution_count": 22,
   "metadata": {},
   "outputs": [
    {
     "data": {
      "text/plain": [
       "['ArithmeticError',\n",
       " 'AssertionError',\n",
       " 'AttributeError',\n",
       " 'BaseException',\n",
       " 'BlockingIOError',\n",
       " 'BrokenPipeError',\n",
       " 'BufferError',\n",
       " 'BytesWarning',\n",
       " 'ChildProcessError',\n",
       " 'ConnectionAbortedError',\n",
       " 'ConnectionError',\n",
       " 'ConnectionRefusedError',\n",
       " 'ConnectionResetError',\n",
       " 'DeprecationWarning',\n",
       " 'EOFError',\n",
       " 'Ellipsis',\n",
       " 'EnvironmentError',\n",
       " 'Exception',\n",
       " 'False',\n",
       " 'FileExistsError',\n",
       " 'FileNotFoundError',\n",
       " 'FloatingPointError',\n",
       " 'FutureWarning',\n",
       " 'GeneratorExit',\n",
       " 'IOError',\n",
       " 'ImportError',\n",
       " 'ImportWarning',\n",
       " 'IndentationError',\n",
       " 'IndexError',\n",
       " 'InterruptedError',\n",
       " 'IsADirectoryError',\n",
       " 'KeyError',\n",
       " 'KeyboardInterrupt',\n",
       " 'LookupError',\n",
       " 'MemoryError',\n",
       " 'ModuleNotFoundError',\n",
       " 'NameError',\n",
       " 'None',\n",
       " 'NotADirectoryError',\n",
       " 'NotImplemented',\n",
       " 'NotImplementedError',\n",
       " 'OSError',\n",
       " 'OverflowError',\n",
       " 'PendingDeprecationWarning',\n",
       " 'PermissionError',\n",
       " 'ProcessLookupError',\n",
       " 'RecursionError',\n",
       " 'ReferenceError',\n",
       " 'ResourceWarning',\n",
       " 'RuntimeError',\n",
       " 'RuntimeWarning',\n",
       " 'StopAsyncIteration',\n",
       " 'StopIteration',\n",
       " 'SyntaxError',\n",
       " 'SyntaxWarning',\n",
       " 'SystemError',\n",
       " 'SystemExit',\n",
       " 'TabError',\n",
       " 'TimeoutError',\n",
       " 'True',\n",
       " 'TypeError',\n",
       " 'UnboundLocalError',\n",
       " 'UnicodeDecodeError',\n",
       " 'UnicodeEncodeError',\n",
       " 'UnicodeError',\n",
       " 'UnicodeTranslateError',\n",
       " 'UnicodeWarning',\n",
       " 'UserWarning',\n",
       " 'ValueError',\n",
       " 'Warning',\n",
       " 'WindowsError',\n",
       " 'ZeroDivisionError',\n",
       " '__IPYTHON__',\n",
       " '__build_class__',\n",
       " '__debug__',\n",
       " '__doc__',\n",
       " '__import__',\n",
       " '__loader__',\n",
       " '__name__',\n",
       " '__package__',\n",
       " '__spec__',\n",
       " 'abs',\n",
       " 'all',\n",
       " 'any',\n",
       " 'ascii',\n",
       " 'bin',\n",
       " 'bool',\n",
       " 'breakpoint',\n",
       " 'bytearray',\n",
       " 'bytes',\n",
       " 'callable',\n",
       " 'chr',\n",
       " 'classmethod',\n",
       " 'compile',\n",
       " 'complex',\n",
       " 'copyright',\n",
       " 'credits',\n",
       " 'delattr',\n",
       " 'dict',\n",
       " 'dir',\n",
       " 'display',\n",
       " 'divmod',\n",
       " 'enumerate',\n",
       " 'eval',\n",
       " 'exec',\n",
       " 'filter',\n",
       " 'float',\n",
       " 'format',\n",
       " 'frozenset',\n",
       " 'get_ipython',\n",
       " 'getattr',\n",
       " 'globals',\n",
       " 'hasattr',\n",
       " 'hash',\n",
       " 'help',\n",
       " 'hex',\n",
       " 'id',\n",
       " 'input',\n",
       " 'int',\n",
       " 'isinstance',\n",
       " 'issubclass',\n",
       " 'iter',\n",
       " 'len',\n",
       " 'license',\n",
       " 'list',\n",
       " 'locals',\n",
       " 'map',\n",
       " 'max',\n",
       " 'memoryview',\n",
       " 'min',\n",
       " 'next',\n",
       " 'object',\n",
       " 'oct',\n",
       " 'open',\n",
       " 'ord',\n",
       " 'pow',\n",
       " 'print',\n",
       " 'property',\n",
       " 'range',\n",
       " 'repr',\n",
       " 'reversed',\n",
       " 'round',\n",
       " 'set',\n",
       " 'setattr',\n",
       " 'slice',\n",
       " 'sorted',\n",
       " 'staticmethod',\n",
       " 'str',\n",
       " 'sum',\n",
       " 'super',\n",
       " 'tuple',\n",
       " 'type',\n",
       " 'vars',\n",
       " 'zip']"
      ]
     },
     "execution_count": 22,
     "metadata": {},
     "output_type": "execute_result"
    }
   ],
   "source": [
    "dir(builtins)"
   ]
  },
  {
   "cell_type": "code",
   "execution_count": 29,
   "metadata": {},
   "outputs": [],
   "source": [
    "class Student():\n",
    "    \n",
    "    def __init__(self, name, sex, age, scores):\n",
    "        self.name = name\n",
    "        self.sex = sex\n",
    "        self.age = age\n",
    "        self.scores = scores\n",
    "        \n",
    "#     def display(self):\n",
    "    def averagescore(self):\n",
    "        totalscores = sum(self.scores.values())\n",
    "        return totalscores/len(self.scores)\n",
    "    \n",
    "    def __str__(self):\n",
    "        if hasattr(self, 'phone'):\n",
    "            return f'Name: {self.name} --- Sex: {self.sex} --- Age: {self.age}  --- AverageScore:{self.averagescore()} --- Phone: {self.phone}'\n",
    "        else:\n",
    "            return f'Name: {self.name} --- Sex: {self.sex} --- Age: {self.age} --- AverageScore:{self.averagescore():.2f}'\n",
    "        "
   ]
  },
  {
   "cell_type": "code",
   "execution_count": 30,
   "metadata": {},
   "outputs": [
    {
     "name": "stdout",
     "output_type": "stream",
     "text": [
      "Name: Zhangsan --- Sex: M --- Age: 20 --- AverageScore:82.67\n"
     ]
    }
   ],
   "source": [
    "stud1 = Student('Zhangsan', 'M', 20, {'Python': 80, 'Econ': 90, 'Finance':78})\n",
    "# print(stud1.display())\n",
    "# stud2 = Student('Lisi', 'M', 21)\n",
    "# # print(stud2.display())\n",
    "# print(stud1)\n",
    "# stud1.phone = '010-1234567'\n",
    "# print(stud1)\n",
    "print(stud1)"
   ]
  },
  {
   "cell_type": "code",
   "execution_count": 25,
   "metadata": {},
   "outputs": [
    {
     "data": {
      "text/plain": [
       "3"
      ]
     },
     "execution_count": 25,
     "metadata": {},
     "output_type": "execute_result"
    }
   ],
   "source": [
    "d = {'a':80, 'b':70, 'c':90}\n"
   ]
  },
  {
   "cell_type": "code",
   "execution_count": 21,
   "metadata": {},
   "outputs": [],
   "source": [
    "import builtins"
   ]
  },
  {
   "cell_type": "markdown",
   "metadata": {},
   "source": [
    "## Inheritance"
   ]
  },
  {
   "cell_type": "code",
   "execution_count": 12,
   "metadata": {},
   "outputs": [
    {
     "name": "stdout",
     "output_type": "stream",
     "text": [
      "MiaoMiao\n",
      "WangWang\n"
     ]
    }
   ],
   "source": [
    "class Animal():\n",
    "    def __init__(self, name=''):\n",
    "        self.name = name\n",
    "    \n",
    "    def speak(self):\n",
    "        pass\n",
    "    \n",
    "\n",
    "class Dog(Animal):\n",
    "    def speak(self):\n",
    "        return \"WangWang\"\n",
    "\n",
    "\n",
    "class Cat(Animal):\n",
    "    def speak(self):\n",
    "        return \"MiaoMiao\"\n",
    "    \n",
    "\n",
    "cat1 = Cat('Xiaohui')\n",
    "print(cat1.speak())\n",
    "dog1 = Dog('Xiaohuang')\n",
    "print(dog1.speak())\n",
    "    "
   ]
  },
  {
   "cell_type": "code",
   "execution_count": 15,
   "metadata": {},
   "outputs": [
    {
     "data": {
      "text/plain": [
       "False"
      ]
     },
     "execution_count": 15,
     "metadata": {},
     "output_type": "execute_result"
    }
   ],
   "source": [
    "issubclass(Cat, Dog)"
   ]
  },
  {
   "cell_type": "code",
   "execution_count": 18,
   "metadata": {},
   "outputs": [
    {
     "data": {
      "text/plain": [
       "True"
      ]
     },
     "execution_count": 18,
     "metadata": {},
     "output_type": "execute_result"
    }
   ],
   "source": [
    "isinstance(cat1, Animal)"
   ]
  },
  {
   "cell_type": "code",
   "execution_count": 53,
   "metadata": {},
   "outputs": [],
   "source": [
    "class Point2D:\n",
    "    \n",
    "    def __init__(self, x=0, y=0):\n",
    "        self.x = x\n",
    "        self.y = y\n",
    "        \n",
    "    def __str__(self):\n",
    "        return f'({self.x}, {self.y})'\n",
    "    \n",
    "    def __add__(self, point2):\n",
    "        return Point2D(self.x + point2.x, self.y + point2.y)\n",
    "    \n",
    "    def __abs__(self):\n",
    "        return (self.x**2 + self.y**2)**0.5\n",
    "    "
   ]
  },
  {
   "cell_type": "code",
   "execution_count": 54,
   "metadata": {},
   "outputs": [
    {
     "name": "stdout",
     "output_type": "stream",
     "text": [
      "(7, 11)\n"
     ]
    }
   ],
   "source": [
    "p1 = Point2D(3, 4)\n",
    "p2 = Point2D(4, 7)\n",
    "print(p1 + p2)"
   ]
  },
  {
   "cell_type": "code",
   "execution_count": 55,
   "metadata": {},
   "outputs": [
    {
     "data": {
      "text/plain": [
       "5.0"
      ]
     },
     "execution_count": 55,
     "metadata": {},
     "output_type": "execute_result"
    }
   ],
   "source": [
    "abs(p1)"
   ]
  },
  {
   "cell_type": "code",
   "execution_count": 20,
   "metadata": {
    "scrolled": true
   },
   "outputs": [
    {
     "data": {
      "text/plain": [
       "type"
      ]
     },
     "execution_count": 20,
     "metadata": {},
     "output_type": "execute_result"
    }
   ],
   "source": [
    "type(object)"
   ]
  },
  {
   "cell_type": "code",
   "execution_count": 21,
   "metadata": {},
   "outputs": [
    {
     "data": {
      "text/plain": [
       "type"
      ]
     },
     "execution_count": 21,
     "metadata": {},
     "output_type": "execute_result"
    }
   ],
   "source": [
    "type(type)"
   ]
  },
  {
   "cell_type": "code",
   "execution_count": 38,
   "metadata": {},
   "outputs": [],
   "source": [
    "class Point2D():\n",
    "    \n",
    "    def __init__(self, x=0, y=0, r=0):\n",
    "        self.x = x\n",
    "        self.y = y\n",
    "        \n",
    "    def __str__(self):\n",
    "        return f'({self.x:.2f}, {self.y:.2f})'\n",
    "    \n",
    "    def __add__(self, point2):\n",
    "        return Point2D(self.x + point2.x, self.y + point2.y)\n",
    "    \n",
    "        "
   ]
  },
  {
   "cell_type": "code",
   "execution_count": 40,
   "metadata": {},
   "outputs": [
    {
     "name": "stdout",
     "output_type": "stream",
     "text": [
      "(7.00, 11.00)\n"
     ]
    }
   ],
   "source": [
    "p1 = Point2D(3, 5)\n",
    "p2 = Point2D(4, 6)\n",
    "print(p1 + p2)"
   ]
  },
  {
   "cell_type": "markdown",
   "metadata": {},
   "source": [
    "## OOP Is Simpler Than You May Think\n",
    "\n",
    "* Instance creation—filling out instance attributes\n",
    "* Behavior methods—encapsulating logic in a class’s methods\n",
    "* Operator overloading—providing behavior for built-in operations like printing\n",
    "* Customizing behavior—redefining methods in subclasses to specialize them\n",
    "* Customizing constructors—adding initialization logic to superclass steps\n",
    "\n",
    "More details about class can be found in `Part VI Classes and OOP` of Learning Python (5th)"
   ]
  },
  {
   "cell_type": "markdown",
   "metadata": {},
   "source": [
    "#  Module "
   ]
  },
  {
   "cell_type": "markdown",
   "metadata": {},
   "source": [
    "## What is a module in Python?\n",
    "<big> $\\bullet$ module — the highest-level program organization unit, which packages program code and data for reuse <br>\n",
    "    $\\bullet$ provides selfcontained namespaces that minimize variable name clashes across your programs </big>"
   ]
  },
  {
   "cell_type": "markdown",
   "metadata": {},
   "source": [
    "##  Why Module"
   ]
  },
  {
   "cell_type": "markdown",
   "metadata": {},
   "source": [
    "<big> $\\bullet$ Code reuse <br>\n",
    "    $\\bullet$ System namespace partitioning <br>\n",
    "    $\\bullet$ Implementing shared services or data\n",
    "</big>"
   ]
  },
  {
   "cell_type": "markdown",
   "metadata": {},
   "source": [
    "## How to Structure a Program?"
   ]
  },
  {
   "cell_type": "markdown",
   "metadata": {},
   "source": [
    "<p> $\\bullet$ A Python program consists of text files containing Python statements,\n",
    "with one main top-level file, and zero or more supplemental files known as modules.</p>\n",
    "<p> $\\bullet$ The top-level file contains the main flow of control\n",
    "of your program—this is the file you run to launch your application.</p>\n",
    "<p> $\\bullet$ The module files are libraries of tools used to collect components used by the top-level file, and possibly elsewhere. </p>\n",
    "<p> $\\bullet$ Top-level files use tools defined in module files, and modules use tools defined\n",
    "in other modules.</p>\n",
    "\n"
   ]
  },
  {
   "cell_type": "markdown",
   "metadata": {},
   "source": [
    "## Module Usages"
   ]
  },
  {
   "cell_type": "markdown",
   "metadata": {},
   "source": [
    "<p>$\\bullet$ The import Statement </p>\n",
    "<p>$\\bullet$ The from Statement </p>\n",
    "<p>$\\bullet$ The from * Statement </p>"
   ]
  },
  {
   "cell_type": "markdown",
   "metadata": {},
   "source": [
    "<img src=\"Fig-import.png\">"
   ]
  },
  {
   "cell_type": "code",
   "execution_count": 2,
   "metadata": {},
   "outputs": [
    {
     "name": "stdout",
     "output_type": "stream",
     "text": [
      "Processing c:\\users\\lg\\appdata\\local\\pip\\cache\\wheels\\f9\\e9\\7e\\8b13db3bf3aeb5049d759e10702736fb96753089ac950fddc0\\yfinance-0.1.64-py2.py3-none-any.whl\n",
      "Requirement already satisfied: requests>=2.20 in c:\\users\\lg\\anaconda3\\lib\\site-packages (from yfinance) (2.24.0)\n",
      "Requirement already satisfied: numpy>=1.15 in c:\\users\\lg\\anaconda3\\lib\\site-packages (from yfinance) (1.18.5)\n",
      "Requirement already satisfied: pandas>=0.24 in c:\\users\\lg\\anaconda3\\lib\\site-packages (from yfinance) (1.1.5)\n",
      "Requirement already satisfied: multitasking>=0.0.7 in c:\\users\\lg\\anaconda3\\lib\\site-packages (from yfinance) (0.0.9)\n",
      "Requirement already satisfied: lxml>=4.5.1 in c:\\users\\lg\\anaconda3\\lib\\site-packages (from yfinance) (4.5.2)\n",
      "Requirement already satisfied: chardet<4,>=3.0.2 in c:\\users\\lg\\anaconda3\\lib\\site-packages (from requests>=2.20->yfinance) (3.0.4)\n",
      "Requirement already satisfied: idna<3,>=2.5 in c:\\users\\lg\\anaconda3\\lib\\site-packages (from requests>=2.20->yfinance) (2.10)\n",
      "Requirement already satisfied: certifi>=2017.4.17 in c:\\users\\lg\\anaconda3\\lib\\site-packages (from requests>=2.20->yfinance) (2020.6.20)\n",
      "Requirement already satisfied: urllib3!=1.25.0,!=1.25.1,<1.26,>=1.21.1 in c:\\users\\lg\\anaconda3\\lib\\site-packages (from requests>=2.20->yfinance) (1.25.9)\n",
      "Requirement already satisfied: python-dateutil>=2.7.3 in c:\\users\\lg\\anaconda3\\lib\\site-packages (from pandas>=0.24->yfinance) (2.8.1)\n",
      "Requirement already satisfied: pytz>=2017.2 in c:\\users\\lg\\anaconda3\\lib\\site-packages (from pandas>=0.24->yfinance) (2020.1)\n",
      "Requirement already satisfied: six>=1.5 in c:\\users\\lg\\anaconda3\\lib\\site-packages (from python-dateutil>=2.7.3->pandas>=0.24->yfinance) (1.15.0)\n",
      "Installing collected packages: yfinance\n",
      "Successfully installed yfinance-0.1.64\n"
     ]
    }
   ],
   "source": [
    "!pip install yfinance"
   ]
  },
  {
   "cell_type": "code",
   "execution_count": null,
   "metadata": {},
   "outputs": [],
   "source": [
    "!pip install pandas==1.1.5"
   ]
  },
  {
   "cell_type": "code",
   "execution_count": 3,
   "metadata": {},
   "outputs": [],
   "source": [
    "import yfinance as yf"
   ]
  },
  {
   "cell_type": "code",
   "execution_count": 24,
   "metadata": {},
   "outputs": [
    {
     "data": {
      "text/plain": [
       "'1.18.5'"
      ]
     },
     "execution_count": 24,
     "metadata": {},
     "output_type": "execute_result"
    }
   ],
   "source": [
    "import numpy as pd\n",
    "pd.__version__"
   ]
  },
  {
   "cell_type": "code",
   "execution_count": 20,
   "metadata": {
    "scrolled": true
   },
   "outputs": [
    {
     "data": {
      "text/plain": [
       "<matplotlib.axes._subplots.AxesSubplot at 0x1e1fb5bdd60>"
      ]
     },
     "execution_count": 20,
     "metadata": {},
     "output_type": "execute_result"
    },
    {
     "data": {
      "image/png": "[encoded data removed]",
      "text/plain": [
       "<Figure size 432x288 with 1 Axes>"
      ]
     },
     "metadata": {
      "needs_background": "light"
     },
     "output_type": "display_data"
    }
   ],
   "source": [
    "# data = yf.download(\"SPY AAPL IBM MSFT\")\n",
    "# data\n",
    "ticker = yf.Ticker('0700.HK')\n",
    "df = ticker.history('max')\n",
    "df[['Close']].plot()"
   ]
  },
  {
   "cell_type": "code",
   "execution_count": 21,
   "metadata": {},
   "outputs": [
    {
     "data": {
      "text/plain": [
       "Open            4.908000e+02\n",
       "High            4.916000e+02\n",
       "Low             4.822000e+02\n",
       "Close           4.860000e+02\n",
       "Volume          1.409700e+07\n",
       "Dividends       0.000000e+00\n",
       "Stock Splits    0.000000e+00\n",
       "Name: 2021-10-27 00:00:00, dtype: float64"
      ]
     },
     "execution_count": 21,
     "metadata": {},
     "output_type": "execute_result"
    }
   ],
   "source": [
    "df.iloc[-1]"
   ]
  },
  {
   "cell_type": "markdown",
   "metadata": {},
   "source": [
    "* There are more than $320,000$ projects till 2021-08 in pypi.org.  \n",
    "\n",
    "* In addition to a module name, an import can name a directory path. A directory of Python code is said to be a package, so such imports are known as package imports. "
   ]
  },
  {
   "cell_type": "code",
   "execution_count": 4,
   "metadata": {},
   "outputs": [
    {
     "data": {
      "image/png": "[encoded data removed]",
      "text/plain": [
       "<Figure size 432x288 with 1 Axes>"
      ]
     },
     "metadata": {
      "needs_background": "light"
     },
     "output_type": "display_data"
    }
   ],
   "source": [
    "# demonstration of matplotlib  module\n",
    "import matplotlib.pyplot as plt\n",
    "import numpy as np\n",
    "import pandas as pd\n",
    "import math\n",
    "\n",
    "x = np.arange(0, 2*np.pi, 0.01)\n",
    "\n",
    "plt.plot(x, [math.sin(i) for i in x])\n",
    "plt.plot(x, np.cos(x))\n",
    "\n",
    "plt.xlabel(\"x\")\n",
    "plt.ylabel(\"sin(x)\")\n",
    "plt.show()"
   ]
  },
  {
   "cell_type": "code",
   "execution_count": 14,
   "metadata": {},
   "outputs": [
    {
     "data": {
      "text/plain": [
       "'1.0.5'"
      ]
     },
     "execution_count": 14,
     "metadata": {},
     "output_type": "execute_result"
    }
   ],
   "source": [
    "import pandas\n",
    "pandas.__version__"
   ]
  },
  {
   "cell_type": "markdown",
   "metadata": {},
   "source": [
    "\n",
    "### If you do not have the package, please use \n",
    "pip install packagename   "
   ]
  },
  {
   "cell_type": "markdown",
   "metadata": {},
   "source": [
    "# Files"
   ]
  },
  {
   "cell_type": "markdown",
   "metadata": {},
   "source": [
    "*  Files — are named storage compartments on your computer that are managed by your operating system. \n",
    "* Files can store information permanently. \n",
    "* Python support some common operation of files, such as creating, reading and writing.  "
   ]
  },
  {
   "cell_type": "markdown",
   "metadata": {},
   "source": [
    "## $\\triangleright$ Common File Operations"
   ]
  },
  {
   "cell_type": "raw",
   "metadata": {},
   "source": [
    "ddOperation                                   Interpretation\n",
    "--------------------------------------------------------------------------------\n",
    "output = open(r'C:\\spam', 'w')    Create output file ('w' means write)\n",
    "input = open('data', 'r')         Create input file ('r' means read)\n",
    "input = open('data')              Same as prior line ('r' is the default)\n",
    "---------------------------------------------------------------------------------\n",
    "aString = input.read()            Read entire file into a single string\n",
    "aString = input.read(N)           Read up to next N characters (or bytes) into a string\n",
    "aString = input.readline()        Read next line (including \\n newline) into a string\n",
    "aList = input.readlines()         Read entire file into list of line strings (with \\n)\n",
    "----------------------------------------------------------------------------------\n",
    "output.write(aString)             Write a string of characters (or bytes) into file\n",
    "output.writelines(aList)          Write all line strings in a list into file\n",
    "----------------------------------------------------------------------------------\n",
    "output.close()                    Manual close (done for you when file is collected)\n",
    "output.flush()                    Flush output buffer to disk without closing\n",
    "----------------------------------------------------------------------------------\n",
    "anyFile.seek(N)                   Change file position to offset N for next operation\n",
    "for line in open('data'):         use line File iterators read line by line\n",
    "open('f.txt', encoding='latin-1') Python 3.X Unicode text files (str strings)\n",
    "open('f.bin', 'rb')               Python 3.X bytes files (bytes strings)\n",
    "-----------------------------------------------------------------------------------"
   ]
  },
  {
   "cell_type": "markdown",
   "metadata": {},
   "source": [
    "## $\\triangleright$ Using Files"
   ]
  },
  {
   "cell_type": "markdown",
   "metadata": {},
   "source": [
    "<p> $\\bullet$ File iterators are best for reading lines</p>\n",
    "<p> $\\bullet$ Content is strings, not objects</p>\n",
    "Python also includes advanced standard library tools for handling generic object\n",
    "storage (the pickle module), for dealing with packed binary data in files (the\n",
    "struct module), and for processing special types of content such as JSON, XML,\n",
    "and CSV text.\n",
    "<p> $\\bullet$ Files are buffered and seekable </p>\n",
    "<p> $\\bullet$ close is often optional: auto-close on collection</p>\n",
    "\n"
   ]
  },
  {
   "cell_type": "markdown",
   "metadata": {},
   "source": [
    "## $\\triangleright$ Files in Action"
   ]
  },
  {
   "cell_type": "code",
   "execution_count": 26,
   "metadata": {},
   "outputs": [],
   "source": [
    "sumsq =0\n",
    "for i in range(1, 101):\n",
    "    sumsq = sumsq + i**2 \n",
    "\n",
    "out = open('sumsq.txt', 'w')\n",
    "out.write('1+2+3+...+100=?\\n')\n",
    "out.write(str(sumsq))\n",
    "out.close()"
   ]
  },
  {
   "cell_type": "code",
   "execution_count": 28,
   "metadata": {},
   "outputs": [
    {
     "name": "stdout",
     "output_type": "stream",
     "text": [
      "1+2+3+...+100=?\n",
      "\n",
      "338350\n"
     ]
    }
   ],
   "source": [
    "file = open('sumsq.txt', 'r')\n",
    "for line in file.readlines():\n",
    "    print(line)"
   ]
  },
  {
   "cell_type": "markdown",
   "metadata": {},
   "source": [
    "### $\\circ$ Operations on text file"
   ]
  },
  {
   "cell_type": "code",
   "execution_count": 6,
   "metadata": {
    "scrolled": true
   },
   "outputs": [],
   "source": [
    "file1 = open('test.txt', 'w')\n",
    "file1.write('Hello\\n')\n",
    "file1.write('World!\\n')\n",
    "a = [1, 2, 3]\n",
    "file1.write(str(a))\n",
    "file1.close()\n"
   ]
  },
  {
   "cell_type": "code",
   "execution_count": 25,
   "metadata": {},
   "outputs": [],
   "source": [
    "filer = open('test.txt', 'r')"
   ]
  },
  {
   "cell_type": "code",
   "execution_count": 26,
   "metadata": {},
   "outputs": [
    {
     "data": {
      "text/plain": [
       "'World!\\n'"
      ]
     },
     "execution_count": 26,
     "metadata": {},
     "output_type": "execute_result"
    }
   ],
   "source": [
    "\n",
    "filer.readline()\n",
    "filer.readline()\n",
    "\n",
    "\n"
   ]
  },
  {
   "cell_type": "code",
   "execution_count": 20,
   "metadata": {},
   "outputs": [
    {
     "data": {
      "text/plain": [
       "'World!\\n'"
      ]
     },
     "execution_count": 20,
     "metadata": {},
     "output_type": "execute_result"
    }
   ],
   "source": [
    "filer.seek(7)\n",
    "filer.readline()"
   ]
  },
  {
   "cell_type": "code",
   "execution_count": 12,
   "metadata": {},
   "outputs": [],
   "source": [
    "myfile = open('result.txt', 'w')\n",
    "sum0 = 0\n",
    "for i in range(1, 101):\n",
    "    sum0 = sum0 + i\n",
    "myfile.write(f'\\n The sum of 1+...+100 = {sum0}')\n",
    "myfile.close()"
   ]
  },
  {
   "cell_type": "code",
   "execution_count": 5,
   "metadata": {
    "scrolled": true
   },
   "outputs": [
    {
     "data": {
      "text/plain": [
       "'Hello, text file!\\n'"
      ]
     },
     "execution_count": 5,
     "metadata": {},
     "output_type": "execute_result"
    }
   ],
   "source": [
    "myfile = open('myfile.txt', 'r')\n",
    "myfile.readline()"
   ]
  },
  {
   "cell_type": "code",
   "execution_count": 6,
   "metadata": {},
   "outputs": [
    {
     "data": {
      "text/plain": [
       "'Goodbye, text file!\\n'"
      ]
     },
     "execution_count": 6,
     "metadata": {},
     "output_type": "execute_result"
    }
   ],
   "source": [
    "myfile.readline()"
   ]
  },
  {
   "cell_type": "code",
   "execution_count": 7,
   "metadata": {
    "scrolled": true
   },
   "outputs": [
    {
     "data": {
      "text/plain": [
       "' The sum of 1+...+100 = 5050'"
      ]
     },
     "execution_count": 7,
     "metadata": {},
     "output_type": "execute_result"
    }
   ],
   "source": [
    "myfile.readline()\n",
    "# myfile.close()"
   ]
  },
  {
   "cell_type": "code",
   "execution_count": 10,
   "metadata": {},
   "outputs": [
    {
     "data": {
      "text/plain": [
       "['Hello, text file!\\n',\n",
       " 'Goodbye, text file!\\n',\n",
       " ' The sum of 1+...+100 = 5050']"
      ]
     },
     "execution_count": 10,
     "metadata": {},
     "output_type": "execute_result"
    }
   ],
   "source": [
    "myfile.seek(0)\n",
    "alist = myfile.readlines()\n",
    "\n",
    "alist"
   ]
  },
  {
   "cell_type": "code",
   "execution_count": 9,
   "metadata": {},
   "outputs": [
    {
     "data": {
      "text/plain": [
       "['_CHUNK_SIZE',\n",
       " '__class__',\n",
       " '__del__',\n",
       " '__delattr__',\n",
       " '__dict__',\n",
       " '__dir__',\n",
       " '__doc__',\n",
       " '__enter__',\n",
       " '__eq__',\n",
       " '__exit__',\n",
       " '__format__',\n",
       " '__ge__',\n",
       " '__getattribute__',\n",
       " '__gt__',\n",
       " '__hash__',\n",
       " '__init__',\n",
       " '__init_subclass__',\n",
       " '__iter__',\n",
       " '__le__',\n",
       " '__lt__',\n",
       " '__ne__',\n",
       " '__new__',\n",
       " '__next__',\n",
       " '__reduce__',\n",
       " '__reduce_ex__',\n",
       " '__repr__',\n",
       " '__setattr__',\n",
       " '__sizeof__',\n",
       " '__str__',\n",
       " '__subclasshook__',\n",
       " '_checkClosed',\n",
       " '_checkReadable',\n",
       " '_checkSeekable',\n",
       " '_checkWritable',\n",
       " '_finalizing',\n",
       " 'buffer',\n",
       " 'close',\n",
       " 'closed',\n",
       " 'detach',\n",
       " 'encoding',\n",
       " 'errors',\n",
       " 'fileno',\n",
       " 'flush',\n",
       " 'isatty',\n",
       " 'line_buffering',\n",
       " 'mode',\n",
       " 'name',\n",
       " 'newlines',\n",
       " 'read',\n",
       " 'readable',\n",
       " 'readline',\n",
       " 'readlines',\n",
       " 'reconfigure',\n",
       " 'seek',\n",
       " 'seekable',\n",
       " 'tell',\n",
       " 'truncate',\n",
       " 'writable',\n",
       " 'write',\n",
       " 'write_through',\n",
       " 'writelines']"
      ]
     },
     "execution_count": 9,
     "metadata": {},
     "output_type": "execute_result"
    }
   ],
   "source": [
    "dir(myfile)"
   ]
  },
  {
   "cell_type": "code",
   "execution_count": 24,
   "metadata": {},
   "outputs": [
    {
     "name": "stdout",
     "output_type": "stream",
     "text": [
      "Hello, text file!\n",
      "\n",
      "Goodbye, text file!\n",
      "\n",
      " The sum of 1+...+100 = 5050\n"
     ]
    }
   ],
   "source": [
    "for line in open('myfile.txt'):\n",
    "    print(line)"
   ]
  },
  {
   "cell_type": "code",
   "execution_count": 14,
   "metadata": {},
   "outputs": [
    {
     "data": {
      "text/plain": [
       "338350"
      ]
     },
     "execution_count": 14,
     "metadata": {},
     "output_type": "execute_result"
    }
   ],
   "source": [
    "sumsq"
   ]
  },
  {
   "cell_type": "markdown",
   "metadata": {},
   "source": [
    "### $\\circ$ Storing Native Python Objects: pickle"
   ]
  },
  {
   "cell_type": "code",
   "execution_count": 29,
   "metadata": {},
   "outputs": [],
   "source": [
    "D = {'a': 1, 'b': 2}\n",
    "F = open('mydata.pkl', 'wb')\n",
    "import pickle\n",
    "pickle.dump([D, sumsq], F) # Pickle any object to file\n",
    "# pickle.dump(sumsq, F)\n",
    "F.close()"
   ]
  },
  {
   "cell_type": "code",
   "execution_count": 30,
   "metadata": {
    "scrolled": true
   },
   "outputs": [
    {
     "data": {
      "text/plain": [
       "({'a': 1, 'b': 2}, 338350)"
      ]
     },
     "execution_count": 30,
     "metadata": {},
     "output_type": "execute_result"
    }
   ],
   "source": [
    "F2 = open('mydata.pkl', 'rb')\n",
    "D2, sumsq2 = pickle.load(F2)\n",
    "D2, sumsq2"
   ]
  },
  {
   "cell_type": "code",
   "execution_count": 21,
   "metadata": {},
   "outputs": [
    {
     "name": "stdout",
     "output_type": "stream",
     "text": [
      "Collecting pandas"
     ]
    },
    {
     "name": "stderr",
     "output_type": "stream",
     "text": [
      "ERROR: Could not install packages due to an EnvironmentError: [WinError 5] Access is denied: 'C:\\\\Users\\\\LG\\\\anaconda3\\\\Lib\\\\site-packages\\\\~andas\\\\_libs\\\\algos.cp38-win_amd64.pyd'\n",
      "Consider using the `--user` option or check the permissions.\n",
      "\n"
     ]
    },
    {
     "name": "stdout",
     "output_type": "stream",
     "text": [
      "\n",
      "  Downloading pandas-1.3.4-cp38-cp38-win_amd64.whl (10.2 MB)\n",
      "Requirement already satisfied, skipping upgrade: python-dateutil>=2.7.3 in c:\\users\\lg\\anaconda3\\lib\\site-packages (from pandas) (2.8.1)\n",
      "Requirement already satisfied, skipping upgrade: pytz>=2017.3 in c:\\users\\lg\\anaconda3\\lib\\site-packages (from pandas) (2020.1)\n",
      "Requirement already satisfied, skipping upgrade: numpy>=1.17.3; platform_machine != \"aarch64\" and platform_machine != \"arm64\" and python_version < \"3.10\" in c:\\users\\lg\\anaconda3\\lib\\site-packages (from pandas) (1.18.5)\n",
      "Requirement already satisfied, skipping upgrade: six>=1.5 in c:\\users\\lg\\anaconda3\\lib\\site-packages (from python-dateutil>=2.7.3->pandas) (1.15.0)\n",
      "Installing collected packages: pandas\n",
      "  Attempting uninstall: pandas\n",
      "    Found existing installation: pandas 1.0.5\n",
      "    Uninstalling pandas-1.0.5:\n",
      "      Successfully uninstalled pandas-1.0.5\n"
     ]
    }
   ],
   "source": [
    "# import pandas as pd\n"
   ]
  },
  {
   "cell_type": "markdown",
   "metadata": {},
   "source": [
    "## Classwork \n",
    "\n",
    "Submit your solution in a T6_CW1.ipynb file.\n",
    "\n",
    "1. Write a Python class named Student with two attributes student_id, student_name. Add a new attribute student_class. Create a function to display the entire attribute and their values in Student class.  \n",
    "1. Define a class named Rectangle which can be constructed by a length and width. The Rectangle class has a method which can compute the area.  \n",
    "1. Write a Composer class that has three instance variables:\n",
    "* name  \n",
    "* dob  \n",
    "* country  \n",
    "Add an additional class variable .count which counts the total number of instances created.\n",
    "\n",
    "**Example**\n",
    "\n",
    "``` python\n",
    "# Just finished writing the Composer class\n",
    "Composer.count ➞ 0\n",
    "\n",
    "c1 = Composer(\"Ludvig\", 1770, \"Germany\")\n",
    "Composer.count ➞ 1\n",
    "\n",
    "c2 = Composer(\"Wolfgang\", 1756, \"Austria\")\n",
    "c3 = Composer(\"Johannes\", 1833, \"Germany\")\n",
    "Composer.count ➞ 3    \n",
    "```\n",
    "\n",
    "\n",
    "4.  Write a program to store an input real number $x$ and its $e^x$.\n",
    "\n",
    "1. Write a Python program to read a file line by line and store it into a list. \n",
    "\n",
    "1. Write a Python program to create a file where all letters of English alphabet are listed by specified number of letters on each line.</p>\n",
    "\n"
   ]
  }
 ],
 "metadata": {
  "celltoolbar": "幻灯片",
  "kernelspec": {
   "display_name": "Python 3 (ipykernel)",
   "language": "python",
   "name": "python3"
  },
  "language_info": {
   "codemirror_mode": {
    "name": "ipython",
    "version": 3
   },
   "file_extension": ".py",
   "mimetype": "text/x-python",
   "name": "python",
   "nbconvert_exporter": "python",
   "pygments_lexer": "ipython3",
   "version": "3.8.15"
  },
  "varInspector": {
   "cols": {
    "lenName": 16,
    "lenType": 16,
    "lenVar": 40
   },
   "kernels_config": {
    "python": {
     "delete_cmd_postfix": "",
     "delete_cmd_prefix": "del ",
     "library": "var_list.py",
     "varRefreshCmd": "print(var_dic_list())"
    },
    "r": {
     "delete_cmd_postfix": ") ",
     "delete_cmd_prefix": "rm(",
     "library": "var_list.r",
     "varRefreshCmd": "cat(var_dic_list()) "
    }
   },
   "types_to_exclude": [
    "module",
    "function",
    "builtin_function_or_method",
    "instance",
    "_Feature"
   ],
   "window_display": false
  }
 },
 "nbformat": 4,
 "nbformat_minor": 2
}
