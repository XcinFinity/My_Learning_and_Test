{
 "cells": [
  {
   "cell_type": "markdown",
   "metadata": {},
   "source": [
    "# Topic 3 Homework -- Bin Linsheng"
   ]
  },
  {
   "cell_type": "markdown",
   "metadata": {},
   "source": [
    "## 1. 创建一个列表 stocks，包含至少 5 种不同的股票名称。\n",
    "\n",
    "### 打印这个列表的第一个和最后一个元素。\n",
    "### 添加两支新股票。\n",
    "### 删除列表 stocks 第二位置的股票。\n",
    "### 打印列表中股票的数量。"
   ]
  },
  {
   "cell_type": "code",
   "execution_count": 7,
   "metadata": {},
   "outputs": [
    {
     "name": "stdout",
     "output_type": "stream",
     "text": [
      "688981\n",
      "603986\n",
      "6\n"
     ]
    }
   ],
   "source": [
    "stocks = ['688981', '688111', '688041', '688012', '603986']\n",
    "\n",
    "print(stocks[0])\n",
    "print(stocks[-1])\n",
    "\n",
    "stocks.extend(['600028', '600030'])\n",
    "\n",
    "stocks.remove(stocks[1])\n",
    "\n",
    "print(len(stocks))"
   ]
  },
  {
   "cell_type": "markdown",
   "metadata": {},
   "source": [
    "## 2. 创建两个变量，name 和 age，并将它们打包成一个元组 person。\n",
    "### 解包 person 元组到变量 unpacked_name 和 unpacked_age。\n",
    "### 打印解包后的变量以确认它们的值。"
   ]
  },
  {
   "cell_type": "code",
   "execution_count": 8,
   "metadata": {},
   "outputs": [
    {
     "name": "stdout",
     "output_type": "stream",
     "text": [
      "Bin Linsheng\n",
      "26\n"
     ]
    }
   ],
   "source": [
    "name = 'Bin Linsheng'\n",
    "age = 26\n",
    "\n",
    "person = (name, age)\n",
    "\n",
    "unpacked_name = person[0]\n",
    "unpacked_age = person[1]\n",
    "\n",
    "print(unpacked_name)\n",
    "print(unpacked_age)\n"
   ]
  },
  {
   "cell_type": "markdown",
   "metadata": {},
   "source": [
    "## 3. 创建一个字典 course_students，键是课程名称，值是选修该课程学生姓名的 列表。添加至少三个课程和相应的学生名单。\n",
    "### 为其中一个课程添加一个新学生\n",
    "### 任选一门课程，打印其选课学生的列表。"
   ]
  },
  {
   "cell_type": "code",
   "execution_count": 11,
   "metadata": {},
   "outputs": [
    {
     "name": "stdout",
     "output_type": "stream",
     "text": [
      "['Bin', 'Lin', 'Sheng', 'Bin Linsheng', 'Linsheng Bin']\n"
     ]
    }
   ],
   "source": [
    "course_students = {\n",
    "    'FINTECH': ['Bin', 'Lin', 'Sheng', 'Bin Linsheng'],\n",
    "    'AI': ['Bin', 'Lin', 'Sheng', 'Bin Linsheng'],\n",
    "    'MACHINE LEARNING': ['Bin', 'Lin', 'Sheng', 'Bin Linsheng'],\n",
    "    'DEEP LEARNING': ['Bin', 'Lin', 'Sheng', 'Bin Linsheng']\n",
    "    }\n",
    "\n",
    "course_students['FINTECH'].append('Linsheng Bin')\n",
    "\n",
    "print(course_students['FINTECH'])"
   ]
  },
  {
   "cell_type": "markdown",
   "metadata": {},
   "source": [
    "## 4. 创建两个集合 setA 包含数字 1, 2, 3, 4 和 setB 包含数字 3, 4, 5, 6。\n",
    "### 打印 setA 和 setB 的并集。\n",
    "### 打印 setA 和 setB 的交集，试用 update 和并集运算两种方法，了解两 者的差别。\n",
    "### 打印 setA 对 setB 的差集。\n",
    "### 打印 setA 和 setB 的对称差集。"
   ]
  },
  {
   "cell_type": "code",
   "execution_count": 13,
   "metadata": {},
   "outputs": [
    {
     "name": "stdout",
     "output_type": "stream",
     "text": [
      "{1, 2, 3, 4, 5, 6}\n",
      "{3, 4}\n",
      "{3, 4}\n",
      "{1, 2}\n",
      "{1, 2, 5, 6}\n"
     ]
    }
   ],
   "source": [
    "setA = {1, 2, 3, 4}\n",
    "setB = {3, 4, 5, 6}\n",
    "\n",
    "union_set = setA.union(setB)\n",
    "print(union_set)\n",
    "\n",
    "intersection_set_1 = setA.intersection(setB)\n",
    "print(intersection_set_1)\n",
    "\n",
    "intersection_set_2 = setA & setB\n",
    "print(intersection_set_2)\n",
    "\n",
    "difference_set = setA.difference(setB)\n",
    "print(difference_set)\n",
    "\n",
    "symmetric_difference_set = setA.symmetric_difference(setB)\n",
    "print(symmetric_difference_set)"
   ]
  }
 ],
 "metadata": {
  "kernelspec": {
   "display_name": "base",
   "language": "python",
   "name": "python3"
  },
  "language_info": {
   "codemirror_mode": {
    "name": "ipython",
    "version": 3
   },
   "file_extension": ".py",
   "mimetype": "text/x-python",
   "name": "python",
   "nbconvert_exporter": "python",
   "pygments_lexer": "ipython3",
   "version": "3.11.5"
  }
 },
 "nbformat": 4,
 "nbformat_minor": 2
}
