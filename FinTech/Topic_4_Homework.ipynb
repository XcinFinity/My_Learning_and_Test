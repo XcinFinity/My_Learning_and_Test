{
 "cells": [
  {
   "cell_type": "markdown",
   "metadata": {},
   "source": [
    "# Topic 4 - Homework - Bin Linsheng"
   ]
  },
  {
   "cell_type": "markdown",
   "metadata": {},
   "source": [
    "### P89 1. 编写一个程序，计算任意输入数 x 的绝对值。如果输入的为-5，打印结果如下：|-5| = 5。"
   ]
  },
  {
   "cell_type": "code",
   "execution_count": 18,
   "metadata": {},
   "outputs": [
    {
     "name": "stdout",
     "output_type": "stream",
     "text": [
      "|-5| = 5\n"
     ]
    }
   ],
   "source": [
    "x = int(input('Please enter a number: '))    \n",
    "\n",
    "if x < 0:\n",
    "    abs_x = -x\n",
    "else:\n",
    "    abs_x = x\n",
    "    \n",
    "print(f'|{x}| = {abs_x}')\n",
    "\n"
   ]
  },
  {
   "cell_type": "markdown",
   "metadata": {},
   "source": [
    "### 2. 编写一个程序，根据输入的学生成绩，打印其等级。成绩 >=90 为’A’ 级，80<= 成绩 <90 为’B’ 级，70<= 成绩 <80 为’C’ 级，60<= 成绩 <70 为’D’ 级，成绩<60 为’F’ 级。"
   ]
  },
  {
   "cell_type": "code",
   "execution_count": 19,
   "metadata": {},
   "outputs": [
    {
     "name": "stdout",
     "output_type": "stream",
     "text": [
      "A\n"
     ]
    }
   ],
   "source": [
    "n = int(input('Please enter a score: '))\n",
    "\n",
    "if n >= 90:\n",
    "    print('A')\n",
    "elif 80 <= n < 90:\n",
    "    print('B')\n",
    "elif 70 <= n < 80:\n",
    "    print('C')\n",
    "elif 60 <= n < 70:\n",
    "    print('D')\n",
    "else:\n",
    "    print('F')\n"
   ]
  },
  {
   "cell_type": "markdown",
   "metadata": {},
   "source": [
    "### 3. 编写一个程序，模拟交通信号灯。用户输入红色、黄色或绿色，根据输入提示 相应的行动指示：红灯停，绿灯行，黄灯请注意。"
   ]
  },
  {
   "cell_type": "code",
   "execution_count": 20,
   "metadata": {},
   "outputs": [
    {
     "name": "stdout",
     "output_type": "stream",
     "text": [
      "红灯停\n"
     ]
    }
   ],
   "source": [
    "color = input('请输入红色、黄色、或绿色: ')\n",
    "\n",
    "if color == '红色':\n",
    "    print('红灯停')\n",
    "elif color == '绿色':\n",
    "    print('绿灯行')\n",
    "elif color == '黄色':\n",
    "    print('黄灯请注意')\n",
    "else:\n",
    "    print('--')"
   ]
  },
  {
   "cell_type": "markdown",
   "metadata": {},
   "source": [
    "### 4. 编写一个程序来计算个人所得税。假设税率按以下分级进行计算：• 收入不超过 50,000 美元的部分，税率为 0%。• 收入超过 50,000 美元至 100,000 美元的部分，税率为 10%。• 收入超过 100,000 美元至 150,000 美元的部分，税率为 15%。• 收入超过 150,000 美元的部分，税率为 20%。要求用户输入其年收入，然后打印输出收入和应缴纳的税款的信息。"
   ]
  },
  {
   "cell_type": "code",
   "execution_count": 21,
   "metadata": {},
   "outputs": [
    {
     "name": "stdout",
     "output_type": "stream",
     "text": [
      "收入为：$10000000000, 应纳税额为：$1999982500.0\n"
     ]
    }
   ],
   "source": [
    "income = int(input('请输入年收入：'))\n",
    "\n",
    "if income <= 50000:\n",
    "    tax = 0\n",
    "elif 50000 < income <= 100000:\n",
    "    tax = (income - 50000) * 0.1\n",
    "elif 100000 < income <= 150000:\n",
    "    tax = (income - 100000) * 0.15 + 50000*0.1\n",
    "else:\n",
    "    tax = (income - 150000) * 0.2 + 50000*0.1 + 50000*0.15\n",
    "    \n",
    "print(f'收入为：${income}, 应纳税额为：${tax}')"
   ]
  },
  {
   "cell_type": "markdown",
   "metadata": {},
   "source": [
    "### P99. 2. 编写程序打印如图4.1所示的九九乘法表。"
   ]
  },
  {
   "cell_type": "code",
   "execution_count": 24,
   "metadata": {},
   "outputs": [
    {
     "name": "stdout",
     "output_type": "stream",
     "text": [
      "1*1=1 \n",
      "1*2=2 2*2=4 \n",
      "1*3=3 2*3=6 3*3=9 \n",
      "1*4=4 2*4=8 3*4=12 4*4=16 \n",
      "1*5=5 2*5=10 3*5=15 4*5=20 5*5=25 \n",
      "1*6=6 2*6=12 3*6=18 4*6=24 5*6=30 6*6=36 \n",
      "1*7=7 2*7=14 3*7=21 4*7=28 5*7=35 6*7=42 7*7=49 \n",
      "1*8=8 2*8=16 3*8=24 4*8=32 5*8=40 6*8=48 7*8=56 8*8=64 \n",
      "1*9=9 2*9=18 3*9=27 4*9=36 5*9=45 6*9=54 7*9=63 8*9=72 9*9=81 \n"
     ]
    }
   ],
   "source": [
    "for i in range(1, 10):\n",
    "    for j in range(1, i+1):\n",
    "        print(f'{j}*{i}={i*j}', end=' ')\n",
    "    print()"
   ]
  },
  {
   "cell_type": "markdown",
   "metadata": {},
   "source": [
    "### 3. 编写程序，接受一短英文作为输入，并计算其中的单词和数字的数量。"
   ]
  },
  {
   "cell_type": "code",
   "execution_count": 25,
   "metadata": {},
   "outputs": [
    {
     "name": "stdout",
     "output_type": "stream",
     "text": [
      "英文单词数：1, 非英文单词数：2\n"
     ]
    }
   ],
   "source": [
    "text = input('请输入一段英文：')\n",
    "\n",
    "wn = 0\n",
    "nn = 0\n",
    "\n",
    "for word in text.split():\n",
    "    if word.isalpha():\n",
    "        wn += 1\n",
    "    else:\n",
    "        nn += 1\n",
    "\n",
    "print(f'英文单词数：{wn}, 非英文单词数：{nn}')"
   ]
  },
  {
   "cell_type": "markdown",
   "metadata": {},
   "source": [
    "### 4. 编写一个程序来构建以下图案："
   ]
  },
  {
   "cell_type": "code",
   "execution_count": 26,
   "metadata": {},
   "outputs": [
    {
     "name": "stdout",
     "output_type": "stream",
     "text": [
      "🍓\n",
      "🍓🍓\n",
      "🍓🍓🍓\n",
      "🍓🍓🍓🍓\n",
      "🍓🍓🍓🍓🍓\n",
      "🍓🍓🍓🍓\n",
      "🍓🍓🍓\n",
      "🍓🍓\n",
      "🍓\n"
     ]
    }
   ],
   "source": [
    "n = int(input('请输入图案高度：'))\n",
    "\n",
    "for i in range(1, n+1):\n",
    "    for j in range(i):\n",
    "        print('\\U0001F353', end='')\n",
    "    print()\n",
    "\n",
    "for i in range(n-1, 0, -1):\n",
    "    for j in range(i):\n",
    "        print('\\U0001F353', end='')\n",
    "    print()"
   ]
  },
  {
   "cell_type": "markdown",
   "metadata": {},
   "source": [
    "### P103. 2. 给定一个单词列表，使用列表推导创建一个新列表以包含所有长度大于 5 的单词。"
   ]
  },
  {
   "cell_type": "code",
   "execution_count": 27,
   "metadata": {},
   "outputs": [
    {
     "name": "stdout",
     "output_type": "stream",
     "text": [
      "['banana', 'cherry', 'blueberry']\n"
     ]
    }
   ],
   "source": [
    "words = [\"apple\", \"banana\", \"cherry\", \"kiwi\", \"mango\", \"blueberry\"]\n",
    "\n",
    "result = [word for word in words if len(word) > 5]\n",
    "\n",
    "print(result)"
   ]
  },
  {
   "cell_type": "code",
   "execution_count": null,
   "metadata": {},
   "outputs": [],
   "source": []
  }
 ],
 "metadata": {
  "kernelspec": {
   "display_name": "base",
   "language": "python",
   "name": "python3"
  },
  "language_info": {
   "codemirror_mode": {
    "name": "ipython",
    "version": 3
   },
   "file_extension": ".py",
   "mimetype": "text/x-python",
   "name": "python",
   "nbconvert_exporter": "python",
   "pygments_lexer": "ipython3",
   "version": "3.11.5"
  }
 },
 "nbformat": 4,
 "nbformat_minor": 2
}
