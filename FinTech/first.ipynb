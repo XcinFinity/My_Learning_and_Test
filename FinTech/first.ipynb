{
 "cells": [
  {
   "cell_type": "markdown",
   "metadata": {},
   "source": [
    "# Topic 2 Homework -- Bin Linsheng"
   ]
  },
  {
   "cell_type": "markdown",
   "metadata": {},
   "source": [
    "\n",
    "## Exercise 2\n",
    "#### 创建一个新的 Jupyter Notebook，命名为 first.ipynb，在该笔记本中，写 一个 Markdown 单元格，练习书中介绍的所有 Markdown 语法。"
   ]
  },
  {
   "cell_type": "markdown",
   "metadata": {},
   "source": [
    "# 标题 1\n",
    "## 标题 2 \n",
    "### 标题 3 \n",
    "#### 标题 4 \n",
    "##### 标题 5 \n",
    "###### 标题 6\n",
    "\n",
    "\n",
    "**粗体文本**\n",
    "__粗体文本__\n",
    "*斜体文本*\n",
    "_斜体文本_\n",
    "***粗斜体文本***\n",
    "___粗斜体文本___\n",
    "\n",
    "\n",
    "- 项目一\n",
    "- 项目二\n",
    "- 项目三\n",
    "1. 第一项\n",
    "2. 第二项\n",
    "3. 第三项\n",
    "\n",
    "\n",
    "[OpenAI](https://www.openai.com) \n",
    "![Logo](https://upload.wikimedia.org/wikipedia/zh/b/bf/Macau_University_of_Science_and_Technology_logo.svg)\n",
    "<img src=\"https://upload.wikimedia.org/wikipedia/zh/b/bf/Macau_University_of_Science_and_Technology_logo.svg\" width=\"200\"/>\n",
    "\n",
    "\n",
    "> 这是一段引用文本。\n",
    "\n",
    "\n",
    "```python \n",
    "def hello():\n",
    "    print(\"Hello, World!\") \n",
    "```\n",
    "\n",
    "\n",
    "| 名称 | 描述 | \n",
    "|---:|:---| \n",
    "| Apple | 苹果 | \n",
    "| Banana | 香蕉 |\n",
    "\n",
    "\n",
    "----------\n",
    "\n",
    "\n",
    "$a + b, a - b, a \\times b, a \\cdot b, a / b, \\frac{a}{b}$\n",
    "\n",
    "$a^i, b_j, a^i_j$\n",
    "\n",
    "$\\sqrt{x}, \\sqrt[n]{x}, \\log(x), \\ln(x)$\n",
    "\n",
    "$\\alpha, \\beta, \\gamma, \\rho, \\sigma, \\delta, \\epsilon, \\Delta, \\infty $\n",
    "\n",
    "\\begin{align*} \n",
    "a &= b + c \\\\ \n",
    "x &= y - z \n",
    "\\end{align*}\n",
    "\n",
    "\\begin{bmatrix} \n",
    "a & b \\\\ \n",
    "c & d \n",
    "\\end{bmatrix}\n",
    "\n",
    "$$ \\sum_{i=1}^{n} a_i $$\n",
    "$$ \\int_{a}^{b} f(x) \\, dx $$\n",
    "$$ \\prod_{i=1}^{n} a_i $$\n",
    "\n",
    "$$ \\lim_{x \\to a} f(x) \\\\ $$\n",
    "$$ \\frac{\\partial y}{\\partial x} \\\\ $$\n",
    "$$ \\frac{dy}{dx} $$\n"
   ]
  },
  {
   "cell_type": "markdown",
   "metadata": {},
   "source": [
    "## Exercise 3\n",
    "#### 添加一个 Markdown 单元格，练习书中介绍的所有 Markdown 语法，并书写 如下公式："
   ]
  },
  {
   "cell_type": "markdown",
   "metadata": {},
   "source": [
    "$ E = mc^2 $\n",
    "\n",
    "$ x = \\frac{-b \\pm \\sqrt{b^2 - 4ac}}{2a} $\n",
    "\n",
    "$ a^2 + b^2 = c^2 $\n",
    "\n",
    "$ \\int_{a}^{b} f(x) \\, dx $\n",
    "\n",
    "$ \\hat{y} = b_0 + b_1x_1 + b_2x_2 + \\epsilon $"
   ]
  },
  {
   "cell_type": "markdown",
   "metadata": {},
   "source": [
    "## Exercise 4\n",
    "#### 添加一个代码单元格，复制如下代码并运行:"
   ]
  },
  {
   "cell_type": "code",
   "execution_count": 1,
   "metadata": {},
   "outputs": [
    {
     "name": "stdout",
     "output_type": "stream",
     "text": [
      "1+2+...+100=5050\n"
     ]
    }
   ],
   "source": [
    "tatal = 0\n",
    "for i in range(1, 101):\n",
    "    tatal = tatal + i\n",
    "print(f'1+2+...+100={tatal}')"
   ]
  }
 ],
 "metadata": {
  "kernelspec": {
   "display_name": "base",
   "language": "python",
   "name": "python3"
  },
  "language_info": {
   "codemirror_mode": {
    "name": "ipython",
    "version": 3
   },
   "file_extension": ".py",
   "mimetype": "text/x-python",
   "name": "python",
   "nbconvert_exporter": "python",
   "pygments_lexer": "ipython3",
   "version": "3.11.5"
  }
 },
 "nbformat": 4,
 "nbformat_minor": 2
}
