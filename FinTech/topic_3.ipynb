{
 "cells": [
  {
   "cell_type": "code",
   "execution_count": 2,
   "metadata": {},
   "outputs": [
    {
     "name": "stdout",
     "output_type": "stream",
     "text": [
      "99\n",
      "0b1100011\n",
      "0o143\n",
      "0x63\n"
     ]
    }
   ],
   "source": [
    "number_10 = 99\n",
    "print(number_10)\n",
    "\n",
    "number_2 = bin(number_10)\n",
    "print(number_2)\n",
    "\n",
    "number_8 = oct(number_10)\n",
    "print(number_8)\n",
    "\n",
    "number_16 = hex(number_10)\n",
    "print(number_16)\n"
   ]
  },
  {
   "cell_type": "code",
   "execution_count": 6,
   "metadata": {},
   "outputs": [
    {
     "data": {
      "text/plain": [
       "1.7976931348623157e+308"
      ]
     },
     "execution_count": 6,
     "metadata": {},
     "output_type": "execute_result"
    }
   ],
   "source": [
    "import sys\n",
    "sys.float_info.max\n"
   ]
  },
  {
   "cell_type": "code",
   "execution_count": 10,
   "metadata": {},
   "outputs": [
    {
     "data": {
      "text/plain": [
       "['__doc__',\n",
       " '__file__',\n",
       " '__loader__',\n",
       " '__name__',\n",
       " '__package__',\n",
       " '__spec__',\n",
       " 'acos',\n",
       " 'acosh',\n",
       " 'asin',\n",
       " 'asinh',\n",
       " 'atan',\n",
       " 'atan2',\n",
       " 'atanh',\n",
       " 'cbrt',\n",
       " 'ceil',\n",
       " 'comb',\n",
       " 'copysign',\n",
       " 'cos',\n",
       " 'cosh',\n",
       " 'degrees',\n",
       " 'dist',\n",
       " 'e',\n",
       " 'erf',\n",
       " 'erfc',\n",
       " 'exp',\n",
       " 'exp2',\n",
       " 'expm1',\n",
       " 'fabs',\n",
       " 'factorial',\n",
       " 'floor',\n",
       " 'fmod',\n",
       " 'frexp',\n",
       " 'fsum',\n",
       " 'gamma',\n",
       " 'gcd',\n",
       " 'hypot',\n",
       " 'inf',\n",
       " 'isclose',\n",
       " 'isfinite',\n",
       " 'isinf',\n",
       " 'isnan',\n",
       " 'isqrt',\n",
       " 'lcm',\n",
       " 'ldexp',\n",
       " 'lgamma',\n",
       " 'log',\n",
       " 'log10',\n",
       " 'log1p',\n",
       " 'log2',\n",
       " 'modf',\n",
       " 'nan',\n",
       " 'nextafter',\n",
       " 'perm',\n",
       " 'pi',\n",
       " 'pow',\n",
       " 'prod',\n",
       " 'radians',\n",
       " 'remainder',\n",
       " 'sin',\n",
       " 'sinh',\n",
       " 'sqrt',\n",
       " 'tan',\n",
       " 'tanh',\n",
       " 'tau',\n",
       " 'trunc',\n",
       " 'ulp']"
      ]
     },
     "execution_count": 10,
     "metadata": {},
     "output_type": "execute_result"
    }
   ],
   "source": [
    "import math\n",
    "dir(math)"
   ]
  },
  {
   "cell_type": "code",
   "execution_count": 11,
   "metadata": {},
   "outputs": [
    {
     "data": {
      "text/plain": [
       "7.550812267870871"
      ]
     },
     "execution_count": 11,
     "metadata": {},
     "output_type": "execute_result"
    }
   ],
   "source": [
    "3 * math.sin(math.pi/4) + (5 * math.cos(math.pi/6) - 2) ** 2"
   ]
  },
  {
   "cell_type": "code",
   "execution_count": 12,
   "metadata": {},
   "outputs": [
    {
     "name": "stdout",
     "output_type": "stream",
     "text": [
      "🌹\n"
     ]
    }
   ],
   "source": [
    "s1 = '\\U0001F339'\n",
    "print(s1)"
   ]
  },
  {
   "cell_type": "code",
   "execution_count": 12,
   "metadata": {},
   "outputs": [
    {
     "name": "stdout",
     "output_type": "stream",
     "text": [
      "False\n",
      "False\n",
      "7\n",
      "HELLO, WORLD!\n",
      "['hello', 'world!']\n"
     ]
    },
    {
     "data": {
      "text/plain": [
       "'Hello, World!'"
      ]
     },
     "execution_count": 12,
     "metadata": {},
     "output_type": "execute_result"
    }
   ],
   "source": [
    "s = \"hello, world!\"\n",
    "print(s.isalpha())\n",
    "print(s.isalnum())\n",
    "print(s.find(\"world\"))\n",
    "print(s.upper())\n",
    "parts = s.split(\", \")\n",
    "print(parts)\n",
    "\n",
    "s.title()"
   ]
  },
  {
   "cell_type": "code",
   "execution_count": 15,
   "metadata": {},
   "outputs": [
    {
     "data": {
      "text/plain": [
       "['__add__',\n",
       " '__class__',\n",
       " '__class_getitem__',\n",
       " '__contains__',\n",
       " '__delattr__',\n",
       " '__delitem__',\n",
       " '__dir__',\n",
       " '__doc__',\n",
       " '__eq__',\n",
       " '__format__',\n",
       " '__ge__',\n",
       " '__getattribute__',\n",
       " '__getitem__',\n",
       " '__getstate__',\n",
       " '__gt__',\n",
       " '__hash__',\n",
       " '__iadd__',\n",
       " '__imul__',\n",
       " '__init__',\n",
       " '__init_subclass__',\n",
       " '__iter__',\n",
       " '__le__',\n",
       " '__len__',\n",
       " '__lt__',\n",
       " '__mul__',\n",
       " '__ne__',\n",
       " '__new__',\n",
       " '__reduce__',\n",
       " '__reduce_ex__',\n",
       " '__repr__',\n",
       " '__reversed__',\n",
       " '__rmul__',\n",
       " '__setattr__',\n",
       " '__setitem__',\n",
       " '__sizeof__',\n",
       " '__str__',\n",
       " '__subclasshook__',\n",
       " 'append',\n",
       " 'clear',\n",
       " 'copy',\n",
       " 'count',\n",
       " 'extend',\n",
       " 'index',\n",
       " 'insert',\n",
       " 'pop',\n",
       " 'remove',\n",
       " 'reverse',\n",
       " 'sort']"
      ]
     },
     "execution_count": 15,
     "metadata": {},
     "output_type": "execute_result"
    }
   ],
   "source": [
    "dir(list)"
   ]
  },
  {
   "cell_type": "code",
   "execution_count": 23,
   "metadata": {},
   "outputs": [
    {
     "name": "stdout",
     "output_type": "stream",
     "text": [
      "[111, 222, 333, 444, 555, 666, 777, 888, 999, 6789]\n",
      "[111, 222, 333, 444, 555, 666, 777, 888, 999, 6789, 7, 8]\n",
      "[0, 111, 222, 333, 444, 555, 666, 777, 888, 999, 6789, 7, 8]\n",
      "[0, 111, 222, 333, 444, 555, 666, 777, 888, 999, 7, 8]\n",
      "8\n",
      "[0, 111, 222, 333, 444, 555, 666, 777, 888, 999, 7]\n",
      "[7, 999, 888, 777, 666, 555, 444, 333, 222, 111, 0]\n",
      "[0, 7, 111, 222, 333, 444, 555, 666, 777, 888, 999]\n",
      "[0, 7, 111, 222, 333, 444, 555, 666, 777, 888, 999, 4, 5, 6]\n",
      "[0, 7, 111, 222, 333, 444, 555, 666, 777, 888, 999, 0, 7, 111, 222, 333, 444, 555, 666, 777, 888, 999, 0, 7, 111, 222, 333, 444, 555, 666, 777, 888, 999]\n"
     ]
    }
   ],
   "source": [
    "list1 = [111, 222, 333, 444, 555, 666, 777, 888, 999]\n",
    "\n",
    "list1.append(6789)\n",
    "print(list1)\n",
    "\n",
    "list1.extend([7, 8])\n",
    "print(list1)\n",
    "\n",
    "list1.insert(0, 0)\n",
    "print(list1)\n",
    "\n",
    "list1.remove(6789)\n",
    "print(list1)\n",
    "\n",
    "last_item = list1.pop()\n",
    "print(last_item)\n",
    "print(list1)\n",
    "\n",
    "list1.reverse()\n",
    "print(list1)\n",
    "\n",
    "list1.sort()\n",
    "print(list1)\n",
    "\n",
    "list2 = [4, 5, 6]\n",
    "combined_list = list1 + list2\n",
    "print(combined_list)\n",
    "\n",
    "repeated_list = list1 * 3\n",
    "print(repeated_list)"
   ]
  },
  {
   "cell_type": "code",
   "execution_count": 25,
   "metadata": {},
   "outputs": [
    {
     "name": "stdout",
     "output_type": "stream",
     "text": [
      "After deletion: {'name': 'Alice', 'age': 25}\n",
      "Keys: ['name', 'age']\n",
      "Values: ['Alice', 25]\n",
      "Items: [('name', 'Alice'), ('age', 25)]\n",
      "('name', 'Alice') ('age', 25)\n",
      "After update: {'name': 'Alice', 'age': 30, 'gender': 'female'}\n",
      "Popped age: 30\n",
      "After pop: {'name': 'Alice', 'gender': 'female'}\n",
      "After clear: {}\n",
      "Copied dictionary: {'name': 'Bob', 'age': 22}\n",
      "Length of dictionary: 2\n",
      "Is 'name' in dictionary? True\n",
      "Set default: single\n",
      "After setdefault: {'name': 'Bob', 'age': 22, 'status': 'single'}\n"
     ]
    }
   ],
   "source": [
    "dict1 = {'name': 'Alice', 'age': 25, 'city': 'New York'}\n",
    "\n",
    "del dict1['city']\n",
    "print(\"After deletion:\", dict1)\n",
    "\n",
    "keys = dict1.keys()\n",
    "print(\"Keys:\", list(keys))\n",
    "\n",
    "values = dict1.values()\n",
    "print(\"Values:\", list(values))\n",
    "\n",
    "items = dict1.items()\n",
    "print(\"Items:\", list(items))\n",
    "\n",
    "keys, values = dict1.items()\n",
    "print(keys, values)\n",
    "\n",
    "dict1.update({'age': 30, 'gender': 'female'})\n",
    "print(\"After update:\", dict1)\n",
    "\n",
    "age = dict1.pop('age', None)\n",
    "print(\"Popped age:\", age)\n",
    "print(\"After pop:\", dict1)\n",
    "\n",
    "dict1.clear()\n",
    "print(\"After clear:\", dict1)\n",
    "\n",
    "dict2 = {'name': 'Bob', 'age': 22}\n",
    "\n",
    "new_dict = dict2.copy()\n",
    "print(\"Copied dictionary:\", new_dict)\n",
    "\n",
    "length = len(dict2)\n",
    "print(\"Length of dictionary:\", length)\n",
    "\n",
    "exists = 'name' in dict2\n",
    "print(\"Is 'name' in dictionary?\", exists)\n",
    "\n",
    "status = dict2.setdefault('status', 'single')\n",
    "print(\"Set default:\", status)\n",
    "print(\"After setdefault:\", dict2)"
   ]
  }
 ],
 "metadata": {
  "kernelspec": {
   "display_name": "base",
   "language": "python",
   "name": "python3"
  },
  "language_info": {
   "codemirror_mode": {
    "name": "ipython",
    "version": 3
   },
   "file_extension": ".py",
   "mimetype": "text/x-python",
   "name": "python",
   "nbconvert_exporter": "python",
   "pygments_lexer": "ipython3",
   "version": "3.11.5"
  }
 },
 "nbformat": 4,
 "nbformat_minor": 2
}
