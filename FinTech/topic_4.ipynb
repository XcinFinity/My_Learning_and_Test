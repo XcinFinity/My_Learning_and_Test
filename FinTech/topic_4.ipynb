{
 "cells": [
  {
   "cell_type": "markdown",
   "metadata": {},
   "source": [
    "# Topic 4 Classwork -- Bin Linsheng"
   ]
  },
  {
   "cell_type": "code",
   "execution_count": 8,
   "metadata": {},
   "outputs": [
    {
     "name": "stdout",
     "output_type": "stream",
     "text": [
      "|-6.66| =  6.66\n"
     ]
    }
   ],
   "source": [
    "# Calculate the absolute value of an input number\n",
    "\n",
    "x = input(\"please enter a number: \")\n",
    "\n",
    "if '.' not in x:\n",
    "# if x.find('.') < 0:\n",
    "    x = int(x)\n",
    "else:\n",
    "    x = float(x)\n",
    "\n",
    "if x >= 0:\n",
    "    absx = x\n",
    "else:\n",
    "    absx = -x\n",
    "\n",
    "print(f\"|{x}| =  {absx}\")"
   ]
  },
  {
   "cell_type": "code",
   "execution_count": 14,
   "metadata": {},
   "outputs": [
    {
     "name": "stdout",
     "output_type": "stream",
     "text": [
      "you entered 89\n",
      "B\n"
     ]
    }
   ],
   "source": [
    "x = input('please enter your grades: ')\n",
    "print(f'you entered {x}')\n",
    "\n",
    "if '.' in x:\n",
    "    x = float(x)\n",
    "else:\n",
    "    x = int(x)\n",
    "\n",
    "if x >= 90:\n",
    "    print('A')\n",
    "elif x >= 80:\n",
    "    print('B')\n",
    "elif x >= 70:\n",
    "    print('C')\n",
    "elif x >= 60:\n",
    "    print('D')\n",
    "else:\n",
    "    print('E')"
   ]
  },
  {
   "cell_type": "code",
   "execution_count": 15,
   "metadata": {},
   "outputs": [
    {
     "name": "stdout",
     "output_type": "stream",
     "text": [
      "1+2+...+100=5050\n"
     ]
    }
   ],
   "source": [
    "total = 0\n",
    "i = 1\n",
    "while i <= 100:\n",
    "    total = total + i\n",
    "    i = i + 1\n",
    "\n",
    "print(f'1+2+...+100={total}')"
   ]
  },
  {
   "cell_type": "code",
   "execution_count": 39,
   "metadata": {},
   "outputs": [
    {
     "ename": "ValueError",
     "evalue": "invalid literal for int() with base 10: ''",
     "output_type": "error",
     "traceback": [
      "\u001b[0;31m---------------------------------------------------------------------------\u001b[0m",
      "\u001b[0;31mValueError\u001b[0m                                Traceback (most recent call last)",
      "Cell \u001b[0;32mIn[39], line 4\u001b[0m\n\u001b[1;32m      2\u001b[0m \u001b[38;5;28;01mwhile\u001b[39;00m \u001b[38;5;28;01mTrue\u001b[39;00m:\n\u001b[1;32m      3\u001b[0m     score \u001b[38;5;241m=\u001b[39m \u001b[38;5;28minput\u001b[39m(\u001b[38;5;124m'\u001b[39m\u001b[38;5;124mplease enter a score (0-100):\u001b[39m\u001b[38;5;124m'\u001b[39m)\n\u001b[0;32m----> 4\u001b[0m     score \u001b[38;5;241m=\u001b[39m \u001b[38;5;28mint\u001b[39m(score)\n\u001b[1;32m      5\u001b[0m     i \u001b[38;5;241m=\u001b[39m i \u001b[38;5;241m+\u001b[39m \u001b[38;5;241m1\u001b[39m\n\u001b[1;32m      6\u001b[0m     \u001b[38;5;28;01mif\u001b[39;00m (score \u001b[38;5;241m<\u001b[39m \u001b[38;5;241m0\u001b[39m \u001b[38;5;129;01mor\u001b[39;00m score \u001b[38;5;241m>\u001b[39m \u001b[38;5;241m100\u001b[39m) \u001b[38;5;129;01mand\u001b[39;00m i \u001b[38;5;241m>\u001b[39m \u001b[38;5;241m3\u001b[39m:\n",
      "\u001b[0;31mValueError\u001b[0m: invalid literal for int() with base 10: ''"
     ]
    }
   ],
   "source": [
    "i = 0\n",
    "while True:\n",
    "    score = input('please enter a score (0-100):')\n",
    "    score = int(score)\n",
    "    i = i + 1\n",
    "    if (score < 0 or score > 100) and i > 3:\n",
    "        break\n",
    "\n",
    "print(f'The input score is {score}')"
   ]
  },
  {
   "cell_type": "code",
   "execution_count": null,
   "metadata": {},
   "outputs": [],
   "source": []
  },
  {
   "cell_type": "code",
   "execution_count": 19,
   "metadata": {},
   "outputs": [
    {
     "name": "stdout",
     "output_type": "stream",
     "text": [
      "338350\n"
     ]
    }
   ],
   "source": [
    "total = 0\n",
    "i= 1\n",
    "while i <= 100:\n",
    "    total = total + i ** 2\n",
    "    i = i + 1\n",
    "\n",
    "print(total)"
   ]
  },
  {
   "cell_type": "code",
   "execution_count": 23,
   "metadata": {},
   "outputs": [
    {
     "name": "stdout",
     "output_type": "stream",
     "text": [
      "166650\n",
      "171700\n"
     ]
    }
   ],
   "source": [
    "total_odd = 0\n",
    "total_even = 0\n",
    "\n",
    "i= 1\n",
    "while i <= 100:\n",
    "    if i % 2 != 0:\n",
    "        total_odd = total_odd + i ** 2\n",
    "    else:\n",
    "        total_even = total_even + i ** 2\n",
    "\n",
    "    i = i + 1\n",
    "\n",
    "print(total_odd)\n",
    "print(total_even)"
   ]
  },
  {
   "cell_type": "code",
   "execution_count": 26,
   "metadata": {},
   "outputs": [
    {
     "name": "stdout",
     "output_type": "stream",
     "text": [
      "338350\n"
     ]
    }
   ],
   "source": [
    "n = input('please input n: ')\n",
    "n = int(n)\n",
    "\n",
    "total = 0\n",
    "for i in range(1, n+1):\n",
    "    total = total + i**2\n",
    "\n",
    "print(total)"
   ]
  },
  {
   "cell_type": "code",
   "execution_count": 32,
   "metadata": {},
   "outputs": [
    {
     "name": "stdout",
     "output_type": "stream",
     "text": [
      "The max score is 99\n",
      "The min score is 56\n"
     ]
    }
   ],
   "source": [
    "score = [57, 89, 67, 78, 56, 89, 90, 99, 78, 88]\n",
    "\n",
    "max_score = 0\n",
    "for i in score[0:]:\n",
    "    if i > max_score:\n",
    "        max_score = i\n",
    "\n",
    "min_score = 100\n",
    "for i in score[0:]:\n",
    "    if i < min_score:\n",
    "        min_score = i\n",
    "\n",
    "print(f'The max score is {max_score}')\n",
    "print(f'The min score is {min_score}')"
   ]
  },
  {
   "cell_type": "code",
   "execution_count": 38,
   "metadata": {},
   "outputs": [
    {
     "name": "stdout",
     "output_type": "stream",
     "text": [
      "please input your name: Bin Linsheng\n",
      "The encode of Bin Linsheng is CJO MJOTIFOH\n"
     ]
    }
   ],
   "source": [
    "name = input('please input your name: ')\n",
    "print(f'please input your name: {name}')\n",
    "\n",
    "name_upper = name.upper()\n",
    "\n",
    "en_str = ''\n",
    "\n",
    "for c in name_upper:\n",
    "    if c.isalpha():\n",
    "        if c == 'Z':\n",
    "            en_str = en_str + 'A'\n",
    "        else:\n",
    "            en_str = en_str + chr(ord(c) + 1)\n",
    "    else:\n",
    "        en_str = en_str + c\n",
    "\n",
    "print(f'The encode of {name} is {en_str}')\n"
   ]
  },
  {
   "cell_type": "code",
   "execution_count": 41,
   "metadata": {},
   "outputs": [
    {
     "name": "stdout",
     "output_type": "stream",
     "text": [
      "please input your name:  Bin Linsheng\n",
      "The encode of  Bin Linsheng is  Cjo Mjotifoh\n"
     ]
    }
   ],
   "source": [
    "# 保留大小写\n",
    "\n",
    "name = input('please input your name: ')\n",
    "print(f'please input your name: {name}')\n",
    "\n",
    "en_str = ''\n",
    "\n",
    "for c in name:\n",
    "    if c.isalpha():\n",
    "        if c == 'Z':\n",
    "            en_str = en_str + 'A'\n",
    "        elif c == 'z':\n",
    "            en_str = en_str + 'a'\n",
    "        else:\n",
    "            en_str = en_str + chr(ord(c) + 1)\n",
    "    else:\n",
    "        en_str = en_str + c\n",
    "\n",
    "print(f'The encode of {name} is {en_str}')\n"
   ]
  }
 ],
 "metadata": {
  "kernelspec": {
   "display_name": "base",
   "language": "python",
   "name": "python3"
  },
  "language_info": {
   "codemirror_mode": {
    "name": "ipython",
    "version": 3
   },
   "file_extension": ".py",
   "mimetype": "text/x-python",
   "name": "python",
   "nbconvert_exporter": "python",
   "pygments_lexer": "ipython3",
   "version": "3.11.5"
  }
 },
 "nbformat": 4,
 "nbformat_minor": 2
}
