{
 "cells": [
  {
   "cell_type": "markdown",
   "metadata": {},
   "source": [
    "# Topic 5 - Classwork - Bin Linsheng"
   ]
  },
  {
   "cell_type": "markdown",
   "metadata": {},
   "source": [
    "### Function"
   ]
  },
  {
   "cell_type": "code",
   "execution_count": 4,
   "metadata": {},
   "outputs": [],
   "source": [
    "def sum2n(n,m):\n",
    "    total = 0\n",
    "    for i in range(1, n+1):\n",
    "        total = total + i**m\n",
    "\n",
    "    return total"
   ]
  },
  {
   "cell_type": "code",
   "execution_count": 5,
   "metadata": {},
   "outputs": [
    {
     "data": {
      "text/plain": [
       "313124288956523892714811280503503477634150"
      ]
     },
     "execution_count": 5,
     "metadata": {},
     "output_type": "execute_result"
    }
   ],
   "source": [
    "sum2n(699,14)"
   ]
  },
  {
   "cell_type": "code",
   "execution_count": 10,
   "metadata": {},
   "outputs": [],
   "source": [
    "def encode(name):\n",
    "    en_str = ''\n",
    "\n",
    "    for c in name:\n",
    "        if c.isalpha():\n",
    "            if c == 'Z':\n",
    "                en_str = en_str + 'A'\n",
    "            elif c == 'z':\n",
    "                en_str = en_str + 'a'\n",
    "            else:\n",
    "                en_str = en_str + chr(ord(c) + 1)\n",
    "        else:\n",
    "            en_str = en_str + c\n",
    "\n",
    "    print(f'The encode of {name} is {en_str}')\n",
    "\n",
    "    return en_str"
   ]
  },
  {
   "cell_type": "code",
   "execution_count": 11,
   "metadata": {},
   "outputs": [
    {
     "name": "stdout",
     "output_type": "stream",
     "text": [
      "The encode of Bin Linsheng is Cjo Mjotifoh\n",
      "The encode of Bin Linsheng is Cjo Mjotifoh\n"
     ]
    }
   ],
   "source": [
    "encode('Bin Linsheng')\n",
    "\n",
    "d = encode('Bin Linsheng')"
   ]
  },
  {
   "cell_type": "code",
   "execution_count": 16,
   "metadata": {},
   "outputs": [],
   "source": [
    "def decode(de_name):\n",
    "    de_str = ''\n",
    "\n",
    "    for c in de_name:\n",
    "        if c.isalpha():\n",
    "            if c == 'A':\n",
    "                de_str = de_str - 'Z'\n",
    "            elif c == 'a':\n",
    "                de_str = de_str - 'z'\n",
    "            else:\n",
    "                de_str = de_str + chr(ord(c) - 1)\n",
    "        else:\n",
    "            de_str = de_str + c\n",
    "\n",
    "    return de_str"
   ]
  },
  {
   "cell_type": "code",
   "execution_count": 17,
   "metadata": {},
   "outputs": [
    {
     "data": {
      "text/plain": [
       "'Bin Linsheng'"
      ]
     },
     "execution_count": 17,
     "metadata": {},
     "output_type": "execute_result"
    }
   ],
   "source": [
    "decode(d)"
   ]
  },
  {
   "cell_type": "code",
   "execution_count": 19,
   "metadata": {},
   "outputs": [],
   "source": [
    "def sum2n(*, n=100, m=1, /):  # \"/\"限定位置参数, \"*\"限定关键字参数, 位置参数必须在关键字参数之前\n",
    "    total = 0\n",
    "    for i in range(1, n+1):\n",
    "        total = total + i**m\n",
    "\n",
    "    return total"
   ]
  },
  {
   "cell_type": "code",
   "execution_count": 23,
   "metadata": {},
   "outputs": [
    {
     "data": {
      "text/plain": [
       "333833500"
      ]
     },
     "execution_count": 23,
     "metadata": {},
     "output_type": "execute_result"
    }
   ],
   "source": [
    "sum2n(m=2, n=1000)"
   ]
  },
  {
   "cell_type": "code",
   "execution_count": 24,
   "metadata": {},
   "outputs": [
    {
     "data": {
      "text/plain": [
       "5050"
      ]
     },
     "execution_count": 24,
     "metadata": {},
     "output_type": "execute_result"
    }
   ],
   "source": [
    "sum2n()"
   ]
  },
  {
   "cell_type": "code",
   "execution_count": 31,
   "metadata": {},
   "outputs": [
    {
     "name": "stdout",
     "output_type": "stream",
     "text": [
      "k 2\n",
      "j 3\n"
     ]
    },
    {
     "data": {
      "text/plain": [
       "55"
      ]
     },
     "execution_count": 31,
     "metadata": {},
     "output_type": "execute_result"
    }
   ],
   "source": [
    "def sumall(x1, x2, *args, **kargs):   # *args表示可变参数, **kargs表示关键字参数\n",
    "    total = x1 + x2\n",
    "    for i in args:\n",
    "        total = total + i\n",
    "    for k, j in kargs.items():\n",
    "        print(k, j)\n",
    "\n",
    "    return total\n",
    "\n",
    "sumall(1, 2, 3, 4, 5, 6, 7, 8, 9, 10, k=2, j=3)"
   ]
  },
  {
   "cell_type": "code",
   "execution_count": 34,
   "metadata": {},
   "outputs": [
    {
     "name": "stdout",
     "output_type": "stream",
     "text": [
      "100\n"
     ]
    }
   ],
   "source": [
    "x = 100\n",
    "def changex():\n",
    "    # global x\n",
    "    x = 88\n",
    "    def changexagain():\n",
    "        nonlocal x\n",
    "        x = 99\n",
    "    changexagain()\n",
    "\n",
    "changex()\n",
    "print(x)"
   ]
  },
  {
   "cell_type": "code",
   "execution_count": 36,
   "metadata": {},
   "outputs": [
    {
     "data": {
      "text/plain": [
       "27"
      ]
     },
     "execution_count": 36,
     "metadata": {},
     "output_type": "execute_result"
    }
   ],
   "source": [
    "f = lambda x: x**3\n",
    "f(3)"
   ]
  },
  {
   "cell_type": "code",
   "execution_count": 40,
   "metadata": {},
   "outputs": [
    {
     "data": {
      "text/plain": [
       "['Mathematics', 'Abaquc', 'Physics', 'Computer', 'Quantum']"
      ]
     },
     "execution_count": 40,
     "metadata": {},
     "output_type": "execute_result"
    }
   ],
   "source": [
    "s = ['Abaquc', 'Computer', 'Quantum', 'Physics', 'Mathematics']\n",
    "s.sort(key=lambda x: x[1])\n",
    "s"
   ]
  },
  {
   "cell_type": "markdown",
   "metadata": {},
   "source": [
    "### Class  类"
   ]
  },
  {
   "cell_type": "code",
   "execution_count": 48,
   "metadata": {},
   "outputs": [],
   "source": [
    "class Student:\n",
    "    \n",
    "    def __init__(self, name, sex, age, scores={}):\n",
    "        self.name = name\n",
    "        self.sex = sex\n",
    "        self.age = age\n",
    "        self.scores = scores  # scores should be a dict\n",
    "    \n",
    "    def update_score(self, scores):\n",
    "        self.scores.update(scores)\n",
    "    \n",
    "    def averagescore(self):\n",
    "        return sum(self.scores.values()) / len(self.scores)\n",
    "    \n",
    "    def __lt__(self, other):\n",
    "        return self.averagescore() < other.averagescore()\n",
    "\n",
    "        \n",
    "    def __str__(self):\n",
    "        out_str = '-'*30 + '\\n'\n",
    "        first_line = f'Name: {self.name}\\n'\n",
    "        second_line = f'Sex: {self.sex}\\n'\n",
    "        third_line = f'Age: {self.age}\\n'\n",
    "        fourth_line = '-'*30 + '\\n'\n",
    "        fifth_line = f'Average Score: {self.averagescore()}\\n'\n",
    "\n",
    "        return out_str + first_line + second_line + third_line + fourth_line + fifth_line\n",
    "    "
   ]
  },
  {
   "cell_type": "code",
   "execution_count": 49,
   "metadata": {},
   "outputs": [
    {
     "name": "stdout",
     "output_type": "stream",
     "text": [
      "------------------------------\n",
      "Name: Bin\n",
      "Sex: M\n",
      "Age: 26\n",
      "------------------------------\n",
      "Average Score: 100.0\n",
      "\n"
     ]
    }
   ],
   "source": [
    "std1 = Student('Bin', 'M', 26, {'English': 100, 'Fintech': 99})\n",
    "std1.update_score({'Fintech': 100, 'Math': 100})\n",
    "std1.scores\n",
    "print(std1)"
   ]
  },
  {
   "cell_type": "code",
   "execution_count": 52,
   "metadata": {},
   "outputs": [
    {
     "data": {
      "text/plain": [
       "False"
      ]
     },
     "execution_count": 52,
     "metadata": {},
     "output_type": "execute_result"
    }
   ],
   "source": [
    "std2 = Student('Alice', 'F', 25, {'English': 99, 'Fintech': 100})\n",
    "std2.averagescore()\n",
    "std1 < std2"
   ]
  },
  {
   "cell_type": "code",
   "execution_count": 54,
   "metadata": {},
   "outputs": [
    {
     "name": "stdout",
     "output_type": "stream",
     "text": [
      "Xiaogou is wangwang.......\n",
      "xiaomao is miaomiao.......\n"
     ]
    }
   ],
   "source": [
    "class Animal():\n",
    "    def __init__(self, name):\n",
    "        self.name = name\n",
    "\n",
    "    def speak(self):\n",
    "        pass\n",
    "\n",
    "class Dog(Animal):\n",
    "    def speak(self):\n",
    "        print(f'{self.name} is wangwang.......')\n",
    "\n",
    "class Cat(Animal):\n",
    "    def speak(self):\n",
    "        print(f'{self.name} is miaomiao.......')\n",
    "\n",
    "dog1 = Dog('Xiaogou')\n",
    "dog1.speak()\n",
    "cat1 = Cat('xiaomao')\n",
    "cat1.speak()"
   ]
  },
  {
   "cell_type": "code",
   "execution_count": 55,
   "metadata": {},
   "outputs": [
    {
     "data": {
      "text/plain": [
       "True"
      ]
     },
     "execution_count": 55,
     "metadata": {},
     "output_type": "execute_result"
    }
   ],
   "source": [
    "issubclass(Dog, Animal)"
   ]
  },
  {
   "cell_type": "code",
   "execution_count": 56,
   "metadata": {},
   "outputs": [
    {
     "data": {
      "text/plain": [
       "False"
      ]
     },
     "execution_count": 56,
     "metadata": {},
     "output_type": "execute_result"
    }
   ],
   "source": [
    "issubclass(Dog, Cat)"
   ]
  },
  {
   "cell_type": "code",
   "execution_count": 57,
   "metadata": {},
   "outputs": [
    {
     "data": {
      "text/plain": [
       "True"
      ]
     },
     "execution_count": 57,
     "metadata": {},
     "output_type": "execute_result"
    }
   ],
   "source": [
    "isinstance(dog1, Dog)"
   ]
  },
  {
   "cell_type": "code",
   "execution_count": 59,
   "metadata": {},
   "outputs": [
    {
     "data": {
      "text/plain": [
       "False"
      ]
     },
     "execution_count": 59,
     "metadata": {},
     "output_type": "execute_result"
    }
   ],
   "source": [
    "hasattr(dog1, 'sex')"
   ]
  },
  {
   "cell_type": "code",
   "execution_count": 60,
   "metadata": {},
   "outputs": [
    {
     "data": {
      "text/plain": [
       "method"
      ]
     },
     "execution_count": 60,
     "metadata": {},
     "output_type": "execute_result"
    }
   ],
   "source": [
    "type(dog1.speak)"
   ]
  },
  {
   "cell_type": "code",
   "execution_count": 61,
   "metadata": {},
   "outputs": [
    {
     "data": {
      "text/plain": [
       "[2, 4, 6, 8, 10, 12, 14, 16, 18, 20]"
      ]
     },
     "execution_count": 61,
     "metadata": {},
     "output_type": "execute_result"
    }
   ],
   "source": [
    "[i for i in range(1, 21) if i % 2 == 0]"
   ]
  },
  {
   "cell_type": "code",
   "execution_count": 63,
   "metadata": {},
   "outputs": [
    {
     "data": {
      "text/plain": [
       "['AMZN', 'AAPL', 'MSFT', 'TSLA']"
      ]
     },
     "execution_count": 63,
     "metadata": {},
     "output_type": "execute_result"
    }
   ],
   "source": [
    "stocks = {'AAPL', 'GOOGL', 'AMZN', 'MSFT', 'TSLA'}\n",
    "[s for s in stocks if len(s) < 5]"
   ]
  },
  {
   "cell_type": "code",
   "execution_count": 64,
   "metadata": {},
   "outputs": [
    {
     "data": {
      "text/plain": [
       "[('Bin', 100), ('Alice', 99), ('Bob', 98), ('Cathy', 97), ('David', 96)]"
      ]
     },
     "execution_count": 64,
     "metadata": {},
     "output_type": "execute_result"
    }
   ],
   "source": [
    "name = ['Bin', 'Alice', 'Bob', 'Cathy', 'David']\n",
    "scores = [100, 99, 98, 97, 96]\n",
    "[(name, scores[i]) for i, name in enumerate(name)]"
   ]
  },
  {
   "cell_type": "code",
   "execution_count": 65,
   "metadata": {},
   "outputs": [
    {
     "data": {
      "text/plain": [
       "[(0, 'Bin'), (1, 'Alice'), (2, 'Bob'), (3, 'Cathy'), (4, 'David')]"
      ]
     },
     "execution_count": 65,
     "metadata": {},
     "output_type": "execute_result"
    }
   ],
   "source": [
    "list(enumerate(name))"
   ]
  },
  {
   "cell_type": "code",
   "execution_count": 66,
   "metadata": {},
   "outputs": [
    {
     "data": {
      "text/plain": [
       "{'Bin': 100, 'Alice': 99, 'Bob': 98}"
      ]
     },
     "execution_count": 66,
     "metadata": {},
     "output_type": "execute_result"
    }
   ],
   "source": [
    "name = ['Bin', 'Alice', 'Bob', 'Cathy', 'David']\n",
    "scores = [100, 99, 98, 97, 96]\n",
    "{name: scores[i] for i, name in enumerate(name) if scores[i] > 97}"
   ]
  },
  {
   "cell_type": "code",
   "execution_count": null,
   "metadata": {},
   "outputs": [],
   "source": [
    "class Yuan():\n",
    "    def  __init__(self, yuanxin, banjing):   # 初始化\n",
    "        self.yuanxin = yuanxin\n",
    "        self.banjing = banjing\n",
    "\n",
    "    def mianji(self):   # 计算面积\n",
    "        return 3.14 * self.banjing**2\n",
    "\n",
    "    def xingqie(self)   # 判断相切\n",
    "\n",
    "    def __str__(self):   # 打印\n"
   ]
  }
 ],
 "metadata": {
  "kernelspec": {
   "display_name": "base",
   "language": "python",
   "name": "python3"
  },
  "language_info": {
   "codemirror_mode": {
    "name": "ipython",
    "version": 3
   },
   "file_extension": ".py",
   "mimetype": "text/x-python",
   "name": "python",
   "nbconvert_exporter": "python",
   "pygments_lexer": "ipython3",
   "version": "3.11.5"
  }
 },
 "nbformat": 4,
 "nbformat_minor": 2
}
