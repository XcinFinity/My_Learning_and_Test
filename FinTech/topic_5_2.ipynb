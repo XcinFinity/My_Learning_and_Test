{
 "cells": [
  {
   "cell_type": "markdown",
   "metadata": {},
   "source": [
    "# Topic 5 - Classwork 2 - Bin Linsheng"
   ]
  },
  {
   "cell_type": "markdown",
   "metadata": {},
   "source": [
    "### Module"
   ]
  },
  {
   "cell_type": "code",
   "execution_count": 2,
   "metadata": {},
   "outputs": [],
   "source": [
    "import mymodule as mm"
   ]
  },
  {
   "cell_type": "code",
   "execution_count": 3,
   "metadata": {},
   "outputs": [
    {
     "data": {
      "text/plain": [
       "['__builtins__',\n",
       " '__cached__',\n",
       " '__doc__',\n",
       " '__file__',\n",
       " '__loader__',\n",
       " '__name__',\n",
       " '__package__',\n",
       " '__spec__',\n",
       " 'decode',\n",
       " 'encode',\n",
       " 'sum2n']"
      ]
     },
     "execution_count": 3,
     "metadata": {},
     "output_type": "execute_result"
    }
   ],
   "source": [
    "dir(mm)"
   ]
  },
  {
   "cell_type": "code",
   "execution_count": 6,
   "metadata": {},
   "outputs": [
    {
     "name": "stdout",
     "output_type": "stream",
     "text": [
      "Help on function sum2n in module mymodule:\n",
      "\n",
      "sum2n(n, m)\n",
      "    To calculate the sum of 1^m + 2^m + ... + n^m\n",
      "    :param n: the upper limit of the sum\n",
      "\n"
     ]
    }
   ],
   "source": [
    "help(mm.sum2n)"
   ]
  },
  {
   "cell_type": "code",
   "execution_count": 7,
   "metadata": {},
   "outputs": [
    {
     "data": {
      "text/plain": [
       "338350"
      ]
     },
     "execution_count": 7,
     "metadata": {},
     "output_type": "execute_result"
    }
   ],
   "source": [
    "mm.sum2n(100, m = 2)"
   ]
  },
  {
   "cell_type": "code",
   "execution_count": 8,
   "metadata": {},
   "outputs": [],
   "source": [
    "from mymodule import encode, decode"
   ]
  },
  {
   "cell_type": "code",
   "execution_count": 9,
   "metadata": {},
   "outputs": [
    {
     "name": "stdout",
     "output_type": "stream",
     "text": [
      "The encode of Bin Linsheng is Cjo Mjotifoh\n"
     ]
    },
    {
     "data": {
      "text/plain": [
       "'Cjo Mjotifoh'"
      ]
     },
     "execution_count": 9,
     "metadata": {},
     "output_type": "execute_result"
    }
   ],
   "source": [
    "encode('Bin Linsheng')"
   ]
  },
  {
   "cell_type": "code",
   "execution_count": 10,
   "metadata": {},
   "outputs": [
    {
     "data": {
      "text/plain": [
       "'Bin Linsheng'"
      ]
     },
     "execution_count": 10,
     "metadata": {},
     "output_type": "execute_result"
    }
   ],
   "source": [
    "decode('Cjo Mjotifoh')"
   ]
  },
  {
   "cell_type": "code",
   "execution_count": 11,
   "metadata": {},
   "outputs": [],
   "source": [
    "from mymodule import *"
   ]
  },
  {
   "cell_type": "code",
   "execution_count": 12,
   "metadata": {},
   "outputs": [
    {
     "data": {
      "text/plain": [
       "25502500"
      ]
     },
     "execution_count": 12,
     "metadata": {},
     "output_type": "execute_result"
    }
   ],
   "source": [
    "sum2n(100, m = 3)"
   ]
  },
  {
   "cell_type": "code",
   "execution_count": 14,
   "metadata": {},
   "outputs": [
    {
     "name": "stdout",
     "output_type": "stream",
     "text": [
      "Collecting yfinance\n",
      "  Obtaining dependency information for yfinance from https://files.pythonhosted.org/packages/a2/1d/1a35edd6943f27ff4b5e2d6ba634e7d1bac2e6f815f8efae0666ac71a68d/yfinance-0.2.46-py2.py3-none-any.whl.metadata\n",
      "  Downloading yfinance-0.2.46-py2.py3-none-any.whl.metadata (13 kB)\n",
      "Requirement already satisfied: pandas>=1.3.0 in /Users/lyndonbin/anaconda3/lib/python3.11/site-packages (from yfinance) (2.0.3)\n",
      "Requirement already satisfied: numpy>=1.16.5 in /Users/lyndonbin/anaconda3/lib/python3.11/site-packages (from yfinance) (1.24.3)\n",
      "Requirement already satisfied: requests>=2.31 in /Users/lyndonbin/anaconda3/lib/python3.11/site-packages (from yfinance) (2.31.0)\n",
      "Collecting multitasking>=0.0.7 (from yfinance)\n",
      "  Obtaining dependency information for multitasking>=0.0.7 from https://files.pythonhosted.org/packages/3e/8a/bb3160e76e844db9e69a413f055818969c8acade64e1a9ac5ce9dfdcf6c1/multitasking-0.0.11-py3-none-any.whl.metadata\n",
      "  Downloading multitasking-0.0.11-py3-none-any.whl.metadata (5.5 kB)\n",
      "Requirement already satisfied: lxml>=4.9.1 in /Users/lyndonbin/anaconda3/lib/python3.11/site-packages (from yfinance) (4.9.3)\n",
      "Requirement already satisfied: platformdirs>=2.0.0 in /Users/lyndonbin/anaconda3/lib/python3.11/site-packages (from yfinance) (3.10.0)\n",
      "Requirement already satisfied: pytz>=2022.5 in /Users/lyndonbin/anaconda3/lib/python3.11/site-packages (from yfinance) (2023.3.post1)\n",
      "Collecting frozendict>=2.3.4 (from yfinance)\n",
      "  Obtaining dependency information for frozendict>=2.3.4 from https://files.pythonhosted.org/packages/04/13/d9839089b900fa7b479cce495d62110cddc4bd5630a04d8469916c0e79c5/frozendict-2.4.6-py311-none-any.whl.metadata\n",
      "  Downloading frozendict-2.4.6-py311-none-any.whl.metadata (23 kB)\n",
      "Collecting peewee>=3.16.2 (from yfinance)\n",
      "  Downloading peewee-3.17.7.tar.gz (939 kB)\n",
      "\u001b[2K     \u001b[90m━━━━━━━━━━━━━━━━━━━━━━━━━━━━━━━━━━━━━━\u001b[0m \u001b[32m939.5/939.5 kB\u001b[0m \u001b[31m10.6 MB/s\u001b[0m eta \u001b[36m0:00:00\u001b[0ma \u001b[36m0:00:01\u001b[0m\n",
      "\u001b[?25h  Installing build dependencies ... \u001b[?25ldone\n",
      "\u001b[?25h  Getting requirements to build wheel ... \u001b[?25ldone\n",
      "\u001b[?25h  Preparing metadata (pyproject.toml) ... \u001b[?25ldone\n",
      "\u001b[?25hRequirement already satisfied: beautifulsoup4>=4.11.1 in /Users/lyndonbin/anaconda3/lib/python3.11/site-packages (from yfinance) (4.12.2)\n",
      "Collecting html5lib>=1.1 (from yfinance)\n",
      "  Obtaining dependency information for html5lib>=1.1 from https://files.pythonhosted.org/packages/6c/dd/a834df6482147d48e225a49515aabc28974ad5a4ca3215c18a882565b028/html5lib-1.1-py2.py3-none-any.whl.metadata\n",
      "  Downloading html5lib-1.1-py2.py3-none-any.whl.metadata (16 kB)\n",
      "Requirement already satisfied: soupsieve>1.2 in /Users/lyndonbin/anaconda3/lib/python3.11/site-packages (from beautifulsoup4>=4.11.1->yfinance) (2.4)\n",
      "Requirement already satisfied: six>=1.9 in /Users/lyndonbin/anaconda3/lib/python3.11/site-packages (from html5lib>=1.1->yfinance) (1.16.0)\n",
      "Requirement already satisfied: webencodings in /Users/lyndonbin/anaconda3/lib/python3.11/site-packages (from html5lib>=1.1->yfinance) (0.5.1)\n",
      "Requirement already satisfied: python-dateutil>=2.8.2 in /Users/lyndonbin/anaconda3/lib/python3.11/site-packages (from pandas>=1.3.0->yfinance) (2.8.2)\n",
      "Requirement already satisfied: tzdata>=2022.1 in /Users/lyndonbin/anaconda3/lib/python3.11/site-packages (from pandas>=1.3.0->yfinance) (2023.3)\n",
      "Requirement already satisfied: charset-normalizer<4,>=2 in /Users/lyndonbin/anaconda3/lib/python3.11/site-packages (from requests>=2.31->yfinance) (2.0.4)\n",
      "Requirement already satisfied: idna<4,>=2.5 in /Users/lyndonbin/anaconda3/lib/python3.11/site-packages (from requests>=2.31->yfinance) (3.4)\n",
      "Requirement already satisfied: urllib3<3,>=1.21.1 in /Users/lyndonbin/anaconda3/lib/python3.11/site-packages (from requests>=2.31->yfinance) (1.26.16)\n",
      "Requirement already satisfied: certifi>=2017.4.17 in /Users/lyndonbin/anaconda3/lib/python3.11/site-packages (from requests>=2.31->yfinance) (2024.8.30)\n",
      "Downloading yfinance-0.2.46-py2.py3-none-any.whl (100 kB)\n",
      "\u001b[2K   \u001b[90m━━━━━━━━━━━━━━━━━━━━━━━━━━━━━━━━━━━━━━━━\u001b[0m \u001b[32m101.0/101.0 kB\u001b[0m \u001b[31m9.8 MB/s\u001b[0m eta \u001b[36m0:00:00\u001b[0m\n",
      "\u001b[?25hDownloading frozendict-2.4.6-py311-none-any.whl (16 kB)\n",
      "Downloading html5lib-1.1-py2.py3-none-any.whl (112 kB)\n",
      "\u001b[2K   \u001b[90m━━━━━━━━━━━━━━━━━━━━━━━━━━━━━━━━━━━━━━━━\u001b[0m \u001b[32m112.2/112.2 kB\u001b[0m \u001b[31m6.0 MB/s\u001b[0m eta \u001b[36m0:00:00\u001b[0m\n",
      "\u001b[?25hDownloading multitasking-0.0.11-py3-none-any.whl (8.5 kB)\n",
      "Building wheels for collected packages: peewee\n",
      "  Building wheel for peewee (pyproject.toml) ... \u001b[?25ldone\n",
      "\u001b[?25h  Created wheel for peewee: filename=peewee-3.17.7-cp311-cp311-macosx_11_0_arm64.whl size=263961 sha256=459562fb9c560a27761f593919f6ac9b4503bc9aa700d7295c8ee99b624bd9bb\n",
      "  Stored in directory: /Users/lyndonbin/Library/Caches/pip/wheels/fd/28/34/9ba1363b76703fe35ae8296af28ea74578a41b83544bb9da65\n",
      "Successfully built peewee\n",
      "Installing collected packages: peewee, multitasking, html5lib, frozendict, yfinance\n",
      "Successfully installed frozendict-2.4.6 html5lib-1.1 multitasking-0.0.11 peewee-3.17.7 yfinance-0.2.46\n"
     ]
    }
   ],
   "source": [
    "# !pip install yfinance"
   ]
  },
  {
   "cell_type": "code",
   "execution_count": 15,
   "metadata": {},
   "outputs": [],
   "source": [
    "import yfinance as yf"
   ]
  },
  {
   "cell_type": "code",
   "execution_count": 32,
   "metadata": {},
   "outputs": [
    {
     "data": {
      "text/plain": [
       "{'address1': 'West Tower',\n",
       " 'address2': 'Room 1807, 18th Floor Shun Tak Centre 168-200 Connaught Road',\n",
       " 'city': 'Central',\n",
       " 'country': 'Hong Kong',\n",
       " 'phone': '852 2330 0333',\n",
       " 'website': 'https://www.richgoldman.com.hk',\n",
       " 'industry': 'Resorts & Casinos',\n",
       " 'industryKey': 'resorts-casinos',\n",
       " 'industryDisp': 'Resorts & Casinos',\n",
       " 'sector': 'Consumer Cyclical',\n",
       " 'sectorKey': 'consumer-cyclical',\n",
       " 'sectorDisp': 'Consumer Cyclical',\n",
       " 'longBusinessSummary': 'Rich Goldman Holdings Limited, an investment holding company, engages in the gaming and entertainment related business in Macau, the People Republic of China, and Hong Kong. It is involved in the money lending activities; hotel operations; and property leasing business. The company was formerly known as Neptune Group Limited and changed its name to Rich Goldman Holdings Limited in September 2017. The company was incorporated in 1972 and is headquartered in Central, Hong Kong.',\n",
       " 'fullTimeEmployees': 81,\n",
       " 'companyOfficers': [{'maxAge': 1,\n",
       "   'name': 'Ms. Yee Man  Lin',\n",
       "   'age': 31,\n",
       "   'title': 'Chairman',\n",
       "   'yearBorn': 1992,\n",
       "   'fiscalYear': 2023,\n",
       "   'totalPay': 153000,\n",
       "   'exercisedValue': 0,\n",
       "   'unexercisedValue': 0},\n",
       "  {'maxAge': 1,\n",
       "   'name': 'Mr. Yick Man  Lam',\n",
       "   'age': 44,\n",
       "   'title': 'Senior Vice President',\n",
       "   'yearBorn': 1979,\n",
       "   'fiscalYear': 2023,\n",
       "   'totalPay': 119000,\n",
       "   'exercisedValue': 0,\n",
       "   'unexercisedValue': 0},\n",
       "  {'maxAge': 1,\n",
       "   'name': 'Mr. Yiwei  Zhang',\n",
       "   'age': 40,\n",
       "   'title': 'Executive Director',\n",
       "   'yearBorn': 1983,\n",
       "   'fiscalYear': 2023,\n",
       "   'totalPay': 549000,\n",
       "   'exercisedValue': 0,\n",
       "   'unexercisedValue': 0},\n",
       "  {'maxAge': 1,\n",
       "   'name': 'Ms. Hei Lu  So',\n",
       "   'title': 'Financial Controller & Company Secretary',\n",
       "   'fiscalYear': 2023,\n",
       "   'exercisedValue': 0,\n",
       "   'unexercisedValue': 0},\n",
       "  {'maxAge': 1,\n",
       "   'name': 'Mr. Hoi Lung  Yip',\n",
       "   'title': 'Director of Technology & Innovation',\n",
       "   'fiscalYear': 2023,\n",
       "   'exercisedValue': 0,\n",
       "   'unexercisedValue': 0}],\n",
       " 'compensationAsOfEpochDate': 1703980800,\n",
       " 'maxAge': 86400,\n",
       " 'priceHint': 3,\n",
       " 'previousClose': 0.056,\n",
       " 'open': 0.062,\n",
       " 'dayLow': 0.059,\n",
       " 'dayHigh': 0.062,\n",
       " 'regularMarketPreviousClose': 0.056,\n",
       " 'regularMarketOpen': 0.062,\n",
       " 'regularMarketDayLow': 0.059,\n",
       " 'regularMarketDayHigh': 0.062,\n",
       " 'beta': 0.442,\n",
       " 'volume': 335000,\n",
       " 'regularMarketVolume': 335000,\n",
       " 'averageVolume': 391017,\n",
       " 'averageVolume10days': 639500,\n",
       " 'averageDailyVolume10Day': 639500,\n",
       " 'bid': 0.053,\n",
       " 'ask': 0.063,\n",
       " 'marketCap': 120206840,\n",
       " 'fiftyTwoWeekLow': 0.033,\n",
       " 'fiftyTwoWeekHigh': 0.083,\n",
       " 'priceToSalesTrailing12Months': 0.94837,\n",
       " 'fiftyDayAverage': 0.04532,\n",
       " 'twoHundredDayAverage': 0.045545,\n",
       " 'currency': 'HKD',\n",
       " 'enterpriseValue': 340121088,\n",
       " 'profitMargins': -0.39830002,\n",
       " 'floatShares': 456321381,\n",
       " 'sharesOutstanding': 1938819968,\n",
       " 'heldPercentInsiders': 0.76464,\n",
       " 'impliedSharesOutstanding': 2010630016,\n",
       " 'bookValue': 0.548,\n",
       " 'priceToBook': 0.11313869,\n",
       " 'lastFiscalYearEnd': 1719705600,\n",
       " 'nextFiscalYearEnd': 1751241600,\n",
       " 'mostRecentQuarter': 1719705600,\n",
       " 'netIncomeToCommon': -50485000,\n",
       " 'trailingEps': -0.03,\n",
       " 'lastSplitFactor': '1:10',\n",
       " 'lastSplitDate': 1463961600,\n",
       " 'enterpriseToRevenue': 2.683,\n",
       " 'enterpriseToEbitda': 56.367,\n",
       " '52WeekChange': -0.017543852,\n",
       " 'SandP52WeekChange': 0.3781594,\n",
       " 'exchange': 'HKG',\n",
       " 'quoteType': 'EQUITY',\n",
       " 'symbol': '0070.HK',\n",
       " 'underlyingSymbol': '0070.HK',\n",
       " 'shortName': 'RICH GOLDMAN',\n",
       " 'longName': 'Rich Goldman Holdings Limited',\n",
       " 'firstTradeDateEpochUtc': 1127957400,\n",
       " 'timeZoneFullName': 'Asia/Hong_Kong',\n",
       " 'timeZoneShortName': 'HKT',\n",
       " 'uuid': '144bcf2a-bfd6-3520-be80-b23562c25db5',\n",
       " 'messageBoardId': 'finmb_4463182',\n",
       " 'gmtOffSetMilliseconds': 28800000,\n",
       " 'currentPrice': 0.062,\n",
       " 'recommendationKey': 'none',\n",
       " 'totalCash': 86347000,\n",
       " 'totalCashPerShare': 0.045,\n",
       " 'ebitda': 6034000,\n",
       " 'totalDebt': 213056000,\n",
       " 'quickRatio': 0.566,\n",
       " 'currentRatio': 1.11,\n",
       " 'totalRevenue': 126751000,\n",
       " 'debtToEquity': 18.263,\n",
       " 'revenuePerShare': 0.065,\n",
       " 'returnOnAssets': -0.00583,\n",
       " 'returnOnEquity': -0.041100003,\n",
       " 'revenueGrowth': 0.193,\n",
       " 'grossMargins': 0.49602002,\n",
       " 'ebitdaMargins': 0.04761,\n",
       " 'operatingMargins': -0.21226999,\n",
       " 'financialCurrency': 'HKD',\n",
       " 'trailingPegRatio': None}"
      ]
     },
     "execution_count": 32,
     "metadata": {},
     "output_type": "execute_result"
    }
   ],
   "source": [
    "ticker = yf.Ticker('0070.HK')\n",
    "ticker.info"
   ]
  },
  {
   "cell_type": "code",
   "execution_count": 34,
   "metadata": {},
   "outputs": [],
   "source": [
    "stockprice = ticker.history(period = '10y')"
   ]
  },
  {
   "cell_type": "code",
   "execution_count": 35,
   "metadata": {},
   "outputs": [
    {
     "data": {
      "text/html": [
       "<div>\n",
       "<style scoped>\n",
       "    .dataframe tbody tr th:only-of-type {\n",
       "        vertical-align: middle;\n",
       "    }\n",
       "\n",
       "    .dataframe tbody tr th {\n",
       "        vertical-align: top;\n",
       "    }\n",
       "\n",
       "    .dataframe thead th {\n",
       "        text-align: right;\n",
       "    }\n",
       "</style>\n",
       "<table border=\"1\" class=\"dataframe\">\n",
       "  <thead>\n",
       "    <tr style=\"text-align: right;\">\n",
       "      <th></th>\n",
       "      <th>Open</th>\n",
       "      <th>High</th>\n",
       "      <th>Low</th>\n",
       "      <th>Close</th>\n",
       "      <th>Volume</th>\n",
       "      <th>Dividends</th>\n",
       "      <th>Stock Splits</th>\n",
       "    </tr>\n",
       "    <tr>\n",
       "      <th>Date</th>\n",
       "      <th></th>\n",
       "      <th></th>\n",
       "      <th></th>\n",
       "      <th></th>\n",
       "      <th></th>\n",
       "      <th></th>\n",
       "      <th></th>\n",
       "    </tr>\n",
       "  </thead>\n",
       "  <tbody>\n",
       "    <tr>\n",
       "      <th>2014-10-22 00:00:00+08:00</th>\n",
       "      <td>1.516285</td>\n",
       "      <td>1.542428</td>\n",
       "      <td>1.507571</td>\n",
       "      <td>1.516285</td>\n",
       "      <td>367213</td>\n",
       "      <td>0.0</td>\n",
       "      <td>0.0</td>\n",
       "    </tr>\n",
       "    <tr>\n",
       "      <th>2014-10-23 00:00:00+08:00</th>\n",
       "      <td>1.507571</td>\n",
       "      <td>1.533714</td>\n",
       "      <td>1.507571</td>\n",
       "      <td>1.507571</td>\n",
       "      <td>522131</td>\n",
       "      <td>0.0</td>\n",
       "      <td>0.0</td>\n",
       "    </tr>\n",
       "    <tr>\n",
       "      <th>2014-10-24 00:00:00+08:00</th>\n",
       "      <td>1.516285</td>\n",
       "      <td>1.542428</td>\n",
       "      <td>1.498857</td>\n",
       "      <td>1.516285</td>\n",
       "      <td>446393</td>\n",
       "      <td>0.0</td>\n",
       "      <td>0.0</td>\n",
       "    </tr>\n",
       "    <tr>\n",
       "      <th>2014-10-27 00:00:00+08:00</th>\n",
       "      <td>1.507571</td>\n",
       "      <td>1.524999</td>\n",
       "      <td>1.498857</td>\n",
       "      <td>1.507571</td>\n",
       "      <td>594426</td>\n",
       "      <td>0.0</td>\n",
       "      <td>0.0</td>\n",
       "    </tr>\n",
       "    <tr>\n",
       "      <th>2014-10-28 00:00:00+08:00</th>\n",
       "      <td>1.498857</td>\n",
       "      <td>1.524999</td>\n",
       "      <td>1.490142</td>\n",
       "      <td>1.516285</td>\n",
       "      <td>861803</td>\n",
       "      <td>0.0</td>\n",
       "      <td>0.0</td>\n",
       "    </tr>\n",
       "    <tr>\n",
       "      <th>...</th>\n",
       "      <td>...</td>\n",
       "      <td>...</td>\n",
       "      <td>...</td>\n",
       "      <td>...</td>\n",
       "      <td>...</td>\n",
       "      <td>...</td>\n",
       "      <td>...</td>\n",
       "    </tr>\n",
       "    <tr>\n",
       "      <th>2024-10-16 00:00:00+08:00</th>\n",
       "      <td>0.050000</td>\n",
       "      <td>0.054000</td>\n",
       "      <td>0.050000</td>\n",
       "      <td>0.054000</td>\n",
       "      <td>70000</td>\n",
       "      <td>0.0</td>\n",
       "      <td>0.0</td>\n",
       "    </tr>\n",
       "    <tr>\n",
       "      <th>2024-10-17 00:00:00+08:00</th>\n",
       "      <td>0.055000</td>\n",
       "      <td>0.062000</td>\n",
       "      <td>0.055000</td>\n",
       "      <td>0.056000</td>\n",
       "      <td>240000</td>\n",
       "      <td>0.0</td>\n",
       "      <td>0.0</td>\n",
       "    </tr>\n",
       "    <tr>\n",
       "      <th>2024-10-18 00:00:00+08:00</th>\n",
       "      <td>0.056000</td>\n",
       "      <td>0.056000</td>\n",
       "      <td>0.056000</td>\n",
       "      <td>0.056000</td>\n",
       "      <td>0</td>\n",
       "      <td>0.0</td>\n",
       "      <td>0.0</td>\n",
       "    </tr>\n",
       "    <tr>\n",
       "      <th>2024-10-21 00:00:00+08:00</th>\n",
       "      <td>0.056000</td>\n",
       "      <td>0.056000</td>\n",
       "      <td>0.056000</td>\n",
       "      <td>0.056000</td>\n",
       "      <td>0</td>\n",
       "      <td>0.0</td>\n",
       "      <td>0.0</td>\n",
       "    </tr>\n",
       "    <tr>\n",
       "      <th>2024-10-22 00:00:00+08:00</th>\n",
       "      <td>0.062000</td>\n",
       "      <td>0.062000</td>\n",
       "      <td>0.059000</td>\n",
       "      <td>0.062000</td>\n",
       "      <td>335000</td>\n",
       "      <td>0.0</td>\n",
       "      <td>0.0</td>\n",
       "    </tr>\n",
       "  </tbody>\n",
       "</table>\n",
       "<p>2463 rows × 7 columns</p>\n",
       "</div>"
      ],
      "text/plain": [
       "                               Open      High       Low     Close  Volume  \\\n",
       "Date                                                                        \n",
       "2014-10-22 00:00:00+08:00  1.516285  1.542428  1.507571  1.516285  367213   \n",
       "2014-10-23 00:00:00+08:00  1.507571  1.533714  1.507571  1.507571  522131   \n",
       "2014-10-24 00:00:00+08:00  1.516285  1.542428  1.498857  1.516285  446393   \n",
       "2014-10-27 00:00:00+08:00  1.507571  1.524999  1.498857  1.507571  594426   \n",
       "2014-10-28 00:00:00+08:00  1.498857  1.524999  1.490142  1.516285  861803   \n",
       "...                             ...       ...       ...       ...     ...   \n",
       "2024-10-16 00:00:00+08:00  0.050000  0.054000  0.050000  0.054000   70000   \n",
       "2024-10-17 00:00:00+08:00  0.055000  0.062000  0.055000  0.056000  240000   \n",
       "2024-10-18 00:00:00+08:00  0.056000  0.056000  0.056000  0.056000       0   \n",
       "2024-10-21 00:00:00+08:00  0.056000  0.056000  0.056000  0.056000       0   \n",
       "2024-10-22 00:00:00+08:00  0.062000  0.062000  0.059000  0.062000  335000   \n",
       "\n",
       "                           Dividends  Stock Splits  \n",
       "Date                                                \n",
       "2014-10-22 00:00:00+08:00        0.0           0.0  \n",
       "2014-10-23 00:00:00+08:00        0.0           0.0  \n",
       "2014-10-24 00:00:00+08:00        0.0           0.0  \n",
       "2014-10-27 00:00:00+08:00        0.0           0.0  \n",
       "2014-10-28 00:00:00+08:00        0.0           0.0  \n",
       "...                              ...           ...  \n",
       "2024-10-16 00:00:00+08:00        0.0           0.0  \n",
       "2024-10-17 00:00:00+08:00        0.0           0.0  \n",
       "2024-10-18 00:00:00+08:00        0.0           0.0  \n",
       "2024-10-21 00:00:00+08:00        0.0           0.0  \n",
       "2024-10-22 00:00:00+08:00        0.0           0.0  \n",
       "\n",
       "[2463 rows x 7 columns]"
      ]
     },
     "execution_count": 35,
     "metadata": {},
     "output_type": "execute_result"
    }
   ],
   "source": [
    "stockprice"
   ]
  },
  {
   "cell_type": "code",
   "execution_count": 20,
   "metadata": {},
   "outputs": [
    {
     "name": "stdout",
     "output_type": "stream",
     "text": [
      "Requirement already satisfied: matplotlib in /Users/lyndonbin/anaconda3/lib/python3.11/site-packages (3.7.2)\n",
      "Requirement already satisfied: contourpy>=1.0.1 in /Users/lyndonbin/anaconda3/lib/python3.11/site-packages (from matplotlib) (1.0.5)\n",
      "Requirement already satisfied: cycler>=0.10 in /Users/lyndonbin/anaconda3/lib/python3.11/site-packages (from matplotlib) (0.11.0)\n",
      "Requirement already satisfied: fonttools>=4.22.0 in /Users/lyndonbin/anaconda3/lib/python3.11/site-packages (from matplotlib) (4.25.0)\n",
      "Requirement already satisfied: kiwisolver>=1.0.1 in /Users/lyndonbin/anaconda3/lib/python3.11/site-packages (from matplotlib) (1.4.4)\n",
      "Requirement already satisfied: numpy>=1.20 in /Users/lyndonbin/anaconda3/lib/python3.11/site-packages (from matplotlib) (1.24.3)\n",
      "Requirement already satisfied: packaging>=20.0 in /Users/lyndonbin/anaconda3/lib/python3.11/site-packages (from matplotlib) (23.1)\n",
      "Requirement already satisfied: pillow>=6.2.0 in /Users/lyndonbin/anaconda3/lib/python3.11/site-packages (from matplotlib) (10.0.1)\n",
      "Requirement already satisfied: pyparsing<3.1,>=2.3.1 in /Users/lyndonbin/anaconda3/lib/python3.11/site-packages (from matplotlib) (3.0.9)\n",
      "Requirement already satisfied: python-dateutil>=2.7 in /Users/lyndonbin/anaconda3/lib/python3.11/site-packages (from matplotlib) (2.8.2)\n",
      "Requirement already satisfied: six>=1.5 in /Users/lyndonbin/anaconda3/lib/python3.11/site-packages (from python-dateutil>=2.7->matplotlib) (1.16.0)\n"
     ]
    }
   ],
   "source": [
    "# !pip install matplotlib"
   ]
  },
  {
   "cell_type": "code",
   "execution_count": 24,
   "metadata": {},
   "outputs": [
    {
     "data": {
      "text/plain": [
       "<Axes: xlabel='Date'>"
      ]
     },
     "execution_count": 24,
     "metadata": {},
     "output_type": "execute_result"
    },
    {
     "data": {
      "image/png": "[encoded data removed]",
      "text/plain": [
       "<Figure size 640x480 with 1 Axes>"
      ]
     },
     "metadata": {},
     "output_type": "display_data"
    }
   ],
   "source": [
    "stockprice.Close.plot()"
   ]
  },
  {
   "cell_type": "code",
   "execution_count": 25,
   "metadata": {},
   "outputs": [],
   "source": [
    "stockprice.to_csv('/Users/lyndonbin/Downloads/VS_Code/Learning-Code/FinTech/stockprice.csv', index = True)"
   ]
  },
  {
   "cell_type": "markdown",
   "metadata": {},
   "source": [
    "### File"
   ]
  },
  {
   "cell_type": "code",
   "execution_count": 36,
   "metadata": {},
   "outputs": [],
   "source": [
    "stdinfo = \"\"\"Student Information\n",
    "Name: Bin Linsheng\n",
    "Sex: Sex\n",
    "--------------\n",
    "Average Score: 90\n",
    "\"\"\"\n",
    "\n",
    "output = open('student.txt', 'w')\n",
    "output.write(stdinfo)\n",
    "output.close()"
   ]
  },
  {
   "cell_type": "code",
   "execution_count": 40,
   "metadata": {},
   "outputs": [
    {
     "name": "stdout",
     "output_type": "stream",
     "text": [
      "Student Information\n",
      "Name: Bin Linsheng\n",
      "Sex: Sex\n",
      "--------------\n",
      "Average Score: 90\n"
     ]
    }
   ],
   "source": [
    "file = open('student.txt', 'r')\n",
    "for line in file.readlines():\n",
    "    print(line, end = '')\n",
    "file.close()"
   ]
  },
  {
   "cell_type": "code",
   "execution_count": 44,
   "metadata": {},
   "outputs": [
    {
     "ename": "ValueError",
     "evalue": "I/O operation on closed file.",
     "output_type": "error",
     "traceback": [
      "\u001b[0;31m---------------------------------------------------------------------------\u001b[0m",
      "\u001b[0;31mValueError\u001b[0m                                Traceback (most recent call last)",
      "Cell \u001b[0;32mIn[44], line 1\u001b[0m\n\u001b[0;32m----> 1\u001b[0m file\u001b[38;5;241m.\u001b[39mseek(\u001b[38;5;241m0\u001b[39m)\n\u001b[1;32m      2\u001b[0m \u001b[38;5;28mprint\u001b[39m(file\u001b[38;5;241m.\u001b[39mreadline(), end\u001b[38;5;241m=\u001b[39m\u001b[38;5;124m'\u001b[39m\u001b[38;5;124m'\u001b[39m)\n\u001b[1;32m      3\u001b[0m file\u001b[38;5;241m.\u001b[39mclose()\n",
      "\u001b[0;31mValueError\u001b[0m: I/O operation on closed file."
     ]
    }
   ],
   "source": [
    "file.seek(0)\n",
    "print(file.readline(), end='')\n",
    "file.close()"
   ]
  },
  {
   "cell_type": "code",
   "execution_count": 45,
   "metadata": {},
   "outputs": [
    {
     "name": "stdout",
     "output_type": "stream",
     "text": [
      "Student Information\n",
      "Name: Bin Linsheng\n",
      "Sex: Sex\n",
      "--------------\n",
      "Average Score: 90\n"
     ]
    }
   ],
   "source": [
    "with open('student.txt', 'r') as f:\n",
    "    for line in f:\n",
    "        print(line, end = '')"
   ]
  },
  {
   "cell_type": "code",
   "execution_count": 46,
   "metadata": {},
   "outputs": [],
   "source": [
    "scores = {'English': 90, 'FinTech': 95, 'Python': 100}\n",
    "with open('scores.txt', 'w') as f:\n",
    "    f.write(str(scores))"
   ]
  },
  {
   "cell_type": "code",
   "execution_count": 48,
   "metadata": {},
   "outputs": [
    {
     "data": {
      "text/plain": [
       "\"{'English': 90, 'FinTech': 95, 'Python': 100}\""
      ]
     },
     "execution_count": 48,
     "metadata": {},
     "output_type": "execute_result"
    }
   ],
   "source": [
    "with open('scores.txt', 'r') as f:\n",
    "    scores = f.read()\n",
    "\n",
    "scores"
   ]
  },
  {
   "cell_type": "code",
   "execution_count": 55,
   "metadata": {},
   "outputs": [
    {
     "data": {
      "text/plain": [
       "{\"'English'\": 90, \" 'FinTech'\": 95, \" 'Python'\": 100}"
      ]
     },
     "execution_count": 55,
     "metadata": {},
     "output_type": "execute_result"
    }
   ],
   "source": [
    "dice_score = {}\n",
    "for item in scores[1:-1].split(','):\n",
    "    key, value = item.split(':')\n",
    "    dice_score[key] = int(value)\n",
    "\n",
    "dice_score"
   ]
  },
  {
   "cell_type": "code",
   "execution_count": 51,
   "metadata": {},
   "outputs": [],
   "source": [
    "import pickle"
   ]
  },
  {
   "cell_type": "code",
   "execution_count": 58,
   "metadata": {},
   "outputs": [],
   "source": [
    "with open('scores.pkl', 'wb') as f:\n",
    "    pickle.dump(dice_score, f)"
   ]
  },
  {
   "cell_type": "code",
   "execution_count": 59,
   "metadata": {},
   "outputs": [
    {
     "data": {
      "text/plain": [
       "{\"'English'\": 90, \" 'FinTech'\": 95, \" 'Python'\": 100}"
      ]
     },
     "execution_count": 59,
     "metadata": {},
     "output_type": "execute_result"
    }
   ],
   "source": [
    "with open('scores.pkl', 'rb') as f:\n",
    "    new_scores = pickle.load(f)\n",
    "\n",
    "new_scores"
   ]
  },
  {
   "cell_type": "code",
   "execution_count": 60,
   "metadata": {},
   "outputs": [],
   "source": [
    "with open('stockprice.plk', 'wb') as f:\n",
    "    pickle.dump(stockprice, f)"
   ]
  },
  {
   "cell_type": "code",
   "execution_count": 61,
   "metadata": {},
   "outputs": [
    {
     "data": {
      "text/html": [
       "<div>\n",
       "<style scoped>\n",
       "    .dataframe tbody tr th:only-of-type {\n",
       "        vertical-align: middle;\n",
       "    }\n",
       "\n",
       "    .dataframe tbody tr th {\n",
       "        vertical-align: top;\n",
       "    }\n",
       "\n",
       "    .dataframe thead th {\n",
       "        text-align: right;\n",
       "    }\n",
       "</style>\n",
       "<table border=\"1\" class=\"dataframe\">\n",
       "  <thead>\n",
       "    <tr style=\"text-align: right;\">\n",
       "      <th></th>\n",
       "      <th>Open</th>\n",
       "      <th>High</th>\n",
       "      <th>Low</th>\n",
       "      <th>Close</th>\n",
       "      <th>Volume</th>\n",
       "      <th>Dividends</th>\n",
       "      <th>Stock Splits</th>\n",
       "    </tr>\n",
       "    <tr>\n",
       "      <th>Date</th>\n",
       "      <th></th>\n",
       "      <th></th>\n",
       "      <th></th>\n",
       "      <th></th>\n",
       "      <th></th>\n",
       "      <th></th>\n",
       "      <th></th>\n",
       "    </tr>\n",
       "  </thead>\n",
       "  <tbody>\n",
       "    <tr>\n",
       "      <th>2014-10-22 00:00:00+08:00</th>\n",
       "      <td>1.516285</td>\n",
       "      <td>1.542428</td>\n",
       "      <td>1.507571</td>\n",
       "      <td>1.516285</td>\n",
       "      <td>367213</td>\n",
       "      <td>0.0</td>\n",
       "      <td>0.0</td>\n",
       "    </tr>\n",
       "    <tr>\n",
       "      <th>2014-10-23 00:00:00+08:00</th>\n",
       "      <td>1.507571</td>\n",
       "      <td>1.533714</td>\n",
       "      <td>1.507571</td>\n",
       "      <td>1.507571</td>\n",
       "      <td>522131</td>\n",
       "      <td>0.0</td>\n",
       "      <td>0.0</td>\n",
       "    </tr>\n",
       "    <tr>\n",
       "      <th>2014-10-24 00:00:00+08:00</th>\n",
       "      <td>1.516285</td>\n",
       "      <td>1.542428</td>\n",
       "      <td>1.498857</td>\n",
       "      <td>1.516285</td>\n",
       "      <td>446393</td>\n",
       "      <td>0.0</td>\n",
       "      <td>0.0</td>\n",
       "    </tr>\n",
       "    <tr>\n",
       "      <th>2014-10-27 00:00:00+08:00</th>\n",
       "      <td>1.507571</td>\n",
       "      <td>1.524999</td>\n",
       "      <td>1.498857</td>\n",
       "      <td>1.507571</td>\n",
       "      <td>594426</td>\n",
       "      <td>0.0</td>\n",
       "      <td>0.0</td>\n",
       "    </tr>\n",
       "    <tr>\n",
       "      <th>2014-10-28 00:00:00+08:00</th>\n",
       "      <td>1.498857</td>\n",
       "      <td>1.524999</td>\n",
       "      <td>1.490142</td>\n",
       "      <td>1.516285</td>\n",
       "      <td>861803</td>\n",
       "      <td>0.0</td>\n",
       "      <td>0.0</td>\n",
       "    </tr>\n",
       "    <tr>\n",
       "      <th>...</th>\n",
       "      <td>...</td>\n",
       "      <td>...</td>\n",
       "      <td>...</td>\n",
       "      <td>...</td>\n",
       "      <td>...</td>\n",
       "      <td>...</td>\n",
       "      <td>...</td>\n",
       "    </tr>\n",
       "    <tr>\n",
       "      <th>2024-10-16 00:00:00+08:00</th>\n",
       "      <td>0.050000</td>\n",
       "      <td>0.054000</td>\n",
       "      <td>0.050000</td>\n",
       "      <td>0.054000</td>\n",
       "      <td>70000</td>\n",
       "      <td>0.0</td>\n",
       "      <td>0.0</td>\n",
       "    </tr>\n",
       "    <tr>\n",
       "      <th>2024-10-17 00:00:00+08:00</th>\n",
       "      <td>0.055000</td>\n",
       "      <td>0.062000</td>\n",
       "      <td>0.055000</td>\n",
       "      <td>0.056000</td>\n",
       "      <td>240000</td>\n",
       "      <td>0.0</td>\n",
       "      <td>0.0</td>\n",
       "    </tr>\n",
       "    <tr>\n",
       "      <th>2024-10-18 00:00:00+08:00</th>\n",
       "      <td>0.056000</td>\n",
       "      <td>0.056000</td>\n",
       "      <td>0.056000</td>\n",
       "      <td>0.056000</td>\n",
       "      <td>0</td>\n",
       "      <td>0.0</td>\n",
       "      <td>0.0</td>\n",
       "    </tr>\n",
       "    <tr>\n",
       "      <th>2024-10-21 00:00:00+08:00</th>\n",
       "      <td>0.056000</td>\n",
       "      <td>0.056000</td>\n",
       "      <td>0.056000</td>\n",
       "      <td>0.056000</td>\n",
       "      <td>0</td>\n",
       "      <td>0.0</td>\n",
       "      <td>0.0</td>\n",
       "    </tr>\n",
       "    <tr>\n",
       "      <th>2024-10-22 00:00:00+08:00</th>\n",
       "      <td>0.062000</td>\n",
       "      <td>0.062000</td>\n",
       "      <td>0.059000</td>\n",
       "      <td>0.062000</td>\n",
       "      <td>335000</td>\n",
       "      <td>0.0</td>\n",
       "      <td>0.0</td>\n",
       "    </tr>\n",
       "  </tbody>\n",
       "</table>\n",
       "<p>2463 rows × 7 columns</p>\n",
       "</div>"
      ],
      "text/plain": [
       "                               Open      High       Low     Close  Volume  \\\n",
       "Date                                                                        \n",
       "2014-10-22 00:00:00+08:00  1.516285  1.542428  1.507571  1.516285  367213   \n",
       "2014-10-23 00:00:00+08:00  1.507571  1.533714  1.507571  1.507571  522131   \n",
       "2014-10-24 00:00:00+08:00  1.516285  1.542428  1.498857  1.516285  446393   \n",
       "2014-10-27 00:00:00+08:00  1.507571  1.524999  1.498857  1.507571  594426   \n",
       "2014-10-28 00:00:00+08:00  1.498857  1.524999  1.490142  1.516285  861803   \n",
       "...                             ...       ...       ...       ...     ...   \n",
       "2024-10-16 00:00:00+08:00  0.050000  0.054000  0.050000  0.054000   70000   \n",
       "2024-10-17 00:00:00+08:00  0.055000  0.062000  0.055000  0.056000  240000   \n",
       "2024-10-18 00:00:00+08:00  0.056000  0.056000  0.056000  0.056000       0   \n",
       "2024-10-21 00:00:00+08:00  0.056000  0.056000  0.056000  0.056000       0   \n",
       "2024-10-22 00:00:00+08:00  0.062000  0.062000  0.059000  0.062000  335000   \n",
       "\n",
       "                           Dividends  Stock Splits  \n",
       "Date                                                \n",
       "2014-10-22 00:00:00+08:00        0.0           0.0  \n",
       "2014-10-23 00:00:00+08:00        0.0           0.0  \n",
       "2014-10-24 00:00:00+08:00        0.0           0.0  \n",
       "2014-10-27 00:00:00+08:00        0.0           0.0  \n",
       "2014-10-28 00:00:00+08:00        0.0           0.0  \n",
       "...                              ...           ...  \n",
       "2024-10-16 00:00:00+08:00        0.0           0.0  \n",
       "2024-10-17 00:00:00+08:00        0.0           0.0  \n",
       "2024-10-18 00:00:00+08:00        0.0           0.0  \n",
       "2024-10-21 00:00:00+08:00        0.0           0.0  \n",
       "2024-10-22 00:00:00+08:00        0.0           0.0  \n",
       "\n",
       "[2463 rows x 7 columns]"
      ]
     },
     "execution_count": 61,
     "metadata": {},
     "output_type": "execute_result"
    }
   ],
   "source": [
    "with open('stockprice.plk', 'rb') as f:\n",
    "    new_stockprice = pickle.load(f)\n",
    "\n",
    "new_stockprice"
   ]
  },
  {
   "cell_type": "code",
   "execution_count": 64,
   "metadata": {},
   "outputs": [
    {
     "name": "stdout",
     "output_type": "stream",
     "text": [
      "Requirement already satisfied: pandas in /Users/lyndonbin/anaconda3/lib/python3.11/site-packages (2.0.3)\n",
      "Requirement already satisfied: python-dateutil>=2.8.2 in /Users/lyndonbin/anaconda3/lib/python3.11/site-packages (from pandas) (2.8.2)\n",
      "Requirement already satisfied: pytz>=2020.1 in /Users/lyndonbin/anaconda3/lib/python3.11/site-packages (from pandas) (2023.3.post1)\n",
      "Requirement already satisfied: tzdata>=2022.1 in /Users/lyndonbin/anaconda3/lib/python3.11/site-packages (from pandas) (2023.3)\n",
      "Requirement already satisfied: numpy>=1.21.0 in /Users/lyndonbin/anaconda3/lib/python3.11/site-packages (from pandas) (1.24.3)\n",
      "Requirement already satisfied: six>=1.5 in /Users/lyndonbin/anaconda3/lib/python3.11/site-packages (from python-dateutil>=2.8.2->pandas) (1.16.0)\n"
     ]
    }
   ],
   "source": [
    "!pip install pandas"
   ]
  },
  {
   "cell_type": "code",
   "execution_count": 63,
   "metadata": {},
   "outputs": [
    {
     "data": {
      "text/html": [
       "<div>\n",
       "<style scoped>\n",
       "    .dataframe tbody tr th:only-of-type {\n",
       "        vertical-align: middle;\n",
       "    }\n",
       "\n",
       "    .dataframe tbody tr th {\n",
       "        vertical-align: top;\n",
       "    }\n",
       "\n",
       "    .dataframe thead th {\n",
       "        text-align: right;\n",
       "    }\n",
       "</style>\n",
       "<table border=\"1\" class=\"dataframe\">\n",
       "  <thead>\n",
       "    <tr style=\"text-align: right;\">\n",
       "      <th></th>\n",
       "      <th>Date</th>\n",
       "      <th>Open</th>\n",
       "      <th>High</th>\n",
       "      <th>Low</th>\n",
       "      <th>Close</th>\n",
       "      <th>Volume</th>\n",
       "      <th>Dividends</th>\n",
       "      <th>Stock Splits</th>\n",
       "    </tr>\n",
       "  </thead>\n",
       "  <tbody>\n",
       "    <tr>\n",
       "      <th>0</th>\n",
       "      <td>2014-10-22 00:00:00+08:00</td>\n",
       "      <td>104.504347</td>\n",
       "      <td>105.832789</td>\n",
       "      <td>103.618713</td>\n",
       "      <td>105.655663</td>\n",
       "      <td>19000589</td>\n",
       "      <td>0.0</td>\n",
       "      <td>0.0</td>\n",
       "    </tr>\n",
       "    <tr>\n",
       "      <th>1</th>\n",
       "      <td>2014-10-23 00:00:00+08:00</td>\n",
       "      <td>105.655666</td>\n",
       "      <td>106.187046</td>\n",
       "      <td>105.035730</td>\n",
       "      <td>105.921356</td>\n",
       "      <td>14146922</td>\n",
       "      <td>0.0</td>\n",
       "      <td>0.0</td>\n",
       "    </tr>\n",
       "    <tr>\n",
       "      <th>2</th>\n",
       "      <td>2014-10-24 00:00:00+08:00</td>\n",
       "      <td>107.604053</td>\n",
       "      <td>107.604053</td>\n",
       "      <td>105.212858</td>\n",
       "      <td>105.832794</td>\n",
       "      <td>11862551</td>\n",
       "      <td>0.0</td>\n",
       "      <td>0.0</td>\n",
       "    </tr>\n",
       "    <tr>\n",
       "      <th>3</th>\n",
       "      <td>2014-10-27 00:00:00+08:00</td>\n",
       "      <td>105.389981</td>\n",
       "      <td>105.389981</td>\n",
       "      <td>103.353032</td>\n",
       "      <td>104.592911</td>\n",
       "      <td>13808862</td>\n",
       "      <td>0.0</td>\n",
       "      <td>0.0</td>\n",
       "    </tr>\n",
       "    <tr>\n",
       "      <th>4</th>\n",
       "      <td>2014-10-28 00:00:00+08:00</td>\n",
       "      <td>105.478548</td>\n",
       "      <td>106.629864</td>\n",
       "      <td>104.770041</td>\n",
       "      <td>106.364174</td>\n",
       "      <td>13279274</td>\n",
       "      <td>0.0</td>\n",
       "      <td>0.0</td>\n",
       "    </tr>\n",
       "    <tr>\n",
       "      <th>...</th>\n",
       "      <td>...</td>\n",
       "      <td>...</td>\n",
       "      <td>...</td>\n",
       "      <td>...</td>\n",
       "      <td>...</td>\n",
       "      <td>...</td>\n",
       "      <td>...</td>\n",
       "      <td>...</td>\n",
       "    </tr>\n",
       "    <tr>\n",
       "      <th>2458</th>\n",
       "      <td>2024-10-16 00:00:00+08:00</td>\n",
       "      <td>415.000000</td>\n",
       "      <td>425.799988</td>\n",
       "      <td>412.600006</td>\n",
       "      <td>415.799988</td>\n",
       "      <td>22490256</td>\n",
       "      <td>0.0</td>\n",
       "      <td>0.0</td>\n",
       "    </tr>\n",
       "    <tr>\n",
       "      <th>2459</th>\n",
       "      <td>2024-10-17 00:00:00+08:00</td>\n",
       "      <td>418.000000</td>\n",
       "      <td>426.799988</td>\n",
       "      <td>410.000000</td>\n",
       "      <td>412.600006</td>\n",
       "      <td>16476899</td>\n",
       "      <td>0.0</td>\n",
       "      <td>0.0</td>\n",
       "    </tr>\n",
       "    <tr>\n",
       "      <th>2460</th>\n",
       "      <td>2024-10-18 00:00:00+08:00</td>\n",
       "      <td>412.600006</td>\n",
       "      <td>435.600006</td>\n",
       "      <td>411.399994</td>\n",
       "      <td>430.799988</td>\n",
       "      <td>25963857</td>\n",
       "      <td>0.0</td>\n",
       "      <td>0.0</td>\n",
       "    </tr>\n",
       "    <tr>\n",
       "      <th>2461</th>\n",
       "      <td>2024-10-21 00:00:00+08:00</td>\n",
       "      <td>430.600006</td>\n",
       "      <td>431.399994</td>\n",
       "      <td>419.200012</td>\n",
       "      <td>421.000000</td>\n",
       "      <td>16334100</td>\n",
       "      <td>0.0</td>\n",
       "      <td>0.0</td>\n",
       "    </tr>\n",
       "    <tr>\n",
       "      <th>2462</th>\n",
       "      <td>2024-10-22 00:00:00+08:00</td>\n",
       "      <td>423.200012</td>\n",
       "      <td>423.600006</td>\n",
       "      <td>418.600006</td>\n",
       "      <td>421.200012</td>\n",
       "      <td>2681679</td>\n",
       "      <td>0.0</td>\n",
       "      <td>0.0</td>\n",
       "    </tr>\n",
       "  </tbody>\n",
       "</table>\n",
       "<p>2463 rows × 8 columns</p>\n",
       "</div>"
      ],
      "text/plain": [
       "                           Date        Open        High         Low  \\\n",
       "0     2014-10-22 00:00:00+08:00  104.504347  105.832789  103.618713   \n",
       "1     2014-10-23 00:00:00+08:00  105.655666  106.187046  105.035730   \n",
       "2     2014-10-24 00:00:00+08:00  107.604053  107.604053  105.212858   \n",
       "3     2014-10-27 00:00:00+08:00  105.389981  105.389981  103.353032   \n",
       "4     2014-10-28 00:00:00+08:00  105.478548  106.629864  104.770041   \n",
       "...                         ...         ...         ...         ...   \n",
       "2458  2024-10-16 00:00:00+08:00  415.000000  425.799988  412.600006   \n",
       "2459  2024-10-17 00:00:00+08:00  418.000000  426.799988  410.000000   \n",
       "2460  2024-10-18 00:00:00+08:00  412.600006  435.600006  411.399994   \n",
       "2461  2024-10-21 00:00:00+08:00  430.600006  431.399994  419.200012   \n",
       "2462  2024-10-22 00:00:00+08:00  423.200012  423.600006  418.600006   \n",
       "\n",
       "           Close    Volume  Dividends  Stock Splits  \n",
       "0     105.655663  19000589        0.0           0.0  \n",
       "1     105.921356  14146922        0.0           0.0  \n",
       "2     105.832794  11862551        0.0           0.0  \n",
       "3     104.592911  13808862        0.0           0.0  \n",
       "4     106.364174  13279274        0.0           0.0  \n",
       "...          ...       ...        ...           ...  \n",
       "2458  415.799988  22490256        0.0           0.0  \n",
       "2459  412.600006  16476899        0.0           0.0  \n",
       "2460  430.799988  25963857        0.0           0.0  \n",
       "2461  421.000000  16334100        0.0           0.0  \n",
       "2462  421.200012   2681679        0.0           0.0  \n",
       "\n",
       "[2463 rows x 8 columns]"
      ]
     },
     "execution_count": 63,
     "metadata": {},
     "output_type": "execute_result"
    }
   ],
   "source": [
    "import pandas as pd\n",
    "xxx = pd.read_csv('/Users/lyndonbin/Downloads/VS_Code/Learning-Code/FinTech/stockprice.csv')\n",
    "xxx"
   ]
  },
  {
   "cell_type": "code",
   "execution_count": null,
   "metadata": {},
   "outputs": [],
   "source": []
  }
 ],
 "metadata": {
  "kernelspec": {
   "display_name": "base",
   "language": "python",
   "name": "python3"
  },
  "language_info": {
   "codemirror_mode": {
    "name": "ipython",
    "version": 3
   },
   "file_extension": ".py",
   "mimetype": "text/x-python",
   "name": "python",
   "nbconvert_exporter": "python",
   "pygments_lexer": "ipython3",
   "version": "3.11.5"
  }
 },
 "nbformat": 4,
 "nbformat_minor": 2
}
